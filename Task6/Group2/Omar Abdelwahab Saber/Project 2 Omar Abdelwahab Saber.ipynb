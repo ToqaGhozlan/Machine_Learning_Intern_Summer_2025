{
 "cells": [
  {
   "cell_type": "code",
   "execution_count": 4,
   "id": "4c62e4f7",
   "metadata": {},
   "outputs": [],
   "source": [
    "import numpy as np\n",
    "import pandas as pd\n",
    "import plotly.express as px\n",
    "import plotly.figure_factory as ff\n",
    "import seaborn as sns \n",
    "import matplotlib.pyplot as plt\n",
    "from datasist.structdata import detect_outliers \n",
    "from sklearn.model_selection import train_test_split\n",
    "from sklearn.preprocessing import RobustScaler\n",
    "from imblearn.over_sampling import SMOTE\n",
    "from sklearn.linear_model import LinearRegression\n",
    "from sklearn.ensemble import RandomForestRegressor, GradientBoostingRegressor, AdaBoostRegressor, BaggingRegressor\n",
    "from sklearn.neighbors import KNeighborsRegressor\n",
    "from sklearn.svm import SVR\n",
    "from sklearn.tree import DecisionTreeRegressor\n",
    "from sklearn.metrics import r2_score, mean_squared_error, mean_absolute_error\n",
    "import xgboost as xgb\n",
    "import pickle"
   ]
  },
  {
   "cell_type": "code",
   "execution_count": 5,
   "id": "8114092a",
   "metadata": {},
   "outputs": [],
   "source": [
    "sns.set(rc={\"figure.figsize\": [9,9]}, font_scale=1.5)"
   ]
  },
  {
   "cell_type": "code",
   "execution_count": 6,
   "id": "70e3c88f",
   "metadata": {},
   "outputs": [],
   "source": [
    "df=pd.read_csv(r\"C:\\Users\\omara\\Desktop local\\career\\internship\\cellula\\week 4\\final_internship_data.csv\")"
   ]
  },
  {
   "cell_type": "code",
   "execution_count": 7,
   "id": "46498522",
   "metadata": {},
   "outputs": [
    {
     "data": {
      "text/html": [
       "<div>\n",
       "<style scoped>\n",
       "    .dataframe tbody tr th:only-of-type {\n",
       "        vertical-align: middle;\n",
       "    }\n",
       "\n",
       "    .dataframe tbody tr th {\n",
       "        vertical-align: top;\n",
       "    }\n",
       "\n",
       "    .dataframe thead th {\n",
       "        text-align: right;\n",
       "    }\n",
       "</style>\n",
       "<table border=\"1\" class=\"dataframe\">\n",
       "  <thead>\n",
       "    <tr style=\"text-align: right;\">\n",
       "      <th></th>\n",
       "      <th>User ID</th>\n",
       "      <th>User Name</th>\n",
       "      <th>Driver Name</th>\n",
       "      <th>Car Condition</th>\n",
       "      <th>Weather</th>\n",
       "      <th>Traffic Condition</th>\n",
       "      <th>key</th>\n",
       "      <th>fare_amount</th>\n",
       "      <th>pickup_datetime</th>\n",
       "      <th>pickup_longitude</th>\n",
       "      <th>...</th>\n",
       "      <th>month</th>\n",
       "      <th>weekday</th>\n",
       "      <th>year</th>\n",
       "      <th>jfk_dist</th>\n",
       "      <th>ewr_dist</th>\n",
       "      <th>lga_dist</th>\n",
       "      <th>sol_dist</th>\n",
       "      <th>nyc_dist</th>\n",
       "      <th>distance</th>\n",
       "      <th>bearing</th>\n",
       "    </tr>\n",
       "  </thead>\n",
       "  <tbody>\n",
       "    <tr>\n",
       "      <th>0</th>\n",
       "      <td>KHVrEVlD</td>\n",
       "      <td>Kimberly Adams</td>\n",
       "      <td>Amy Butler</td>\n",
       "      <td>Very Good</td>\n",
       "      <td>windy</td>\n",
       "      <td>Congested Traffic</td>\n",
       "      <td>2009-06-15 17:26:21.0000001</td>\n",
       "      <td>4.5</td>\n",
       "      <td>2009-06-15 17:26:21</td>\n",
       "      <td>-1.288826</td>\n",
       "      <td>...</td>\n",
       "      <td>6</td>\n",
       "      <td>0</td>\n",
       "      <td>2009</td>\n",
       "      <td>20.265840</td>\n",
       "      <td>55.176046</td>\n",
       "      <td>14.342611</td>\n",
       "      <td>34.543548</td>\n",
       "      <td>27.572573</td>\n",
       "      <td>1.030764</td>\n",
       "      <td>-2.918897</td>\n",
       "    </tr>\n",
       "    <tr>\n",
       "      <th>1</th>\n",
       "      <td>lPxIuEri</td>\n",
       "      <td>Justin Tapia</td>\n",
       "      <td>Hannah Zimmerman</td>\n",
       "      <td>Excellent</td>\n",
       "      <td>cloudy</td>\n",
       "      <td>Flow Traffic</td>\n",
       "      <td>2010-01-05 16:52:16.0000002</td>\n",
       "      <td>16.9</td>\n",
       "      <td>2010-01-05 16:52:16</td>\n",
       "      <td>-1.291824</td>\n",
       "      <td>...</td>\n",
       "      <td>1</td>\n",
       "      <td>1</td>\n",
       "      <td>2010</td>\n",
       "      <td>44.667679</td>\n",
       "      <td>31.832358</td>\n",
       "      <td>23.130775</td>\n",
       "      <td>15.125872</td>\n",
       "      <td>8.755732</td>\n",
       "      <td>8.450134</td>\n",
       "      <td>-0.375217</td>\n",
       "    </tr>\n",
       "    <tr>\n",
       "      <th>2</th>\n",
       "      <td>gsVN8JLS</td>\n",
       "      <td>Elizabeth Lopez</td>\n",
       "      <td>Amanda Jackson</td>\n",
       "      <td>Bad</td>\n",
       "      <td>stormy</td>\n",
       "      <td>Congested Traffic</td>\n",
       "      <td>2011-08-18 00:35:00.00000049</td>\n",
       "      <td>5.7</td>\n",
       "      <td>2011-08-18 00:35:00</td>\n",
       "      <td>-1.291242</td>\n",
       "      <td>...</td>\n",
       "      <td>8</td>\n",
       "      <td>3</td>\n",
       "      <td>2011</td>\n",
       "      <td>43.597686</td>\n",
       "      <td>33.712082</td>\n",
       "      <td>19.865289</td>\n",
       "      <td>17.722624</td>\n",
       "      <td>9.847344</td>\n",
       "      <td>1.389525</td>\n",
       "      <td>2.599961</td>\n",
       "    </tr>\n",
       "    <tr>\n",
       "      <th>3</th>\n",
       "      <td>9I7kWFgd</td>\n",
       "      <td>Steven Wilson</td>\n",
       "      <td>Amy Horn</td>\n",
       "      <td>Very Good</td>\n",
       "      <td>stormy</td>\n",
       "      <td>Flow Traffic</td>\n",
       "      <td>2012-04-21 04:30:42.0000001</td>\n",
       "      <td>7.7</td>\n",
       "      <td>2012-04-21 04:30:42</td>\n",
       "      <td>-1.291319</td>\n",
       "      <td>...</td>\n",
       "      <td>4</td>\n",
       "      <td>5</td>\n",
       "      <td>2012</td>\n",
       "      <td>42.642965</td>\n",
       "      <td>32.556289</td>\n",
       "      <td>21.063132</td>\n",
       "      <td>15.738963</td>\n",
       "      <td>7.703421</td>\n",
       "      <td>2.799270</td>\n",
       "      <td>0.133905</td>\n",
       "    </tr>\n",
       "    <tr>\n",
       "      <th>4</th>\n",
       "      <td>8QN5ZaGN</td>\n",
       "      <td>Alexander Andrews</td>\n",
       "      <td>Cassandra Larson</td>\n",
       "      <td>Bad</td>\n",
       "      <td>stormy</td>\n",
       "      <td>Congested Traffic</td>\n",
       "      <td>2010-03-09 07:51:00.000000135</td>\n",
       "      <td>5.3</td>\n",
       "      <td>2010-03-09 07:51:00</td>\n",
       "      <td>-1.290987</td>\n",
       "      <td>...</td>\n",
       "      <td>3</td>\n",
       "      <td>1</td>\n",
       "      <td>2010</td>\n",
       "      <td>43.329953</td>\n",
       "      <td>39.406828</td>\n",
       "      <td>15.219339</td>\n",
       "      <td>23.732406</td>\n",
       "      <td>15.600745</td>\n",
       "      <td>1.999157</td>\n",
       "      <td>-0.502703</td>\n",
       "    </tr>\n",
       "  </tbody>\n",
       "</table>\n",
       "<p>5 rows × 26 columns</p>\n",
       "</div>"
      ],
      "text/plain": [
       "    User ID          User Name       Driver Name Car Condition Weather  \\\n",
       "0  KHVrEVlD     Kimberly Adams        Amy Butler     Very Good   windy   \n",
       "1  lPxIuEri       Justin Tapia  Hannah Zimmerman     Excellent  cloudy   \n",
       "2  gsVN8JLS    Elizabeth Lopez    Amanda Jackson           Bad  stormy   \n",
       "3  9I7kWFgd      Steven Wilson          Amy Horn     Very Good  stormy   \n",
       "4  8QN5ZaGN  Alexander Andrews  Cassandra Larson           Bad  stormy   \n",
       "\n",
       "   Traffic Condition                            key  fare_amount  \\\n",
       "0  Congested Traffic    2009-06-15 17:26:21.0000001          4.5   \n",
       "1       Flow Traffic    2010-01-05 16:52:16.0000002         16.9   \n",
       "2  Congested Traffic   2011-08-18 00:35:00.00000049          5.7   \n",
       "3       Flow Traffic    2012-04-21 04:30:42.0000001          7.7   \n",
       "4  Congested Traffic  2010-03-09 07:51:00.000000135          5.3   \n",
       "\n",
       "       pickup_datetime  pickup_longitude  ...  month  weekday  year  \\\n",
       "0  2009-06-15 17:26:21         -1.288826  ...      6        0  2009   \n",
       "1  2010-01-05 16:52:16         -1.291824  ...      1        1  2010   \n",
       "2  2011-08-18 00:35:00         -1.291242  ...      8        3  2011   \n",
       "3  2012-04-21 04:30:42         -1.291319  ...      4        5  2012   \n",
       "4  2010-03-09 07:51:00         -1.290987  ...      3        1  2010   \n",
       "\n",
       "    jfk_dist   ewr_dist   lga_dist   sol_dist   nyc_dist  distance   bearing  \n",
       "0  20.265840  55.176046  14.342611  34.543548  27.572573  1.030764 -2.918897  \n",
       "1  44.667679  31.832358  23.130775  15.125872   8.755732  8.450134 -0.375217  \n",
       "2  43.597686  33.712082  19.865289  17.722624   9.847344  1.389525  2.599961  \n",
       "3  42.642965  32.556289  21.063132  15.738963   7.703421  2.799270  0.133905  \n",
       "4  43.329953  39.406828  15.219339  23.732406  15.600745  1.999157 -0.502703  \n",
       "\n",
       "[5 rows x 26 columns]"
      ]
     },
     "execution_count": 7,
     "metadata": {},
     "output_type": "execute_result"
    }
   ],
   "source": [
    "df.head()"
   ]
  },
  {
   "cell_type": "code",
   "execution_count": 8,
   "id": "890c4ca3",
   "metadata": {},
   "outputs": [
    {
     "data": {
      "text/plain": [
       "Index(['User ID', 'User Name', 'Driver Name', 'Car Condition', 'Weather',\n",
       "       'Traffic Condition', 'key', 'fare_amount', 'pickup_datetime',\n",
       "       'pickup_longitude', 'pickup_latitude', 'dropoff_longitude',\n",
       "       'dropoff_latitude', 'passenger_count', 'hour', 'day', 'month',\n",
       "       'weekday', 'year', 'jfk_dist', 'ewr_dist', 'lga_dist', 'sol_dist',\n",
       "       'nyc_dist', 'distance', 'bearing'],\n",
       "      dtype='object')"
      ]
     },
     "execution_count": 8,
     "metadata": {},
     "output_type": "execute_result"
    }
   ],
   "source": [
    "df.columns"
   ]
  },
  {
   "cell_type": "code",
   "execution_count": 9,
   "id": "b970a4cc",
   "metadata": {},
   "outputs": [
    {
     "name": "stdout",
     "output_type": "stream",
     "text": [
      "<class 'pandas.core.frame.DataFrame'>\n",
      "RangeIndex: 500000 entries, 0 to 499999\n",
      "Data columns (total 26 columns):\n",
      " #   Column             Non-Null Count   Dtype  \n",
      "---  ------             --------------   -----  \n",
      " 0   User ID            500000 non-null  object \n",
      " 1   User Name          500000 non-null  object \n",
      " 2   Driver Name        500000 non-null  object \n",
      " 3   Car Condition      500000 non-null  object \n",
      " 4   Weather            500000 non-null  object \n",
      " 5   Traffic Condition  500000 non-null  object \n",
      " 6   key                500000 non-null  object \n",
      " 7   fare_amount        500000 non-null  float64\n",
      " 8   pickup_datetime    500000 non-null  object \n",
      " 9   pickup_longitude   500000 non-null  float64\n",
      " 10  pickup_latitude    500000 non-null  float64\n",
      " 11  dropoff_longitude  499995 non-null  float64\n",
      " 12  dropoff_latitude   499995 non-null  float64\n",
      " 13  passenger_count    500000 non-null  int64  \n",
      " 14  hour               500000 non-null  int64  \n",
      " 15  day                500000 non-null  int64  \n",
      " 16  month              500000 non-null  int64  \n",
      " 17  weekday            500000 non-null  int64  \n",
      " 18  year               500000 non-null  int64  \n",
      " 19  jfk_dist           499995 non-null  float64\n",
      " 20  ewr_dist           499995 non-null  float64\n",
      " 21  lga_dist           499995 non-null  float64\n",
      " 22  sol_dist           499995 non-null  float64\n",
      " 23  nyc_dist           499995 non-null  float64\n",
      " 24  distance           499995 non-null  float64\n",
      " 25  bearing            499995 non-null  float64\n",
      "dtypes: float64(12), int64(6), object(8)\n",
      "memory usage: 99.2+ MB\n"
     ]
    }
   ],
   "source": [
    "df.info()"
   ]
  },
  {
   "cell_type": "code",
   "execution_count": 10,
   "id": "187836bf",
   "metadata": {},
   "outputs": [
    {
     "data": {
      "text/plain": [
       "User ID              0\n",
       "User Name            0\n",
       "Driver Name          0\n",
       "Car Condition        0\n",
       "Weather              0\n",
       "Traffic Condition    0\n",
       "key                  0\n",
       "fare_amount          0\n",
       "pickup_datetime      0\n",
       "pickup_longitude     0\n",
       "pickup_latitude      0\n",
       "dropoff_longitude    5\n",
       "dropoff_latitude     5\n",
       "passenger_count      0\n",
       "hour                 0\n",
       "day                  0\n",
       "month                0\n",
       "weekday              0\n",
       "year                 0\n",
       "jfk_dist             5\n",
       "ewr_dist             5\n",
       "lga_dist             5\n",
       "sol_dist             5\n",
       "nyc_dist             5\n",
       "distance             5\n",
       "bearing              5\n",
       "dtype: int64"
      ]
     },
     "execution_count": 10,
     "metadata": {},
     "output_type": "execute_result"
    }
   ],
   "source": [
    "df.isna().sum()"
   ]
  },
  {
   "cell_type": "code",
   "execution_count": 11,
   "id": "2706f073",
   "metadata": {},
   "outputs": [
    {
     "data": {
      "text/html": [
       "<div>\n",
       "<style scoped>\n",
       "    .dataframe tbody tr th:only-of-type {\n",
       "        vertical-align: middle;\n",
       "    }\n",
       "\n",
       "    .dataframe tbody tr th {\n",
       "        vertical-align: top;\n",
       "    }\n",
       "\n",
       "    .dataframe thead th {\n",
       "        text-align: right;\n",
       "    }\n",
       "</style>\n",
       "<table border=\"1\" class=\"dataframe\">\n",
       "  <thead>\n",
       "    <tr style=\"text-align: right;\">\n",
       "      <th></th>\n",
       "      <th>fare_amount</th>\n",
       "      <th>pickup_longitude</th>\n",
       "      <th>pickup_latitude</th>\n",
       "      <th>dropoff_longitude</th>\n",
       "      <th>dropoff_latitude</th>\n",
       "      <th>passenger_count</th>\n",
       "      <th>hour</th>\n",
       "      <th>day</th>\n",
       "      <th>month</th>\n",
       "      <th>weekday</th>\n",
       "      <th>year</th>\n",
       "      <th>jfk_dist</th>\n",
       "      <th>ewr_dist</th>\n",
       "      <th>lga_dist</th>\n",
       "      <th>sol_dist</th>\n",
       "      <th>nyc_dist</th>\n",
       "      <th>distance</th>\n",
       "      <th>bearing</th>\n",
       "    </tr>\n",
       "  </thead>\n",
       "  <tbody>\n",
       "    <tr>\n",
       "      <th>count</th>\n",
       "      <td>500000.000000</td>\n",
       "      <td>500000.000000</td>\n",
       "      <td>500000.000000</td>\n",
       "      <td>499995.000000</td>\n",
       "      <td>499995.000000</td>\n",
       "      <td>500000.000000</td>\n",
       "      <td>500000.000000</td>\n",
       "      <td>500000.000000</td>\n",
       "      <td>500000.000000</td>\n",
       "      <td>500000.000000</td>\n",
       "      <td>500000.000000</td>\n",
       "      <td>499995.000000</td>\n",
       "      <td>499995.000000</td>\n",
       "      <td>499995.000000</td>\n",
       "      <td>499995.000000</td>\n",
       "      <td>499995.000000</td>\n",
       "      <td>499995.000000</td>\n",
       "      <td>499995.000000</td>\n",
       "    </tr>\n",
       "    <tr>\n",
       "      <th>mean</th>\n",
       "      <td>11.358361</td>\n",
       "      <td>-1.265712</td>\n",
       "      <td>0.696740</td>\n",
       "      <td>-1.265755</td>\n",
       "      <td>0.696675</td>\n",
       "      <td>1.683428</td>\n",
       "      <td>13.510834</td>\n",
       "      <td>15.684206</td>\n",
       "      <td>6.268650</td>\n",
       "      <td>3.042008</td>\n",
       "      <td>2011.739132</td>\n",
       "      <td>385.279367</td>\n",
       "      <td>380.503657</td>\n",
       "      <td>363.843772</td>\n",
       "      <td>363.674038</td>\n",
       "      <td>355.991423</td>\n",
       "      <td>19.468775</td>\n",
       "      <td>0.297145</td>\n",
       "    </tr>\n",
       "    <tr>\n",
       "      <th>std</th>\n",
       "      <td>9.916617</td>\n",
       "      <td>0.206941</td>\n",
       "      <td>0.140909</td>\n",
       "      <td>0.205903</td>\n",
       "      <td>0.128997</td>\n",
       "      <td>1.307395</td>\n",
       "      <td>6.511571</td>\n",
       "      <td>8.681066</td>\n",
       "      <td>3.437815</td>\n",
       "      <td>1.949240</td>\n",
       "      <td>1.860889</td>\n",
       "      <td>2419.087483</td>\n",
       "      <td>2428.804740</td>\n",
       "      <td>2425.075903</td>\n",
       "      <td>2428.348683</td>\n",
       "      <td>2428.730839</td>\n",
       "      <td>367.299601</td>\n",
       "      <td>1.804548</td>\n",
       "    </tr>\n",
       "    <tr>\n",
       "      <th>min</th>\n",
       "      <td>-44.900000</td>\n",
       "      <td>-52.119764</td>\n",
       "      <td>-54.389440</td>\n",
       "      <td>-59.049665</td>\n",
       "      <td>-44.676047</td>\n",
       "      <td>0.000000</td>\n",
       "      <td>0.000000</td>\n",
       "      <td>1.000000</td>\n",
       "      <td>1.000000</td>\n",
       "      <td>0.000000</td>\n",
       "      <td>2009.000000</td>\n",
       "      <td>1.017646</td>\n",
       "      <td>1.460945</td>\n",
       "      <td>0.382119</td>\n",
       "      <td>0.532545</td>\n",
       "      <td>0.080500</td>\n",
       "      <td>0.000000</td>\n",
       "      <td>-3.141593</td>\n",
       "    </tr>\n",
       "    <tr>\n",
       "      <th>25%</th>\n",
       "      <td>6.000000</td>\n",
       "      <td>-1.291405</td>\n",
       "      <td>0.710958</td>\n",
       "      <td>-1.291393</td>\n",
       "      <td>0.710943</td>\n",
       "      <td>1.000000</td>\n",
       "      <td>9.000000</td>\n",
       "      <td>8.000000</td>\n",
       "      <td>3.000000</td>\n",
       "      <td>1.000000</td>\n",
       "      <td>2010.000000</td>\n",
       "      <td>41.341514</td>\n",
       "      <td>32.173712</td>\n",
       "      <td>17.100762</td>\n",
       "      <td>14.886989</td>\n",
       "      <td>7.147384</td>\n",
       "      <td>1.214550</td>\n",
       "      <td>-0.854721</td>\n",
       "    </tr>\n",
       "    <tr>\n",
       "      <th>50%</th>\n",
       "      <td>8.500000</td>\n",
       "      <td>-1.291226</td>\n",
       "      <td>0.711268</td>\n",
       "      <td>-1.291197</td>\n",
       "      <td>0.711277</td>\n",
       "      <td>1.000000</td>\n",
       "      <td>14.000000</td>\n",
       "      <td>16.000000</td>\n",
       "      <td>6.000000</td>\n",
       "      <td>3.000000</td>\n",
       "      <td>2012.000000</td>\n",
       "      <td>42.523163</td>\n",
       "      <td>34.787507</td>\n",
       "      <td>19.591554</td>\n",
       "      <td>18.347580</td>\n",
       "      <td>10.458151</td>\n",
       "      <td>2.116970</td>\n",
       "      <td>-0.050442</td>\n",
       "    </tr>\n",
       "    <tr>\n",
       "      <th>75%</th>\n",
       "      <td>12.500000</td>\n",
       "      <td>-1.290970</td>\n",
       "      <td>0.711520</td>\n",
       "      <td>-1.290908</td>\n",
       "      <td>0.711538</td>\n",
       "      <td>2.000000</td>\n",
       "      <td>19.000000</td>\n",
       "      <td>23.000000</td>\n",
       "      <td>9.000000</td>\n",
       "      <td>5.000000</td>\n",
       "      <td>2013.000000</td>\n",
       "      <td>43.785649</td>\n",
       "      <td>38.304502</td>\n",
       "      <td>22.214815</td>\n",
       "      <td>22.417812</td>\n",
       "      <td>14.448699</td>\n",
       "      <td>3.890070</td>\n",
       "      <td>2.206769</td>\n",
       "    </tr>\n",
       "    <tr>\n",
       "      <th>max</th>\n",
       "      <td>500.000000</td>\n",
       "      <td>37.360538</td>\n",
       "      <td>29.724576</td>\n",
       "      <td>0.712985</td>\n",
       "      <td>7.061893</td>\n",
       "      <td>6.000000</td>\n",
       "      <td>23.000000</td>\n",
       "      <td>31.000000</td>\n",
       "      <td>12.000000</td>\n",
       "      <td>6.000000</td>\n",
       "      <td>2015.000000</td>\n",
       "      <td>30133.067880</td>\n",
       "      <td>30167.595967</td>\n",
       "      <td>30167.285794</td>\n",
       "      <td>30159.407296</td>\n",
       "      <td>30162.285356</td>\n",
       "      <td>12399.956433</td>\n",
       "      <td>3.141593</td>\n",
       "    </tr>\n",
       "  </tbody>\n",
       "</table>\n",
       "</div>"
      ],
      "text/plain": [
       "         fare_amount  pickup_longitude  pickup_latitude  dropoff_longitude  \\\n",
       "count  500000.000000     500000.000000    500000.000000      499995.000000   \n",
       "mean       11.358361         -1.265712         0.696740          -1.265755   \n",
       "std         9.916617          0.206941         0.140909           0.205903   \n",
       "min       -44.900000        -52.119764       -54.389440         -59.049665   \n",
       "25%         6.000000         -1.291405         0.710958          -1.291393   \n",
       "50%         8.500000         -1.291226         0.711268          -1.291197   \n",
       "75%        12.500000         -1.290970         0.711520          -1.290908   \n",
       "max       500.000000         37.360538        29.724576           0.712985   \n",
       "\n",
       "       dropoff_latitude  passenger_count           hour            day  \\\n",
       "count     499995.000000    500000.000000  500000.000000  500000.000000   \n",
       "mean           0.696675         1.683428      13.510834      15.684206   \n",
       "std            0.128997         1.307395       6.511571       8.681066   \n",
       "min          -44.676047         0.000000       0.000000       1.000000   \n",
       "25%            0.710943         1.000000       9.000000       8.000000   \n",
       "50%            0.711277         1.000000      14.000000      16.000000   \n",
       "75%            0.711538         2.000000      19.000000      23.000000   \n",
       "max            7.061893         6.000000      23.000000      31.000000   \n",
       "\n",
       "               month        weekday           year       jfk_dist  \\\n",
       "count  500000.000000  500000.000000  500000.000000  499995.000000   \n",
       "mean        6.268650       3.042008    2011.739132     385.279367   \n",
       "std         3.437815       1.949240       1.860889    2419.087483   \n",
       "min         1.000000       0.000000    2009.000000       1.017646   \n",
       "25%         3.000000       1.000000    2010.000000      41.341514   \n",
       "50%         6.000000       3.000000    2012.000000      42.523163   \n",
       "75%         9.000000       5.000000    2013.000000      43.785649   \n",
       "max        12.000000       6.000000    2015.000000   30133.067880   \n",
       "\n",
       "            ewr_dist       lga_dist       sol_dist       nyc_dist  \\\n",
       "count  499995.000000  499995.000000  499995.000000  499995.000000   \n",
       "mean      380.503657     363.843772     363.674038     355.991423   \n",
       "std      2428.804740    2425.075903    2428.348683    2428.730839   \n",
       "min         1.460945       0.382119       0.532545       0.080500   \n",
       "25%        32.173712      17.100762      14.886989       7.147384   \n",
       "50%        34.787507      19.591554      18.347580      10.458151   \n",
       "75%        38.304502      22.214815      22.417812      14.448699   \n",
       "max     30167.595967   30167.285794   30159.407296   30162.285356   \n",
       "\n",
       "            distance        bearing  \n",
       "count  499995.000000  499995.000000  \n",
       "mean       19.468775       0.297145  \n",
       "std       367.299601       1.804548  \n",
       "min         0.000000      -3.141593  \n",
       "25%         1.214550      -0.854721  \n",
       "50%         2.116970      -0.050442  \n",
       "75%         3.890070       2.206769  \n",
       "max     12399.956433       3.141593  "
      ]
     },
     "execution_count": 11,
     "metadata": {},
     "output_type": "execute_result"
    }
   ],
   "source": [
    "df.describe()"
   ]
  },
  {
   "cell_type": "code",
   "execution_count": 12,
   "id": "f762a80d",
   "metadata": {},
   "outputs": [
    {
     "data": {
      "text/plain": [
       "0"
      ]
     },
     "execution_count": 12,
     "metadata": {},
     "output_type": "execute_result"
    }
   ],
   "source": [
    "df.duplicated().sum()"
   ]
  },
  {
   "cell_type": "code",
   "execution_count": 13,
   "id": "5a171b67",
   "metadata": {},
   "outputs": [
    {
     "data": {
      "text/html": [
       "<div>\n",
       "<style scoped>\n",
       "    .dataframe tbody tr th:only-of-type {\n",
       "        vertical-align: middle;\n",
       "    }\n",
       "\n",
       "    .dataframe tbody tr th {\n",
       "        vertical-align: top;\n",
       "    }\n",
       "\n",
       "    .dataframe thead th {\n",
       "        text-align: right;\n",
       "    }\n",
       "</style>\n",
       "<table border=\"1\" class=\"dataframe\">\n",
       "  <thead>\n",
       "    <tr style=\"text-align: right;\">\n",
       "      <th></th>\n",
       "      <th>User ID</th>\n",
       "      <th>User Name</th>\n",
       "      <th>Driver Name</th>\n",
       "      <th>Car Condition</th>\n",
       "      <th>Weather</th>\n",
       "      <th>Traffic Condition</th>\n",
       "      <th>key</th>\n",
       "      <th>fare_amount</th>\n",
       "      <th>pickup_datetime</th>\n",
       "      <th>pickup_longitude</th>\n",
       "      <th>...</th>\n",
       "      <th>month</th>\n",
       "      <th>weekday</th>\n",
       "      <th>year</th>\n",
       "      <th>jfk_dist</th>\n",
       "      <th>ewr_dist</th>\n",
       "      <th>lga_dist</th>\n",
       "      <th>sol_dist</th>\n",
       "      <th>nyc_dist</th>\n",
       "      <th>distance</th>\n",
       "      <th>bearing</th>\n",
       "    </tr>\n",
       "  </thead>\n",
       "  <tbody>\n",
       "    <tr>\n",
       "      <th>271113</th>\n",
       "      <td>GJ8o01LW</td>\n",
       "      <td>James Davis</td>\n",
       "      <td>Christopher Dunn</td>\n",
       "      <td>Very Good</td>\n",
       "      <td>rainy</td>\n",
       "      <td>Flow Traffic</td>\n",
       "      <td>2012-01-26 20:28:00.000000240</td>\n",
       "      <td>6.5</td>\n",
       "      <td>2012-01-26 20:28:00</td>\n",
       "      <td>-1.291044</td>\n",
       "      <td>...</td>\n",
       "      <td>1</td>\n",
       "      <td>3</td>\n",
       "      <td>2012</td>\n",
       "      <td>43.621992</td>\n",
       "      <td>35.667422</td>\n",
       "      <td>18.219860</td>\n",
       "      <td>19.973691</td>\n",
       "      <td>12.054204</td>\n",
       "      <td>1.484644</td>\n",
       "      <td>1.101867</td>\n",
       "    </tr>\n",
       "    <tr>\n",
       "      <th>455314</th>\n",
       "      <td>ijlHKtEv</td>\n",
       "      <td>Brian Hernandez</td>\n",
       "      <td>Willie Pollard</td>\n",
       "      <td>Bad</td>\n",
       "      <td>windy</td>\n",
       "      <td>Congested Traffic</td>\n",
       "      <td>2012-06-28 23:11:00.000000111</td>\n",
       "      <td>5.3</td>\n",
       "      <td>2012-06-28 23:11:00</td>\n",
       "      <td>-1.291495</td>\n",
       "      <td>...</td>\n",
       "      <td>6</td>\n",
       "      <td>3</td>\n",
       "      <td>2012</td>\n",
       "      <td>41.861373</td>\n",
       "      <td>28.363041</td>\n",
       "      <td>25.696578</td>\n",
       "      <td>9.456898</td>\n",
       "      <td>1.724182</td>\n",
       "      <td>1.648639</td>\n",
       "      <td>2.367440</td>\n",
       "    </tr>\n",
       "    <tr>\n",
       "      <th>92078</th>\n",
       "      <td>GCFC9wW3</td>\n",
       "      <td>Mr. Edward Powell</td>\n",
       "      <td>Brittany Baxter</td>\n",
       "      <td>Good</td>\n",
       "      <td>cloudy</td>\n",
       "      <td>Flow Traffic</td>\n",
       "      <td>2013-04-11 14:24:00.00000022</td>\n",
       "      <td>19.5</td>\n",
       "      <td>2013-04-11 14:24:00</td>\n",
       "      <td>-1.290751</td>\n",
       "      <td>...</td>\n",
       "      <td>4</td>\n",
       "      <td>3</td>\n",
       "      <td>2013</td>\n",
       "      <td>43.748416</td>\n",
       "      <td>37.290036</td>\n",
       "      <td>17.427910</td>\n",
       "      <td>21.469782</td>\n",
       "      <td>13.443987</td>\n",
       "      <td>5.493693</td>\n",
       "      <td>2.570645</td>\n",
       "    </tr>\n",
       "  </tbody>\n",
       "</table>\n",
       "<p>3 rows × 26 columns</p>\n",
       "</div>"
      ],
      "text/plain": [
       "         User ID          User Name       Driver Name Car Condition Weather  \\\n",
       "271113  GJ8o01LW        James Davis  Christopher Dunn     Very Good   rainy   \n",
       "455314  ijlHKtEv    Brian Hernandez    Willie Pollard           Bad   windy   \n",
       "92078   GCFC9wW3  Mr. Edward Powell   Brittany Baxter          Good  cloudy   \n",
       "\n",
       "        Traffic Condition                            key  fare_amount  \\\n",
       "271113       Flow Traffic  2012-01-26 20:28:00.000000240          6.5   \n",
       "455314  Congested Traffic  2012-06-28 23:11:00.000000111          5.3   \n",
       "92078        Flow Traffic   2013-04-11 14:24:00.00000022         19.5   \n",
       "\n",
       "            pickup_datetime  pickup_longitude  ...  month  weekday  year  \\\n",
       "271113  2012-01-26 20:28:00         -1.291044  ...      1        3  2012   \n",
       "455314  2012-06-28 23:11:00         -1.291495  ...      6        3  2012   \n",
       "92078   2013-04-11 14:24:00         -1.290751  ...      4        3  2013   \n",
       "\n",
       "         jfk_dist   ewr_dist   lga_dist   sol_dist   nyc_dist  distance  \\\n",
       "271113  43.621992  35.667422  18.219860  19.973691  12.054204  1.484644   \n",
       "455314  41.861373  28.363041  25.696578   9.456898   1.724182  1.648639   \n",
       "92078   43.748416  37.290036  17.427910  21.469782  13.443987  5.493693   \n",
       "\n",
       "         bearing  \n",
       "271113  1.101867  \n",
       "455314  2.367440  \n",
       "92078   2.570645  \n",
       "\n",
       "[3 rows x 26 columns]"
      ]
     },
     "execution_count": 13,
     "metadata": {},
     "output_type": "execute_result"
    }
   ],
   "source": [
    "df.sample(3)"
   ]
  },
  {
   "cell_type": "code",
   "execution_count": 14,
   "id": "5d3d9d09",
   "metadata": {},
   "outputs": [],
   "source": [
    "df.dropna(axis=0,inplace=True)"
   ]
  },
  {
   "cell_type": "code",
   "execution_count": 15,
   "id": "99b8eadd",
   "metadata": {},
   "outputs": [
    {
     "data": {
      "text/plain": [
       "User ID              0\n",
       "User Name            0\n",
       "Driver Name          0\n",
       "Car Condition        0\n",
       "Weather              0\n",
       "Traffic Condition    0\n",
       "key                  0\n",
       "fare_amount          0\n",
       "pickup_datetime      0\n",
       "pickup_longitude     0\n",
       "pickup_latitude      0\n",
       "dropoff_longitude    0\n",
       "dropoff_latitude     0\n",
       "passenger_count      0\n",
       "hour                 0\n",
       "day                  0\n",
       "month                0\n",
       "weekday              0\n",
       "year                 0\n",
       "jfk_dist             0\n",
       "ewr_dist             0\n",
       "lga_dist             0\n",
       "sol_dist             0\n",
       "nyc_dist             0\n",
       "distance             0\n",
       "bearing              0\n",
       "dtype: int64"
      ]
     },
     "execution_count": 15,
     "metadata": {},
     "output_type": "execute_result"
    }
   ],
   "source": [
    "df.isna().sum()"
   ]
  },
  {
   "cell_type": "code",
   "execution_count": 16,
   "id": "638db432",
   "metadata": {},
   "outputs": [
    {
     "data": {
      "text/plain": [
       "Index(['User ID', 'User Name', 'Driver Name', 'Car Condition', 'Weather',\n",
       "       'Traffic Condition', 'key', 'fare_amount', 'pickup_datetime',\n",
       "       'pickup_longitude', 'pickup_latitude', 'dropoff_longitude',\n",
       "       'dropoff_latitude', 'passenger_count', 'hour', 'day', 'month',\n",
       "       'weekday', 'year', 'jfk_dist', 'ewr_dist', 'lga_dist', 'sol_dist',\n",
       "       'nyc_dist', 'distance', 'bearing'],\n",
       "      dtype='object')"
      ]
     },
     "execution_count": 16,
     "metadata": {},
     "output_type": "execute_result"
    }
   ],
   "source": [
    "df.columns"
   ]
  },
  {
   "cell_type": "code",
   "execution_count": 17,
   "id": "bf12a9af",
   "metadata": {},
   "outputs": [],
   "source": [
    "df.drop([\"key\",\"Driver Name\",\"User Name\",\"User ID\"] , axis=1,inplace=True)\n"
   ]
  },
  {
   "cell_type": "code",
   "execution_count": 18,
   "id": "4658c8ff",
   "metadata": {},
   "outputs": [
    {
     "data": {
      "text/html": [
       "<div>\n",
       "<style scoped>\n",
       "    .dataframe tbody tr th:only-of-type {\n",
       "        vertical-align: middle;\n",
       "    }\n",
       "\n",
       "    .dataframe tbody tr th {\n",
       "        vertical-align: top;\n",
       "    }\n",
       "\n",
       "    .dataframe thead th {\n",
       "        text-align: right;\n",
       "    }\n",
       "</style>\n",
       "<table border=\"1\" class=\"dataframe\">\n",
       "  <thead>\n",
       "    <tr style=\"text-align: right;\">\n",
       "      <th></th>\n",
       "      <th>Car Condition</th>\n",
       "      <th>Weather</th>\n",
       "      <th>Traffic Condition</th>\n",
       "      <th>fare_amount</th>\n",
       "      <th>pickup_datetime</th>\n",
       "      <th>pickup_longitude</th>\n",
       "      <th>pickup_latitude</th>\n",
       "      <th>dropoff_longitude</th>\n",
       "      <th>dropoff_latitude</th>\n",
       "      <th>passenger_count</th>\n",
       "      <th>...</th>\n",
       "      <th>month</th>\n",
       "      <th>weekday</th>\n",
       "      <th>year</th>\n",
       "      <th>jfk_dist</th>\n",
       "      <th>ewr_dist</th>\n",
       "      <th>lga_dist</th>\n",
       "      <th>sol_dist</th>\n",
       "      <th>nyc_dist</th>\n",
       "      <th>distance</th>\n",
       "      <th>bearing</th>\n",
       "    </tr>\n",
       "  </thead>\n",
       "  <tbody>\n",
       "    <tr>\n",
       "      <th>0</th>\n",
       "      <td>Very Good</td>\n",
       "      <td>windy</td>\n",
       "      <td>Congested Traffic</td>\n",
       "      <td>4.5</td>\n",
       "      <td>2009-06-15 17:26:21</td>\n",
       "      <td>-1.288826</td>\n",
       "      <td>0.710721</td>\n",
       "      <td>-1.288779</td>\n",
       "      <td>0.710563</td>\n",
       "      <td>1</td>\n",
       "      <td>...</td>\n",
       "      <td>6</td>\n",
       "      <td>0</td>\n",
       "      <td>2009</td>\n",
       "      <td>20.265840</td>\n",
       "      <td>55.176046</td>\n",
       "      <td>14.342611</td>\n",
       "      <td>34.543548</td>\n",
       "      <td>27.572573</td>\n",
       "      <td>1.030764</td>\n",
       "      <td>-2.918897</td>\n",
       "    </tr>\n",
       "    <tr>\n",
       "      <th>1</th>\n",
       "      <td>Excellent</td>\n",
       "      <td>cloudy</td>\n",
       "      <td>Flow Traffic</td>\n",
       "      <td>16.9</td>\n",
       "      <td>2010-01-05 16:52:16</td>\n",
       "      <td>-1.291824</td>\n",
       "      <td>0.710546</td>\n",
       "      <td>-1.291182</td>\n",
       "      <td>0.711780</td>\n",
       "      <td>1</td>\n",
       "      <td>...</td>\n",
       "      <td>1</td>\n",
       "      <td>1</td>\n",
       "      <td>2010</td>\n",
       "      <td>44.667679</td>\n",
       "      <td>31.832358</td>\n",
       "      <td>23.130775</td>\n",
       "      <td>15.125872</td>\n",
       "      <td>8.755732</td>\n",
       "      <td>8.450134</td>\n",
       "      <td>-0.375217</td>\n",
       "    </tr>\n",
       "    <tr>\n",
       "      <th>2</th>\n",
       "      <td>Bad</td>\n",
       "      <td>stormy</td>\n",
       "      <td>Congested Traffic</td>\n",
       "      <td>5.7</td>\n",
       "      <td>2011-08-18 00:35:00</td>\n",
       "      <td>-1.291242</td>\n",
       "      <td>0.711418</td>\n",
       "      <td>-1.291391</td>\n",
       "      <td>0.711231</td>\n",
       "      <td>2</td>\n",
       "      <td>...</td>\n",
       "      <td>8</td>\n",
       "      <td>3</td>\n",
       "      <td>2011</td>\n",
       "      <td>43.597686</td>\n",
       "      <td>33.712082</td>\n",
       "      <td>19.865289</td>\n",
       "      <td>17.722624</td>\n",
       "      <td>9.847344</td>\n",
       "      <td>1.389525</td>\n",
       "      <td>2.599961</td>\n",
       "    </tr>\n",
       "    <tr>\n",
       "      <th>3</th>\n",
       "      <td>Very Good</td>\n",
       "      <td>stormy</td>\n",
       "      <td>Flow Traffic</td>\n",
       "      <td>7.7</td>\n",
       "      <td>2012-04-21 04:30:42</td>\n",
       "      <td>-1.291319</td>\n",
       "      <td>0.710927</td>\n",
       "      <td>-1.291396</td>\n",
       "      <td>0.711363</td>\n",
       "      <td>1</td>\n",
       "      <td>...</td>\n",
       "      <td>4</td>\n",
       "      <td>5</td>\n",
       "      <td>2012</td>\n",
       "      <td>42.642965</td>\n",
       "      <td>32.556289</td>\n",
       "      <td>21.063132</td>\n",
       "      <td>15.738963</td>\n",
       "      <td>7.703421</td>\n",
       "      <td>2.799270</td>\n",
       "      <td>0.133905</td>\n",
       "    </tr>\n",
       "    <tr>\n",
       "      <th>4</th>\n",
       "      <td>Bad</td>\n",
       "      <td>stormy</td>\n",
       "      <td>Congested Traffic</td>\n",
       "      <td>5.3</td>\n",
       "      <td>2010-03-09 07:51:00</td>\n",
       "      <td>-1.290987</td>\n",
       "      <td>0.711536</td>\n",
       "      <td>-1.290787</td>\n",
       "      <td>0.711811</td>\n",
       "      <td>1</td>\n",
       "      <td>...</td>\n",
       "      <td>3</td>\n",
       "      <td>1</td>\n",
       "      <td>2010</td>\n",
       "      <td>43.329953</td>\n",
       "      <td>39.406828</td>\n",
       "      <td>15.219339</td>\n",
       "      <td>23.732406</td>\n",
       "      <td>15.600745</td>\n",
       "      <td>1.999157</td>\n",
       "      <td>-0.502703</td>\n",
       "    </tr>\n",
       "  </tbody>\n",
       "</table>\n",
       "<p>5 rows × 22 columns</p>\n",
       "</div>"
      ],
      "text/plain": [
       "  Car Condition Weather  Traffic Condition  fare_amount      pickup_datetime  \\\n",
       "0     Very Good   windy  Congested Traffic          4.5  2009-06-15 17:26:21   \n",
       "1     Excellent  cloudy       Flow Traffic         16.9  2010-01-05 16:52:16   \n",
       "2           Bad  stormy  Congested Traffic          5.7  2011-08-18 00:35:00   \n",
       "3     Very Good  stormy       Flow Traffic          7.7  2012-04-21 04:30:42   \n",
       "4           Bad  stormy  Congested Traffic          5.3  2010-03-09 07:51:00   \n",
       "\n",
       "   pickup_longitude  pickup_latitude  dropoff_longitude  dropoff_latitude  \\\n",
       "0         -1.288826         0.710721          -1.288779          0.710563   \n",
       "1         -1.291824         0.710546          -1.291182          0.711780   \n",
       "2         -1.291242         0.711418          -1.291391          0.711231   \n",
       "3         -1.291319         0.710927          -1.291396          0.711363   \n",
       "4         -1.290987         0.711536          -1.290787          0.711811   \n",
       "\n",
       "   passenger_count  ...  month  weekday  year   jfk_dist   ewr_dist  \\\n",
       "0                1  ...      6        0  2009  20.265840  55.176046   \n",
       "1                1  ...      1        1  2010  44.667679  31.832358   \n",
       "2                2  ...      8        3  2011  43.597686  33.712082   \n",
       "3                1  ...      4        5  2012  42.642965  32.556289   \n",
       "4                1  ...      3        1  2010  43.329953  39.406828   \n",
       "\n",
       "    lga_dist   sol_dist   nyc_dist  distance   bearing  \n",
       "0  14.342611  34.543548  27.572573  1.030764 -2.918897  \n",
       "1  23.130775  15.125872   8.755732  8.450134 -0.375217  \n",
       "2  19.865289  17.722624   9.847344  1.389525  2.599961  \n",
       "3  21.063132  15.738963   7.703421  2.799270  0.133905  \n",
       "4  15.219339  23.732406  15.600745  1.999157 -0.502703  \n",
       "\n",
       "[5 rows x 22 columns]"
      ]
     },
     "execution_count": 18,
     "metadata": {},
     "output_type": "execute_result"
    }
   ],
   "source": [
    "df.head()"
   ]
  },
  {
   "cell_type": "code",
   "execution_count": 19,
   "id": "a0ecf5f8",
   "metadata": {},
   "outputs": [],
   "source": [
    "def haversine (lon_1, lon_2, lat_1, lat_2):\n",
    "    \n",
    "    lon_1, lon_2, lat_1, lat_2 = map(np.radians, [lon_1, lon_2, lat_1, lat_2])  \n",
    "    diff_lon = lon_2 - lon_1\n",
    "    diff_lat = lat_2 - lat_1\n",
    "    km = 2 * 6371 * np.arcsin(np.sqrt(np.sin(diff_lat/2.0)**2 + \n",
    "                                      np.cos(lat_1) * np.cos(lat_2) * np.sin(diff_lon/2.0)**2))\n",
    "    return km"
   ]
  },
  {
   "cell_type": "code",
   "execution_count": 20,
   "id": "2fd168e3",
   "metadata": {},
   "outputs": [],
   "source": [
    "df[\"my distance\"] =haversine(df[\"pickup_longitude\"],df[\"dropoff_longitude\"],df[\"pickup_latitude\"],df[\"dropoff_latitude\"])"
   ]
  },
  {
   "cell_type": "code",
   "execution_count": 21,
   "id": "f4f8fd0b",
   "metadata": {},
   "outputs": [
    {
     "data": {
      "text/html": [
       "<div>\n",
       "<style scoped>\n",
       "    .dataframe tbody tr th:only-of-type {\n",
       "        vertical-align: middle;\n",
       "    }\n",
       "\n",
       "    .dataframe tbody tr th {\n",
       "        vertical-align: top;\n",
       "    }\n",
       "\n",
       "    .dataframe thead th {\n",
       "        text-align: right;\n",
       "    }\n",
       "</style>\n",
       "<table border=\"1\" class=\"dataframe\">\n",
       "  <thead>\n",
       "    <tr style=\"text-align: right;\">\n",
       "      <th></th>\n",
       "      <th>Car Condition</th>\n",
       "      <th>Weather</th>\n",
       "      <th>Traffic Condition</th>\n",
       "      <th>fare_amount</th>\n",
       "      <th>pickup_datetime</th>\n",
       "      <th>pickup_longitude</th>\n",
       "      <th>pickup_latitude</th>\n",
       "      <th>dropoff_longitude</th>\n",
       "      <th>dropoff_latitude</th>\n",
       "      <th>passenger_count</th>\n",
       "      <th>...</th>\n",
       "      <th>weekday</th>\n",
       "      <th>year</th>\n",
       "      <th>jfk_dist</th>\n",
       "      <th>ewr_dist</th>\n",
       "      <th>lga_dist</th>\n",
       "      <th>sol_dist</th>\n",
       "      <th>nyc_dist</th>\n",
       "      <th>distance</th>\n",
       "      <th>bearing</th>\n",
       "      <th>my distance</th>\n",
       "    </tr>\n",
       "  </thead>\n",
       "  <tbody>\n",
       "    <tr>\n",
       "      <th>0</th>\n",
       "      <td>Very Good</td>\n",
       "      <td>windy</td>\n",
       "      <td>Congested Traffic</td>\n",
       "      <td>4.5</td>\n",
       "      <td>2009-06-15 17:26:21</td>\n",
       "      <td>-1.288826</td>\n",
       "      <td>0.710721</td>\n",
       "      <td>-1.288779</td>\n",
       "      <td>0.710563</td>\n",
       "      <td>1</td>\n",
       "      <td>...</td>\n",
       "      <td>0</td>\n",
       "      <td>2009</td>\n",
       "      <td>20.265840</td>\n",
       "      <td>55.176046</td>\n",
       "      <td>14.342611</td>\n",
       "      <td>34.543548</td>\n",
       "      <td>27.572573</td>\n",
       "      <td>1.030764</td>\n",
       "      <td>-2.918897</td>\n",
       "      <td>0.018312</td>\n",
       "    </tr>\n",
       "    <tr>\n",
       "      <th>1</th>\n",
       "      <td>Excellent</td>\n",
       "      <td>cloudy</td>\n",
       "      <td>Flow Traffic</td>\n",
       "      <td>16.9</td>\n",
       "      <td>2010-01-05 16:52:16</td>\n",
       "      <td>-1.291824</td>\n",
       "      <td>0.710546</td>\n",
       "      <td>-1.291182</td>\n",
       "      <td>0.711780</td>\n",
       "      <td>1</td>\n",
       "      <td>...</td>\n",
       "      <td>1</td>\n",
       "      <td>2010</td>\n",
       "      <td>44.667679</td>\n",
       "      <td>31.832358</td>\n",
       "      <td>23.130775</td>\n",
       "      <td>15.125872</td>\n",
       "      <td>8.755732</td>\n",
       "      <td>8.450134</td>\n",
       "      <td>-0.375217</td>\n",
       "      <td>0.154664</td>\n",
       "    </tr>\n",
       "    <tr>\n",
       "      <th>2</th>\n",
       "      <td>Bad</td>\n",
       "      <td>stormy</td>\n",
       "      <td>Congested Traffic</td>\n",
       "      <td>5.7</td>\n",
       "      <td>2011-08-18 00:35:00</td>\n",
       "      <td>-1.291242</td>\n",
       "      <td>0.711418</td>\n",
       "      <td>-1.291391</td>\n",
       "      <td>0.711231</td>\n",
       "      <td>2</td>\n",
       "      <td>...</td>\n",
       "      <td>3</td>\n",
       "      <td>2011</td>\n",
       "      <td>43.597686</td>\n",
       "      <td>33.712082</td>\n",
       "      <td>19.865289</td>\n",
       "      <td>17.722624</td>\n",
       "      <td>9.847344</td>\n",
       "      <td>1.389525</td>\n",
       "      <td>2.599961</td>\n",
       "      <td>0.026537</td>\n",
       "    </tr>\n",
       "    <tr>\n",
       "      <th>3</th>\n",
       "      <td>Very Good</td>\n",
       "      <td>stormy</td>\n",
       "      <td>Flow Traffic</td>\n",
       "      <td>7.7</td>\n",
       "      <td>2012-04-21 04:30:42</td>\n",
       "      <td>-1.291319</td>\n",
       "      <td>0.710927</td>\n",
       "      <td>-1.291396</td>\n",
       "      <td>0.711363</td>\n",
       "      <td>1</td>\n",
       "      <td>...</td>\n",
       "      <td>5</td>\n",
       "      <td>2012</td>\n",
       "      <td>42.642965</td>\n",
       "      <td>32.556289</td>\n",
       "      <td>21.063132</td>\n",
       "      <td>15.738963</td>\n",
       "      <td>7.703421</td>\n",
       "      <td>2.799270</td>\n",
       "      <td>0.133905</td>\n",
       "      <td>0.049179</td>\n",
       "    </tr>\n",
       "    <tr>\n",
       "      <th>4</th>\n",
       "      <td>Bad</td>\n",
       "      <td>stormy</td>\n",
       "      <td>Congested Traffic</td>\n",
       "      <td>5.3</td>\n",
       "      <td>2010-03-09 07:51:00</td>\n",
       "      <td>-1.290987</td>\n",
       "      <td>0.711536</td>\n",
       "      <td>-1.290787</td>\n",
       "      <td>0.711811</td>\n",
       "      <td>1</td>\n",
       "      <td>...</td>\n",
       "      <td>1</td>\n",
       "      <td>2010</td>\n",
       "      <td>43.329953</td>\n",
       "      <td>39.406828</td>\n",
       "      <td>15.219339</td>\n",
       "      <td>23.732406</td>\n",
       "      <td>15.600745</td>\n",
       "      <td>1.999157</td>\n",
       "      <td>-0.502703</td>\n",
       "      <td>0.037784</td>\n",
       "    </tr>\n",
       "  </tbody>\n",
       "</table>\n",
       "<p>5 rows × 23 columns</p>\n",
       "</div>"
      ],
      "text/plain": [
       "  Car Condition Weather  Traffic Condition  fare_amount      pickup_datetime  \\\n",
       "0     Very Good   windy  Congested Traffic          4.5  2009-06-15 17:26:21   \n",
       "1     Excellent  cloudy       Flow Traffic         16.9  2010-01-05 16:52:16   \n",
       "2           Bad  stormy  Congested Traffic          5.7  2011-08-18 00:35:00   \n",
       "3     Very Good  stormy       Flow Traffic          7.7  2012-04-21 04:30:42   \n",
       "4           Bad  stormy  Congested Traffic          5.3  2010-03-09 07:51:00   \n",
       "\n",
       "   pickup_longitude  pickup_latitude  dropoff_longitude  dropoff_latitude  \\\n",
       "0         -1.288826         0.710721          -1.288779          0.710563   \n",
       "1         -1.291824         0.710546          -1.291182          0.711780   \n",
       "2         -1.291242         0.711418          -1.291391          0.711231   \n",
       "3         -1.291319         0.710927          -1.291396          0.711363   \n",
       "4         -1.290987         0.711536          -1.290787          0.711811   \n",
       "\n",
       "   passenger_count  ...  weekday  year   jfk_dist   ewr_dist   lga_dist  \\\n",
       "0                1  ...        0  2009  20.265840  55.176046  14.342611   \n",
       "1                1  ...        1  2010  44.667679  31.832358  23.130775   \n",
       "2                2  ...        3  2011  43.597686  33.712082  19.865289   \n",
       "3                1  ...        5  2012  42.642965  32.556289  21.063132   \n",
       "4                1  ...        1  2010  43.329953  39.406828  15.219339   \n",
       "\n",
       "    sol_dist   nyc_dist  distance   bearing  my distance  \n",
       "0  34.543548  27.572573  1.030764 -2.918897     0.018312  \n",
       "1  15.125872   8.755732  8.450134 -0.375217     0.154664  \n",
       "2  17.722624   9.847344  1.389525  2.599961     0.026537  \n",
       "3  15.738963   7.703421  2.799270  0.133905     0.049179  \n",
       "4  23.732406  15.600745  1.999157 -0.502703     0.037784  \n",
       "\n",
       "[5 rows x 23 columns]"
      ]
     },
     "execution_count": 21,
     "metadata": {},
     "output_type": "execute_result"
    }
   ],
   "source": [
    "df.head()"
   ]
  },
  {
   "cell_type": "code",
   "execution_count": 22,
   "id": "d7a5b439",
   "metadata": {},
   "outputs": [
    {
     "data": {
      "text/plain": [
       "Index(['Car Condition', 'Weather', 'Traffic Condition', 'fare_amount',\n",
       "       'pickup_datetime', 'pickup_longitude', 'pickup_latitude',\n",
       "       'dropoff_longitude', 'dropoff_latitude', 'passenger_count', 'hour',\n",
       "       'day', 'month', 'weekday', 'year', 'jfk_dist', 'ewr_dist', 'lga_dist',\n",
       "       'sol_dist', 'nyc_dist', 'distance', 'bearing', 'my distance'],\n",
       "      dtype='object')"
      ]
     },
     "execution_count": 22,
     "metadata": {},
     "output_type": "execute_result"
    }
   ],
   "source": [
    "df.columns"
   ]
  },
  {
   "cell_type": "code",
   "execution_count": 23,
   "id": "f9ae3355",
   "metadata": {},
   "outputs": [],
   "source": [
    "df.drop([\"dropoff_latitude\",\"dropoff_longitude\",\"pickup_latitude\",\"pickup_longitude\"] , axis=1,inplace=True)"
   ]
  },
  {
   "cell_type": "code",
   "execution_count": 24,
   "id": "53c9d8de",
   "metadata": {},
   "outputs": [
    {
     "data": {
      "text/html": [
       "<div>\n",
       "<style scoped>\n",
       "    .dataframe tbody tr th:only-of-type {\n",
       "        vertical-align: middle;\n",
       "    }\n",
       "\n",
       "    .dataframe tbody tr th {\n",
       "        vertical-align: top;\n",
       "    }\n",
       "\n",
       "    .dataframe thead th {\n",
       "        text-align: right;\n",
       "    }\n",
       "</style>\n",
       "<table border=\"1\" class=\"dataframe\">\n",
       "  <thead>\n",
       "    <tr style=\"text-align: right;\">\n",
       "      <th></th>\n",
       "      <th>Car Condition</th>\n",
       "      <th>Weather</th>\n",
       "      <th>Traffic Condition</th>\n",
       "      <th>fare_amount</th>\n",
       "      <th>pickup_datetime</th>\n",
       "      <th>passenger_count</th>\n",
       "      <th>hour</th>\n",
       "      <th>day</th>\n",
       "      <th>month</th>\n",
       "      <th>weekday</th>\n",
       "      <th>year</th>\n",
       "      <th>jfk_dist</th>\n",
       "      <th>ewr_dist</th>\n",
       "      <th>lga_dist</th>\n",
       "      <th>sol_dist</th>\n",
       "      <th>nyc_dist</th>\n",
       "      <th>distance</th>\n",
       "      <th>bearing</th>\n",
       "      <th>my distance</th>\n",
       "    </tr>\n",
       "  </thead>\n",
       "  <tbody>\n",
       "    <tr>\n",
       "      <th>0</th>\n",
       "      <td>Very Good</td>\n",
       "      <td>windy</td>\n",
       "      <td>Congested Traffic</td>\n",
       "      <td>4.5</td>\n",
       "      <td>2009-06-15 17:26:21</td>\n",
       "      <td>1</td>\n",
       "      <td>17</td>\n",
       "      <td>15</td>\n",
       "      <td>6</td>\n",
       "      <td>0</td>\n",
       "      <td>2009</td>\n",
       "      <td>20.265840</td>\n",
       "      <td>55.176046</td>\n",
       "      <td>14.342611</td>\n",
       "      <td>34.543548</td>\n",
       "      <td>27.572573</td>\n",
       "      <td>1.030764</td>\n",
       "      <td>-2.918897</td>\n",
       "      <td>0.018312</td>\n",
       "    </tr>\n",
       "    <tr>\n",
       "      <th>1</th>\n",
       "      <td>Excellent</td>\n",
       "      <td>cloudy</td>\n",
       "      <td>Flow Traffic</td>\n",
       "      <td>16.9</td>\n",
       "      <td>2010-01-05 16:52:16</td>\n",
       "      <td>1</td>\n",
       "      <td>16</td>\n",
       "      <td>5</td>\n",
       "      <td>1</td>\n",
       "      <td>1</td>\n",
       "      <td>2010</td>\n",
       "      <td>44.667679</td>\n",
       "      <td>31.832358</td>\n",
       "      <td>23.130775</td>\n",
       "      <td>15.125872</td>\n",
       "      <td>8.755732</td>\n",
       "      <td>8.450134</td>\n",
       "      <td>-0.375217</td>\n",
       "      <td>0.154664</td>\n",
       "    </tr>\n",
       "    <tr>\n",
       "      <th>2</th>\n",
       "      <td>Bad</td>\n",
       "      <td>stormy</td>\n",
       "      <td>Congested Traffic</td>\n",
       "      <td>5.7</td>\n",
       "      <td>2011-08-18 00:35:00</td>\n",
       "      <td>2</td>\n",
       "      <td>0</td>\n",
       "      <td>18</td>\n",
       "      <td>8</td>\n",
       "      <td>3</td>\n",
       "      <td>2011</td>\n",
       "      <td>43.597686</td>\n",
       "      <td>33.712082</td>\n",
       "      <td>19.865289</td>\n",
       "      <td>17.722624</td>\n",
       "      <td>9.847344</td>\n",
       "      <td>1.389525</td>\n",
       "      <td>2.599961</td>\n",
       "      <td>0.026537</td>\n",
       "    </tr>\n",
       "    <tr>\n",
       "      <th>3</th>\n",
       "      <td>Very Good</td>\n",
       "      <td>stormy</td>\n",
       "      <td>Flow Traffic</td>\n",
       "      <td>7.7</td>\n",
       "      <td>2012-04-21 04:30:42</td>\n",
       "      <td>1</td>\n",
       "      <td>4</td>\n",
       "      <td>21</td>\n",
       "      <td>4</td>\n",
       "      <td>5</td>\n",
       "      <td>2012</td>\n",
       "      <td>42.642965</td>\n",
       "      <td>32.556289</td>\n",
       "      <td>21.063132</td>\n",
       "      <td>15.738963</td>\n",
       "      <td>7.703421</td>\n",
       "      <td>2.799270</td>\n",
       "      <td>0.133905</td>\n",
       "      <td>0.049179</td>\n",
       "    </tr>\n",
       "    <tr>\n",
       "      <th>4</th>\n",
       "      <td>Bad</td>\n",
       "      <td>stormy</td>\n",
       "      <td>Congested Traffic</td>\n",
       "      <td>5.3</td>\n",
       "      <td>2010-03-09 07:51:00</td>\n",
       "      <td>1</td>\n",
       "      <td>7</td>\n",
       "      <td>9</td>\n",
       "      <td>3</td>\n",
       "      <td>1</td>\n",
       "      <td>2010</td>\n",
       "      <td>43.329953</td>\n",
       "      <td>39.406828</td>\n",
       "      <td>15.219339</td>\n",
       "      <td>23.732406</td>\n",
       "      <td>15.600745</td>\n",
       "      <td>1.999157</td>\n",
       "      <td>-0.502703</td>\n",
       "      <td>0.037784</td>\n",
       "    </tr>\n",
       "  </tbody>\n",
       "</table>\n",
       "</div>"
      ],
      "text/plain": [
       "  Car Condition Weather  Traffic Condition  fare_amount      pickup_datetime  \\\n",
       "0     Very Good   windy  Congested Traffic          4.5  2009-06-15 17:26:21   \n",
       "1     Excellent  cloudy       Flow Traffic         16.9  2010-01-05 16:52:16   \n",
       "2           Bad  stormy  Congested Traffic          5.7  2011-08-18 00:35:00   \n",
       "3     Very Good  stormy       Flow Traffic          7.7  2012-04-21 04:30:42   \n",
       "4           Bad  stormy  Congested Traffic          5.3  2010-03-09 07:51:00   \n",
       "\n",
       "   passenger_count  hour  day  month  weekday  year   jfk_dist   ewr_dist  \\\n",
       "0                1    17   15      6        0  2009  20.265840  55.176046   \n",
       "1                1    16    5      1        1  2010  44.667679  31.832358   \n",
       "2                2     0   18      8        3  2011  43.597686  33.712082   \n",
       "3                1     4   21      4        5  2012  42.642965  32.556289   \n",
       "4                1     7    9      3        1  2010  43.329953  39.406828   \n",
       "\n",
       "    lga_dist   sol_dist   nyc_dist  distance   bearing  my distance  \n",
       "0  14.342611  34.543548  27.572573  1.030764 -2.918897     0.018312  \n",
       "1  23.130775  15.125872   8.755732  8.450134 -0.375217     0.154664  \n",
       "2  19.865289  17.722624   9.847344  1.389525  2.599961     0.026537  \n",
       "3  21.063132  15.738963   7.703421  2.799270  0.133905     0.049179  \n",
       "4  15.219339  23.732406  15.600745  1.999157 -0.502703     0.037784  "
      ]
     },
     "execution_count": 24,
     "metadata": {},
     "output_type": "execute_result"
    }
   ],
   "source": [
    "df.head()"
   ]
  },
  {
   "cell_type": "code",
   "execution_count": 25,
   "id": "e8635a35",
   "metadata": {},
   "outputs": [],
   "source": [
    "df[\"pickup_datetime\"]=pd.to_datetime(df[\"pickup_datetime\"],format=\"%Y-%m-%d %H:%M:%S\",errors='coerce')"
   ]
  },
  {
   "cell_type": "code",
   "execution_count": 26,
   "id": "1e968f8d",
   "metadata": {},
   "outputs": [
    {
     "name": "stdout",
     "output_type": "stream",
     "text": [
      "<class 'pandas.core.frame.DataFrame'>\n",
      "Index: 499995 entries, 0 to 499999\n",
      "Data columns (total 19 columns):\n",
      " #   Column             Non-Null Count   Dtype         \n",
      "---  ------             --------------   -----         \n",
      " 0   Car Condition      499995 non-null  object        \n",
      " 1   Weather            499995 non-null  object        \n",
      " 2   Traffic Condition  499995 non-null  object        \n",
      " 3   fare_amount        499995 non-null  float64       \n",
      " 4   pickup_datetime    499995 non-null  datetime64[ns]\n",
      " 5   passenger_count    499995 non-null  int64         \n",
      " 6   hour               499995 non-null  int64         \n",
      " 7   day                499995 non-null  int64         \n",
      " 8   month              499995 non-null  int64         \n",
      " 9   weekday            499995 non-null  int64         \n",
      " 10  year               499995 non-null  int64         \n",
      " 11  jfk_dist           499995 non-null  float64       \n",
      " 12  ewr_dist           499995 non-null  float64       \n",
      " 13  lga_dist           499995 non-null  float64       \n",
      " 14  sol_dist           499995 non-null  float64       \n",
      " 15  nyc_dist           499995 non-null  float64       \n",
      " 16  distance           499995 non-null  float64       \n",
      " 17  bearing            499995 non-null  float64       \n",
      " 18  my distance        499995 non-null  float64       \n",
      "dtypes: datetime64[ns](1), float64(9), int64(6), object(3)\n",
      "memory usage: 76.3+ MB\n"
     ]
    }
   ],
   "source": [
    "df.info()"
   ]
  },
  {
   "cell_type": "code",
   "execution_count": 27,
   "id": "1b20758b",
   "metadata": {},
   "outputs": [],
   "source": [
    "df=df.convert_dtypes()"
   ]
  },
  {
   "cell_type": "code",
   "execution_count": 28,
   "id": "5824e123",
   "metadata": {},
   "outputs": [
    {
     "name": "stdout",
     "output_type": "stream",
     "text": [
      "<class 'pandas.core.frame.DataFrame'>\n",
      "Index: 499995 entries, 0 to 499999\n",
      "Data columns (total 19 columns):\n",
      " #   Column             Non-Null Count   Dtype         \n",
      "---  ------             --------------   -----         \n",
      " 0   Car Condition      499995 non-null  string        \n",
      " 1   Weather            499995 non-null  string        \n",
      " 2   Traffic Condition  499995 non-null  string        \n",
      " 3   fare_amount        499995 non-null  Float64       \n",
      " 4   pickup_datetime    499995 non-null  datetime64[ns]\n",
      " 5   passenger_count    499995 non-null  Int64         \n",
      " 6   hour               499995 non-null  Int64         \n",
      " 7   day                499995 non-null  Int64         \n",
      " 8   month              499995 non-null  Int64         \n",
      " 9   weekday            499995 non-null  Int64         \n",
      " 10  year               499995 non-null  Int64         \n",
      " 11  jfk_dist           499995 non-null  Float64       \n",
      " 12  ewr_dist           499995 non-null  Float64       \n",
      " 13  lga_dist           499995 non-null  Float64       \n",
      " 14  sol_dist           499995 non-null  Float64       \n",
      " 15  nyc_dist           499995 non-null  Float64       \n",
      " 16  distance           499995 non-null  Float64       \n",
      " 17  bearing            499995 non-null  Float64       \n",
      " 18  my distance        499995 non-null  Float64       \n",
      "dtypes: Float64(9), Int64(6), datetime64[ns](1), string(3)\n",
      "memory usage: 83.4 MB\n"
     ]
    }
   ],
   "source": [
    "df.info()"
   ]
  },
  {
   "cell_type": "code",
   "execution_count": 29,
   "id": "be68878f",
   "metadata": {},
   "outputs": [
    {
     "data": {
      "text/plain": [
       "Car Condition        0\n",
       "Weather              0\n",
       "Traffic Condition    0\n",
       "fare_amount          0\n",
       "pickup_datetime      0\n",
       "passenger_count      0\n",
       "hour                 0\n",
       "day                  0\n",
       "month                0\n",
       "weekday              0\n",
       "year                 0\n",
       "jfk_dist             0\n",
       "ewr_dist             0\n",
       "lga_dist             0\n",
       "sol_dist             0\n",
       "nyc_dist             0\n",
       "distance             0\n",
       "bearing              0\n",
       "my distance          0\n",
       "dtype: int64"
      ]
     },
     "execution_count": 29,
     "metadata": {},
     "output_type": "execute_result"
    }
   ],
   "source": [
    "df.isna().sum()"
   ]
  },
  {
   "cell_type": "code",
   "execution_count": 30,
   "id": "5306bb92",
   "metadata": {},
   "outputs": [],
   "source": [
    "df[\"min\"]=df[\"pickup_datetime\"].dt.minute"
   ]
  },
  {
   "cell_type": "code",
   "execution_count": 31,
   "id": "cef501ad",
   "metadata": {},
   "outputs": [
    {
     "data": {
      "text/html": [
       "<div>\n",
       "<style scoped>\n",
       "    .dataframe tbody tr th:only-of-type {\n",
       "        vertical-align: middle;\n",
       "    }\n",
       "\n",
       "    .dataframe tbody tr th {\n",
       "        vertical-align: top;\n",
       "    }\n",
       "\n",
       "    .dataframe thead th {\n",
       "        text-align: right;\n",
       "    }\n",
       "</style>\n",
       "<table border=\"1\" class=\"dataframe\">\n",
       "  <thead>\n",
       "    <tr style=\"text-align: right;\">\n",
       "      <th></th>\n",
       "      <th>Car Condition</th>\n",
       "      <th>Weather</th>\n",
       "      <th>Traffic Condition</th>\n",
       "      <th>fare_amount</th>\n",
       "      <th>pickup_datetime</th>\n",
       "      <th>passenger_count</th>\n",
       "      <th>hour</th>\n",
       "      <th>day</th>\n",
       "      <th>month</th>\n",
       "      <th>weekday</th>\n",
       "      <th>year</th>\n",
       "      <th>jfk_dist</th>\n",
       "      <th>ewr_dist</th>\n",
       "      <th>lga_dist</th>\n",
       "      <th>sol_dist</th>\n",
       "      <th>nyc_dist</th>\n",
       "      <th>distance</th>\n",
       "      <th>bearing</th>\n",
       "      <th>my distance</th>\n",
       "      <th>min</th>\n",
       "    </tr>\n",
       "  </thead>\n",
       "  <tbody>\n",
       "    <tr>\n",
       "      <th>0</th>\n",
       "      <td>Very Good</td>\n",
       "      <td>windy</td>\n",
       "      <td>Congested Traffic</td>\n",
       "      <td>4.5</td>\n",
       "      <td>2009-06-15 17:26:21</td>\n",
       "      <td>1</td>\n",
       "      <td>17</td>\n",
       "      <td>15</td>\n",
       "      <td>6</td>\n",
       "      <td>0</td>\n",
       "      <td>2009</td>\n",
       "      <td>20.26584</td>\n",
       "      <td>55.176046</td>\n",
       "      <td>14.342611</td>\n",
       "      <td>34.543548</td>\n",
       "      <td>27.572573</td>\n",
       "      <td>1.030764</td>\n",
       "      <td>-2.918897</td>\n",
       "      <td>0.018312</td>\n",
       "      <td>26</td>\n",
       "    </tr>\n",
       "    <tr>\n",
       "      <th>1</th>\n",
       "      <td>Excellent</td>\n",
       "      <td>cloudy</td>\n",
       "      <td>Flow Traffic</td>\n",
       "      <td>16.9</td>\n",
       "      <td>2010-01-05 16:52:16</td>\n",
       "      <td>1</td>\n",
       "      <td>16</td>\n",
       "      <td>5</td>\n",
       "      <td>1</td>\n",
       "      <td>1</td>\n",
       "      <td>2010</td>\n",
       "      <td>44.667679</td>\n",
       "      <td>31.832358</td>\n",
       "      <td>23.130775</td>\n",
       "      <td>15.125872</td>\n",
       "      <td>8.755732</td>\n",
       "      <td>8.450134</td>\n",
       "      <td>-0.375217</td>\n",
       "      <td>0.154664</td>\n",
       "      <td>52</td>\n",
       "    </tr>\n",
       "    <tr>\n",
       "      <th>2</th>\n",
       "      <td>Bad</td>\n",
       "      <td>stormy</td>\n",
       "      <td>Congested Traffic</td>\n",
       "      <td>5.7</td>\n",
       "      <td>2011-08-18 00:35:00</td>\n",
       "      <td>2</td>\n",
       "      <td>0</td>\n",
       "      <td>18</td>\n",
       "      <td>8</td>\n",
       "      <td>3</td>\n",
       "      <td>2011</td>\n",
       "      <td>43.597686</td>\n",
       "      <td>33.712082</td>\n",
       "      <td>19.865289</td>\n",
       "      <td>17.722624</td>\n",
       "      <td>9.847344</td>\n",
       "      <td>1.389525</td>\n",
       "      <td>2.599961</td>\n",
       "      <td>0.026537</td>\n",
       "      <td>35</td>\n",
       "    </tr>\n",
       "    <tr>\n",
       "      <th>3</th>\n",
       "      <td>Very Good</td>\n",
       "      <td>stormy</td>\n",
       "      <td>Flow Traffic</td>\n",
       "      <td>7.7</td>\n",
       "      <td>2012-04-21 04:30:42</td>\n",
       "      <td>1</td>\n",
       "      <td>4</td>\n",
       "      <td>21</td>\n",
       "      <td>4</td>\n",
       "      <td>5</td>\n",
       "      <td>2012</td>\n",
       "      <td>42.642965</td>\n",
       "      <td>32.556289</td>\n",
       "      <td>21.063132</td>\n",
       "      <td>15.738963</td>\n",
       "      <td>7.703421</td>\n",
       "      <td>2.79927</td>\n",
       "      <td>0.133905</td>\n",
       "      <td>0.049179</td>\n",
       "      <td>30</td>\n",
       "    </tr>\n",
       "    <tr>\n",
       "      <th>4</th>\n",
       "      <td>Bad</td>\n",
       "      <td>stormy</td>\n",
       "      <td>Congested Traffic</td>\n",
       "      <td>5.3</td>\n",
       "      <td>2010-03-09 07:51:00</td>\n",
       "      <td>1</td>\n",
       "      <td>7</td>\n",
       "      <td>9</td>\n",
       "      <td>3</td>\n",
       "      <td>1</td>\n",
       "      <td>2010</td>\n",
       "      <td>43.329953</td>\n",
       "      <td>39.406828</td>\n",
       "      <td>15.219339</td>\n",
       "      <td>23.732406</td>\n",
       "      <td>15.600745</td>\n",
       "      <td>1.999157</td>\n",
       "      <td>-0.502703</td>\n",
       "      <td>0.037784</td>\n",
       "      <td>51</td>\n",
       "    </tr>\n",
       "  </tbody>\n",
       "</table>\n",
       "</div>"
      ],
      "text/plain": [
       "  Car Condition Weather  Traffic Condition  fare_amount     pickup_datetime  \\\n",
       "0     Very Good   windy  Congested Traffic          4.5 2009-06-15 17:26:21   \n",
       "1     Excellent  cloudy       Flow Traffic         16.9 2010-01-05 16:52:16   \n",
       "2           Bad  stormy  Congested Traffic          5.7 2011-08-18 00:35:00   \n",
       "3     Very Good  stormy       Flow Traffic          7.7 2012-04-21 04:30:42   \n",
       "4           Bad  stormy  Congested Traffic          5.3 2010-03-09 07:51:00   \n",
       "\n",
       "   passenger_count  hour  day  month  weekday  year   jfk_dist   ewr_dist  \\\n",
       "0                1    17   15      6        0  2009   20.26584  55.176046   \n",
       "1                1    16    5      1        1  2010  44.667679  31.832358   \n",
       "2                2     0   18      8        3  2011  43.597686  33.712082   \n",
       "3                1     4   21      4        5  2012  42.642965  32.556289   \n",
       "4                1     7    9      3        1  2010  43.329953  39.406828   \n",
       "\n",
       "    lga_dist   sol_dist   nyc_dist  distance   bearing  my distance  min  \n",
       "0  14.342611  34.543548  27.572573  1.030764 -2.918897     0.018312   26  \n",
       "1  23.130775  15.125872   8.755732  8.450134 -0.375217     0.154664   52  \n",
       "2  19.865289  17.722624   9.847344  1.389525  2.599961     0.026537   35  \n",
       "3  21.063132  15.738963   7.703421   2.79927  0.133905     0.049179   30  \n",
       "4  15.219339  23.732406  15.600745  1.999157 -0.502703     0.037784   51  "
      ]
     },
     "execution_count": 31,
     "metadata": {},
     "output_type": "execute_result"
    }
   ],
   "source": [
    "df.head()"
   ]
  },
  {
   "cell_type": "code",
   "execution_count": 32,
   "id": "21296574",
   "metadata": {},
   "outputs": [],
   "source": [
    "df.drop([\"pickup_datetime\"],axis=1,inplace=True)"
   ]
  },
  {
   "cell_type": "code",
   "execution_count": 33,
   "id": "5d6f141c",
   "metadata": {},
   "outputs": [
    {
     "data": {
      "text/html": [
       "<div>\n",
       "<style scoped>\n",
       "    .dataframe tbody tr th:only-of-type {\n",
       "        vertical-align: middle;\n",
       "    }\n",
       "\n",
       "    .dataframe tbody tr th {\n",
       "        vertical-align: top;\n",
       "    }\n",
       "\n",
       "    .dataframe thead th {\n",
       "        text-align: right;\n",
       "    }\n",
       "</style>\n",
       "<table border=\"1\" class=\"dataframe\">\n",
       "  <thead>\n",
       "    <tr style=\"text-align: right;\">\n",
       "      <th></th>\n",
       "      <th>Car Condition</th>\n",
       "      <th>Weather</th>\n",
       "      <th>Traffic Condition</th>\n",
       "      <th>fare_amount</th>\n",
       "      <th>passenger_count</th>\n",
       "      <th>hour</th>\n",
       "      <th>day</th>\n",
       "      <th>month</th>\n",
       "      <th>weekday</th>\n",
       "      <th>year</th>\n",
       "      <th>jfk_dist</th>\n",
       "      <th>ewr_dist</th>\n",
       "      <th>lga_dist</th>\n",
       "      <th>sol_dist</th>\n",
       "      <th>nyc_dist</th>\n",
       "      <th>distance</th>\n",
       "      <th>bearing</th>\n",
       "      <th>my distance</th>\n",
       "      <th>min</th>\n",
       "    </tr>\n",
       "  </thead>\n",
       "  <tbody>\n",
       "    <tr>\n",
       "      <th>0</th>\n",
       "      <td>Very Good</td>\n",
       "      <td>windy</td>\n",
       "      <td>Congested Traffic</td>\n",
       "      <td>4.5</td>\n",
       "      <td>1</td>\n",
       "      <td>17</td>\n",
       "      <td>15</td>\n",
       "      <td>6</td>\n",
       "      <td>0</td>\n",
       "      <td>2009</td>\n",
       "      <td>20.26584</td>\n",
       "      <td>55.176046</td>\n",
       "      <td>14.342611</td>\n",
       "      <td>34.543548</td>\n",
       "      <td>27.572573</td>\n",
       "      <td>1.030764</td>\n",
       "      <td>-2.918897</td>\n",
       "      <td>0.018312</td>\n",
       "      <td>26</td>\n",
       "    </tr>\n",
       "    <tr>\n",
       "      <th>1</th>\n",
       "      <td>Excellent</td>\n",
       "      <td>cloudy</td>\n",
       "      <td>Flow Traffic</td>\n",
       "      <td>16.9</td>\n",
       "      <td>1</td>\n",
       "      <td>16</td>\n",
       "      <td>5</td>\n",
       "      <td>1</td>\n",
       "      <td>1</td>\n",
       "      <td>2010</td>\n",
       "      <td>44.667679</td>\n",
       "      <td>31.832358</td>\n",
       "      <td>23.130775</td>\n",
       "      <td>15.125872</td>\n",
       "      <td>8.755732</td>\n",
       "      <td>8.450134</td>\n",
       "      <td>-0.375217</td>\n",
       "      <td>0.154664</td>\n",
       "      <td>52</td>\n",
       "    </tr>\n",
       "    <tr>\n",
       "      <th>2</th>\n",
       "      <td>Bad</td>\n",
       "      <td>stormy</td>\n",
       "      <td>Congested Traffic</td>\n",
       "      <td>5.7</td>\n",
       "      <td>2</td>\n",
       "      <td>0</td>\n",
       "      <td>18</td>\n",
       "      <td>8</td>\n",
       "      <td>3</td>\n",
       "      <td>2011</td>\n",
       "      <td>43.597686</td>\n",
       "      <td>33.712082</td>\n",
       "      <td>19.865289</td>\n",
       "      <td>17.722624</td>\n",
       "      <td>9.847344</td>\n",
       "      <td>1.389525</td>\n",
       "      <td>2.599961</td>\n",
       "      <td>0.026537</td>\n",
       "      <td>35</td>\n",
       "    </tr>\n",
       "    <tr>\n",
       "      <th>3</th>\n",
       "      <td>Very Good</td>\n",
       "      <td>stormy</td>\n",
       "      <td>Flow Traffic</td>\n",
       "      <td>7.7</td>\n",
       "      <td>1</td>\n",
       "      <td>4</td>\n",
       "      <td>21</td>\n",
       "      <td>4</td>\n",
       "      <td>5</td>\n",
       "      <td>2012</td>\n",
       "      <td>42.642965</td>\n",
       "      <td>32.556289</td>\n",
       "      <td>21.063132</td>\n",
       "      <td>15.738963</td>\n",
       "      <td>7.703421</td>\n",
       "      <td>2.79927</td>\n",
       "      <td>0.133905</td>\n",
       "      <td>0.049179</td>\n",
       "      <td>30</td>\n",
       "    </tr>\n",
       "    <tr>\n",
       "      <th>4</th>\n",
       "      <td>Bad</td>\n",
       "      <td>stormy</td>\n",
       "      <td>Congested Traffic</td>\n",
       "      <td>5.3</td>\n",
       "      <td>1</td>\n",
       "      <td>7</td>\n",
       "      <td>9</td>\n",
       "      <td>3</td>\n",
       "      <td>1</td>\n",
       "      <td>2010</td>\n",
       "      <td>43.329953</td>\n",
       "      <td>39.406828</td>\n",
       "      <td>15.219339</td>\n",
       "      <td>23.732406</td>\n",
       "      <td>15.600745</td>\n",
       "      <td>1.999157</td>\n",
       "      <td>-0.502703</td>\n",
       "      <td>0.037784</td>\n",
       "      <td>51</td>\n",
       "    </tr>\n",
       "  </tbody>\n",
       "</table>\n",
       "</div>"
      ],
      "text/plain": [
       "  Car Condition Weather  Traffic Condition  fare_amount  passenger_count  \\\n",
       "0     Very Good   windy  Congested Traffic          4.5                1   \n",
       "1     Excellent  cloudy       Flow Traffic         16.9                1   \n",
       "2           Bad  stormy  Congested Traffic          5.7                2   \n",
       "3     Very Good  stormy       Flow Traffic          7.7                1   \n",
       "4           Bad  stormy  Congested Traffic          5.3                1   \n",
       "\n",
       "   hour  day  month  weekday  year   jfk_dist   ewr_dist   lga_dist  \\\n",
       "0    17   15      6        0  2009   20.26584  55.176046  14.342611   \n",
       "1    16    5      1        1  2010  44.667679  31.832358  23.130775   \n",
       "2     0   18      8        3  2011  43.597686  33.712082  19.865289   \n",
       "3     4   21      4        5  2012  42.642965  32.556289  21.063132   \n",
       "4     7    9      3        1  2010  43.329953  39.406828  15.219339   \n",
       "\n",
       "    sol_dist   nyc_dist  distance   bearing  my distance  min  \n",
       "0  34.543548  27.572573  1.030764 -2.918897     0.018312   26  \n",
       "1  15.125872   8.755732  8.450134 -0.375217     0.154664   52  \n",
       "2  17.722624   9.847344  1.389525  2.599961     0.026537   35  \n",
       "3  15.738963   7.703421   2.79927  0.133905     0.049179   30  \n",
       "4  23.732406  15.600745  1.999157 -0.502703     0.037784   51  "
      ]
     },
     "execution_count": 33,
     "metadata": {},
     "output_type": "execute_result"
    }
   ],
   "source": [
    "df.head()"
   ]
  },
  {
   "cell_type": "code",
   "execution_count": null,
   "id": "c198edd3",
   "metadata": {},
   "outputs": [],
   "source": [
    "px.pie(df,names=df[\"Car Condition\"],title= \"Car condition distribution\").update_traces(textinfo=\"percent\")"
   ]
  },
  {
   "cell_type": "code",
   "execution_count": null,
   "id": "81d174e2",
   "metadata": {},
   "outputs": [],
   "source": [
    "px.histogram(df, x=\"Car Condition\", y=\"fare_amount\", histfunc=\"avg\", title=\"Average Fare Amount by Car Condition\")"
   ]
  },
  {
   "cell_type": "code",
   "execution_count": null,
   "id": "63fa28b7",
   "metadata": {},
   "outputs": [],
   "source": [
    "px.histogram(df, x=\"Car Condition\", y=df[\"distance\"], histfunc=\"avg\", title=\"Average distance by Car Condition\")"
   ]
  },
  {
   "cell_type": "code",
   "execution_count": null,
   "id": "50a1e667",
   "metadata": {},
   "outputs": [],
   "source": [
    "px.histogram(df, x=\"Car Condition\", y=df[\"my distance\"], histfunc=\"avg\", title=\"Average distance by Car Condition\")"
   ]
  },
  {
   "cell_type": "code",
   "execution_count": null,
   "id": "b99cbe54",
   "metadata": {},
   "outputs": [],
   "source": [
    "df[\"Car Condition\"].unique()"
   ]
  },
  {
   "cell_type": "code",
   "execution_count": null,
   "id": "08bc2baf",
   "metadata": {},
   "outputs": [],
   "source": [
    "fig, axes = plt.subplots(1, 4, figsize=(18, 5), sharey=True)\n",
    "conditions = ['Very Good', 'Excellent', 'Bad', 'Good']\n",
    "\n",
    "for i, condition in enumerate(conditions):\n",
    "    sns.boxplot(data=df[df['Car Condition'] == condition],\n",
    "                y='fare_amount',\n",
    "                ax=axes[i],\n",
    "                color='skyblue')\n",
    "    axes[i].set_title(f\"Car Condition: {condition}\")\n",
    "    axes[i].set_xlabel(\"\")  \n",
    "    axes[i].set_ylabel(\"Fare Amount ($)\" if i == 0 else \"\") \n",
    "\n",
    "plt.tight_layout()\n",
    "plt.suptitle(\"Fare Amount Distribution by Car Condition\", fontsize=16, y=1.05)\n",
    "plt.show()\n"
   ]
  },
  {
   "cell_type": "code",
   "execution_count": null,
   "id": "e7eee99c",
   "metadata": {},
   "outputs": [],
   "source": [
    "px.histogram(df, x=\"Car Condition\", y=df[\"passenger_count\"], histfunc=\"avg\", title=\"Average passenger count by Car Condition\")"
   ]
  },
  {
   "cell_type": "code",
   "execution_count": null,
   "id": "221a5de1",
   "metadata": {},
   "outputs": [],
   "source": [
    "df[\"Weather\"].unique()"
   ]
  },
  {
   "cell_type": "code",
   "execution_count": null,
   "id": "d9c28baa",
   "metadata": {},
   "outputs": [],
   "source": [
    "px.pie(df,names=df[\"Weather\"],title= \"Weather condition distribution\").update_traces(textinfo=\"percent\")"
   ]
  },
  {
   "cell_type": "code",
   "execution_count": null,
   "id": "4f653ed1",
   "metadata": {},
   "outputs": [],
   "source": [
    "plt.figure(figsize=(12,6))\n",
    "sns.countplot(data=df, x=\"Car Condition\", hue=\"Weather\")\n",
    "plt.title(\"Weather Distribution by Car Condition\")\n",
    "plt.ylabel(\"Number of Rides\")\n",
    "plt.xticks(rotation=30)\n",
    "plt.show()"
   ]
  },
  {
   "cell_type": "code",
   "execution_count": null,
   "id": "3a920e7c",
   "metadata": {},
   "outputs": [],
   "source": [
    "plt.figure(figsize=(14,6))\n",
    "sns.boxplot(data=df, x=\"Car Condition\", y=\"fare_amount\", hue=\"Weather\")\n",
    "plt.title(\"Fare Amount Distribution by Car Condition and Weather\")\n",
    "plt.ylabel(\"Fare Amount\")\n",
    "plt.xticks(rotation=15)\n",
    "plt.legend(title=\"Weather\", bbox_to_anchor=(1.05, 1), loc=\"upper left\")\n",
    "plt.show()"
   ]
  },
  {
   "cell_type": "code",
   "execution_count": null,
   "id": "bbee390c",
   "metadata": {},
   "outputs": [],
   "source": [
    "df[\"Traffic Condition\"].unique()"
   ]
  },
  {
   "cell_type": "code",
   "execution_count": null,
   "id": "98c7fb32",
   "metadata": {},
   "outputs": [],
   "source": [
    "px.pie(df,names=df[\"Traffic Condition\"],title= \"Traffic condition distribution\").update_traces(textinfo=\"percent\")"
   ]
  },
  {
   "cell_type": "code",
   "execution_count": null,
   "id": "a0fbd354",
   "metadata": {},
   "outputs": [],
   "source": [
    "plt.figure(figsize=(12,6))\n",
    "sns.countplot(data=df, x=\"Car Condition\", hue=\"Traffic Condition\")\n",
    "plt.title(\"Traffic Condition Distribution by Car Condition\")\n",
    "plt.ylabel(\"Number of Rides\")\n",
    "plt.xticks(rotation=30)\n",
    "plt.show()"
   ]
  },
  {
   "cell_type": "code",
   "execution_count": null,
   "id": "bcc4b21c",
   "metadata": {},
   "outputs": [],
   "source": [
    "plt.figure(figsize=(14,6))\n",
    "sns.boxplot(data=df, x=\"Car Condition\", y=\"fare_amount\", hue=df[\"Traffic Condition\"])\n",
    "plt.title(\"Fare Amount Distribution by Car Condition and Traffic Condition\")\n",
    "plt.ylabel(\"Fare Amount\")\n",
    "plt.xticks(rotation=15)\n",
    "plt.legend(title=\"Traffic Condition\", bbox_to_anchor=(1.05, 1), loc=\"upper left\")\n",
    "plt.show()"
   ]
  },
  {
   "cell_type": "code",
   "execution_count": null,
   "id": "29b2e1a0",
   "metadata": {},
   "outputs": [],
   "source": [
    "df.head()"
   ]
  },
  {
   "cell_type": "code",
   "execution_count": null,
   "id": "5733b6d6",
   "metadata": {},
   "outputs": [],
   "source": [
    "px.box(df, x=\"Weather\", y=\"fare_amount\", color=\"Car Condition\",title=\"Fare Amount Distribution by Weather and Car Condition\")\n"
   ]
  },
  {
   "cell_type": "code",
   "execution_count": null,
   "id": "cc771bcd",
   "metadata": {},
   "outputs": [],
   "source": [
    "px.box(df, x=df[\"Traffic Condition\"], y=\"fare_amount\", color=\"Car Condition\",title=\"Fare Amount Distribution by Traffic Condition and Car Condition\")\n"
   ]
  },
  {
   "cell_type": "code",
   "execution_count": null,
   "id": "9405a9bf",
   "metadata": {},
   "outputs": [],
   "source": [
    "df.head()"
   ]
  },
  {
   "cell_type": "code",
   "execution_count": null,
   "id": "4b90cf86",
   "metadata": {},
   "outputs": [],
   "source": [
    "sns.scatterplot(df,x=df[\"passenger_count\"],y=df[\"fare_amount\"])\n",
    "plt.title(\"Passenger Count By Fare Amount\")"
   ]
  },
  {
   "cell_type": "code",
   "execution_count": null,
   "id": "411ca94e",
   "metadata": {},
   "outputs": [],
   "source": [
    "sns.scatterplot(df,x=df[\"distance\"],y=df[\"fare_amount\"])\n",
    "plt.title(\"distance By Fare Amount\")"
   ]
  },
  {
   "cell_type": "code",
   "execution_count": null,
   "id": "5a4a6232",
   "metadata": {},
   "outputs": [],
   "source": [
    "sns.scatterplot(df,x=df[\"my distance\"],y=df[\"fare_amount\"])\n",
    "plt.title(\"my distance By Fare Amount\")"
   ]
  },
  {
   "cell_type": "code",
   "execution_count": null,
   "id": "ce5407f3",
   "metadata": {},
   "outputs": [],
   "source": [
    "df[df[\"fare_amount\"]<=0].count()"
   ]
  },
  {
   "cell_type": "code",
   "execution_count": null,
   "id": "ff4b50a1",
   "metadata": {},
   "outputs": [],
   "source": [
    "df.drop(df[df[\"fare_amount\"]<=0].index,axis=0,inplace=True)"
   ]
  },
  {
   "cell_type": "code",
   "execution_count": null,
   "id": "c8ff8ee5",
   "metadata": {},
   "outputs": [],
   "source": [
    "df[df[\"distance\"]<=0]"
   ]
  },
  {
   "cell_type": "code",
   "execution_count": null,
   "id": "25333cee",
   "metadata": {},
   "outputs": [],
   "source": [
    "df.info()"
   ]
  },
  {
   "cell_type": "code",
   "execution_count": null,
   "id": "2581fb98",
   "metadata": {},
   "outputs": [],
   "source": [
    "df.drop(df[df[\"distance\"]<=0].index,axis=0,inplace=True)"
   ]
  },
  {
   "cell_type": "code",
   "execution_count": null,
   "id": "6b663cb9",
   "metadata": {},
   "outputs": [],
   "source": [
    "df.info()"
   ]
  },
  {
   "cell_type": "code",
   "execution_count": null,
   "id": "11a78232",
   "metadata": {},
   "outputs": [],
   "source": [
    "px.scatter(df,x=df[\"distance\"],y=df[\"fare_amount\"],title=\"Fare Amount By Distance \")"
   ]
  },
  {
   "cell_type": "code",
   "execution_count": null,
   "id": "96190cf6",
   "metadata": {},
   "outputs": [],
   "source": [
    "sns.scatterplot(df,x=df[\"distance\"],y=df[\"fare_amount\"])\n",
    "plt.title(\"Fare Amount By Distance \")"
   ]
  },
  {
   "cell_type": "code",
   "execution_count": null,
   "id": "e191ac88",
   "metadata": {},
   "outputs": [],
   "source": [
    "sns.scatterplot(df,x=df[\"my distance\"],y=df[\"fare_amount\"])\n",
    "plt.title(\"Fare Amount By Distance \")"
   ]
  },
  {
   "cell_type": "code",
   "execution_count": null,
   "id": "75aed561",
   "metadata": {},
   "outputs": [],
   "source": [
    "df[df[\"my distance\"]<=0].count()"
   ]
  },
  {
   "cell_type": "code",
   "execution_count": null,
   "id": "745dfd93",
   "metadata": {},
   "outputs": [],
   "source": [
    "plt.figure(figsize=(12, 8))\n",
    "sns.heatmap(df.corr(numeric_only=True), annot=True, fmt=\".1f\", cmap=\"coolwarm\")\n",
    "plt.title(\"Correlation Heatmap\")\n",
    "plt.show()\n"
   ]
  },
  {
   "cell_type": "code",
   "execution_count": null,
   "id": "60317f10",
   "metadata": {},
   "outputs": [],
   "source": [
    "px.box(df,x=df[\"distance\"])"
   ]
  },
  {
   "cell_type": "code",
   "execution_count": null,
   "id": "d0501a1f",
   "metadata": {},
   "outputs": [],
   "source": [
    "px.box(df,x=df[\"my distance\"])"
   ]
  },
  {
   "cell_type": "code",
   "execution_count": null,
   "id": "02204f1e",
   "metadata": {},
   "outputs": [],
   "source": [
    "sns.boxplot(df,x=df[\"fare_amount\"])"
   ]
  },
  {
   "cell_type": "code",
   "execution_count": null,
   "id": "f55f5101",
   "metadata": {},
   "outputs": [],
   "source": [
    "df[(df[\"fare_amount\"]>60) & (df[\"distance\"]<1) ]"
   ]
  },
  {
   "cell_type": "code",
   "execution_count": null,
   "id": "c6cbb2af",
   "metadata": {},
   "outputs": [],
   "source": [
    "df.describe()"
   ]
  },
  {
   "cell_type": "code",
   "execution_count": null,
   "id": "28ed9396",
   "metadata": {},
   "outputs": [],
   "source": [
    "df[df[\"fare_amount\"]==df[\"fare_amount\"].min()]"
   ]
  },
  {
   "cell_type": "code",
   "execution_count": null,
   "id": "1ecdf965",
   "metadata": {},
   "outputs": [],
   "source": [
    "sns.histplot(df,x=df[\"fare_amount\"])"
   ]
  },
  {
   "cell_type": "code",
   "execution_count": null,
   "id": "f8cfeda9",
   "metadata": {},
   "outputs": [],
   "source": [
    "df[df[\"fare_amount\"]==df[\"fare_amount\"].min()]"
   ]
  },
  {
   "cell_type": "code",
   "execution_count": null,
   "id": "4ed88338",
   "metadata": {},
   "outputs": [],
   "source": [
    "df.drop(df[df[\"fare_amount\"]==df[\"fare_amount\"].min()].index, axis=0,inplace=True)"
   ]
  },
  {
   "cell_type": "code",
   "execution_count": null,
   "id": "f8ccdcfd",
   "metadata": {},
   "outputs": [],
   "source": [
    "df[df[\"fare_amount\"]==df[\"fare_amount\"].min()]"
   ]
  },
  {
   "cell_type": "code",
   "execution_count": null,
   "id": "a0a4ce21",
   "metadata": {},
   "outputs": [],
   "source": [
    "df[df[\"distance\"]==df[\"distance\"].max()]"
   ]
  },
  {
   "cell_type": "code",
   "execution_count": null,
   "id": "68ffd778",
   "metadata": {},
   "outputs": [],
   "source": [
    "df.drop(df[df[\"fare_amount\"]==df[\"fare_amount\"].min()].index, axis=0,inplace=True)"
   ]
  },
  {
   "cell_type": "code",
   "execution_count": null,
   "id": "8a4d3725",
   "metadata": {},
   "outputs": [],
   "source": [
    "df[df[\"fare_amount\"]==df[\"fare_amount\"].min()]"
   ]
  },
  {
   "cell_type": "code",
   "execution_count": null,
   "id": "6f67e439",
   "metadata": {},
   "outputs": [],
   "source": [
    "df.groupby(\"year\")[\"fare_amount\"].mean()\n"
   ]
  },
  {
   "cell_type": "code",
   "execution_count": null,
   "id": "f07cbbfb",
   "metadata": {},
   "outputs": [],
   "source": [
    "sns.barplot(df,x=df[\"year\"],y=df[\"fare_amount\"])\n",
    "plt.title(\"Year by Average Fare Amount\")"
   ]
  },
  {
   "cell_type": "code",
   "execution_count": null,
   "id": "6f9d9621",
   "metadata": {},
   "outputs": [],
   "source": [
    "df.columns"
   ]
  },
  {
   "cell_type": "code",
   "execution_count": null,
   "id": "9a65fdbb",
   "metadata": {},
   "outputs": [],
   "source": [
    "df.drop([\"my distance\"] , axis=1,inplace=True)"
   ]
  },
  {
   "cell_type": "code",
   "execution_count": null,
   "id": "e0443769",
   "metadata": {},
   "outputs": [],
   "source": [
    "df.sample(3)"
   ]
  },
  {
   "cell_type": "code",
   "execution_count": null,
   "id": "c795b64d",
   "metadata": {},
   "outputs": [],
   "source": [
    "df[df[\"distance\"]>50]"
   ]
  },
  {
   "cell_type": "code",
   "execution_count": null,
   "id": "f313639e",
   "metadata": {},
   "outputs": [],
   "source": [
    "df[df[\"distance\"] > 50][\"fare_amount\"].describe()"
   ]
  },
  {
   "cell_type": "code",
   "execution_count": null,
   "id": "3372f5da",
   "metadata": {},
   "outputs": [],
   "source": [
    "df.drop(df[df[\"distance\"] > 50].index,axis=0,inplace=True)"
   ]
  },
  {
   "cell_type": "code",
   "execution_count": null,
   "id": "9e7ea71f",
   "metadata": {},
   "outputs": [],
   "source": [
    "df.describe()"
   ]
  },
  {
   "cell_type": "code",
   "execution_count": null,
   "id": "6ead672b",
   "metadata": {},
   "outputs": [],
   "source": [
    "df[df[\"distance\"]<0.1]"
   ]
  },
  {
   "cell_type": "code",
   "execution_count": null,
   "id": "149ba2e2",
   "metadata": {},
   "outputs": [],
   "source": [
    "df[df[\"distance\"] <0.1][\"fare_amount\"].describe()"
   ]
  },
  {
   "cell_type": "code",
   "execution_count": null,
   "id": "e63790c5",
   "metadata": {},
   "outputs": [],
   "source": [
    "df.drop(df[df[\"distance\"]<0.1].index,axis=0,inplace=True)"
   ]
  },
  {
   "cell_type": "code",
   "execution_count": null,
   "id": "31e68e69",
   "metadata": {},
   "outputs": [],
   "source": [
    "df[[\"distance\"]].describe()"
   ]
  },
  {
   "cell_type": "code",
   "execution_count": null,
   "id": "e67d2df2",
   "metadata": {},
   "outputs": [],
   "source": [
    "df.info()"
   ]
  },
  {
   "cell_type": "code",
   "execution_count": null,
   "id": "57669792",
   "metadata": {},
   "outputs": [],
   "source": [
    "df[df[\"fare_amount\"]>100][\"distance\"].describe()"
   ]
  },
  {
   "cell_type": "code",
   "execution_count": null,
   "id": "cadf0eda",
   "metadata": {},
   "outputs": [],
   "source": [
    "df[(df[\"fare_amount\"]>100 ) & ( df[\"distance\"]<10)]"
   ]
  },
  {
   "cell_type": "code",
   "execution_count": null,
   "id": "468a3427",
   "metadata": {},
   "outputs": [],
   "source": [
    "df.drop(df[(df[\"fare_amount\"]>100 ) & ( df[\"distance\"]<10)].index,axis=0,inplace=True)"
   ]
  },
  {
   "cell_type": "code",
   "execution_count": null,
   "id": "af73519b",
   "metadata": {},
   "outputs": [],
   "source": [
    "df[df[\"fare_amount\"]>100][\"distance\"].describe()"
   ]
  },
  {
   "cell_type": "code",
   "execution_count": null,
   "id": "3e5960b3",
   "metadata": {},
   "outputs": [],
   "source": [
    "df[(df[\"fare_amount\"]<10 ) & ( df[\"distance\"]>20)]"
   ]
  },
  {
   "cell_type": "code",
   "execution_count": null,
   "id": "14e1db23",
   "metadata": {},
   "outputs": [],
   "source": [
    "df[(df[\"fare_amount\"]<10 ) & ( df[\"distance\"]>20)].describe()"
   ]
  },
  {
   "cell_type": "code",
   "execution_count": null,
   "id": "e6e89f28",
   "metadata": {},
   "outputs": [],
   "source": [
    "df[df[\"fare_amount\"]<10][\"distance\"].describe()"
   ]
  },
  {
   "cell_type": "code",
   "execution_count": null,
   "id": "ebba8283",
   "metadata": {},
   "outputs": [],
   "source": [
    "df.drop(df[(df[\"fare_amount\"]<10 ) & ( df[\"distance\"]>20)].index,axis=0,inplace=True)"
   ]
  },
  {
   "cell_type": "code",
   "execution_count": null,
   "id": "7681d2dd",
   "metadata": {},
   "outputs": [],
   "source": [
    "df[df[\"fare_amount\"]<10][\"distance\"].describe()"
   ]
  },
  {
   "cell_type": "code",
   "execution_count": null,
   "id": "17418b14",
   "metadata": {},
   "outputs": [],
   "source": [
    "sns.scatterplot(df,x=df[\"distance\"],y=df[\"fare_amount\"])\n",
    "plt.title(\"Fare Amount By Distance \")"
   ]
  },
  {
   "cell_type": "code",
   "execution_count": null,
   "id": "c0834465",
   "metadata": {},
   "outputs": [],
   "source": [
    "df.head()"
   ]
  },
  {
   "cell_type": "code",
   "execution_count": null,
   "id": "efac36b0",
   "metadata": {},
   "outputs": [],
   "source": [
    "df.drop([\"nyc_dist\",\"jfk_dist\",\"lga_dist\",\"ewr_dist\",\"bearing\",\"min\"],axis=1,inplace=True)"
   ]
  },
  {
   "cell_type": "code",
   "execution_count": null,
   "id": "29ccc673",
   "metadata": {},
   "outputs": [],
   "source": [
    "df.head()"
   ]
  },
  {
   "cell_type": "code",
   "execution_count": null,
   "id": "b579fa4c",
   "metadata": {},
   "outputs": [],
   "source": [
    "df[\"fare_per_km\"]=df[\"fare_amount\"]/df[\"distance\"]"
   ]
  },
  {
   "cell_type": "code",
   "execution_count": null,
   "id": "3e9bc392",
   "metadata": {},
   "outputs": [],
   "source": [
    "df.head()"
   ]
  },
  {
   "cell_type": "code",
   "execution_count": null,
   "id": "87873e6f",
   "metadata": {},
   "outputs": [],
   "source": [
    "df.groupby(\"year\")[[\"fare_per_km\"]].mean()"
   ]
  },
  {
   "cell_type": "code",
   "execution_count": null,
   "id": "52a477ac",
   "metadata": {},
   "outputs": [],
   "source": [
    "df[df['fare_per_km']>20]"
   ]
  },
  {
   "cell_type": "code",
   "execution_count": null,
   "id": "5620a083",
   "metadata": {},
   "outputs": [],
   "source": [
    "df.drop(df[df['fare_per_km']>20].index,axis=0,inplace=True)"
   ]
  },
  {
   "cell_type": "code",
   "execution_count": null,
   "id": "54576b51",
   "metadata": {},
   "outputs": [],
   "source": [
    "df[\"fare_per_km\"].describe()"
   ]
  },
  {
   "cell_type": "code",
   "execution_count": null,
   "id": "e6fa1c3e",
   "metadata": {},
   "outputs": [],
   "source": [
    "df[df['fare_per_km']<1]"
   ]
  },
  {
   "cell_type": "code",
   "execution_count": null,
   "id": "bd54ac02",
   "metadata": {},
   "outputs": [],
   "source": [
    "df.drop(df[df['fare_per_km']<1].index,axis=0,inplace=True)"
   ]
  },
  {
   "cell_type": "code",
   "execution_count": null,
   "id": "1703a288",
   "metadata": {},
   "outputs": [],
   "source": [
    "df[\"fare_per_km\"].describe()"
   ]
  },
  {
   "cell_type": "code",
   "execution_count": null,
   "id": "09566255",
   "metadata": {},
   "outputs": [],
   "source": [
    "df[df['fare_per_km']>15]"
   ]
  },
  {
   "cell_type": "code",
   "execution_count": null,
   "id": "88aae069",
   "metadata": {},
   "outputs": [],
   "source": [
    "df.drop(df[df['fare_per_km']>15].index,axis=0,inplace=True)"
   ]
  },
  {
   "cell_type": "code",
   "execution_count": null,
   "id": "4d3cfa75",
   "metadata": {},
   "outputs": [],
   "source": [
    "df[\"fare_per_km\"].describe()"
   ]
  },
  {
   "cell_type": "code",
   "execution_count": null,
   "id": "532630ac",
   "metadata": {},
   "outputs": [],
   "source": [
    "df.head()"
   ]
  },
  {
   "cell_type": "code",
   "execution_count": null,
   "id": "15d89bb1",
   "metadata": {},
   "outputs": [],
   "source": [
    "sns.scatterplot(df,x=df[\"distance\"],y=df[\"fare_per_km\"])"
   ]
  },
  {
   "cell_type": "code",
   "execution_count": null,
   "id": "1b13ee40",
   "metadata": {},
   "outputs": [],
   "source": [
    "df[\"sol_dist\"].describe()"
   ]
  },
  {
   "cell_type": "code",
   "execution_count": null,
   "id": "ab600a44",
   "metadata": {},
   "outputs": [],
   "source": [
    "df[df[\"sol_dist\"]>50]"
   ]
  },
  {
   "cell_type": "code",
   "execution_count": null,
   "id": "ec98d546",
   "metadata": {},
   "outputs": [],
   "source": [
    "df.drop(df[df[\"sol_dist\"]>50].index,axis=0,inplace=True)"
   ]
  },
  {
   "cell_type": "code",
   "execution_count": null,
   "id": "ddcaeea1",
   "metadata": {},
   "outputs": [],
   "source": [
    "df[\"sol_dist\"].describe()"
   ]
  },
  {
   "cell_type": "code",
   "execution_count": null,
   "id": "fd5ca138",
   "metadata": {},
   "outputs": [],
   "source": [
    "sns.countplot(data=df, x=\"hour\",palette=\"viridis\",hue=\"hour\",legend=False)\n",
    "plt.title(\"Number of Registrations by Hour\")\n",
    "plt.xlabel(\"Hour of the Day\")\n",
    "plt.ylabel(\"Count\")\n",
    "plt.xticks(rotation=45)\n",
    "plt.tight_layout()\n",
    "plt.show()\n"
   ]
  },
  {
   "cell_type": "code",
   "execution_count": null,
   "id": "1c828348",
   "metadata": {},
   "outputs": [],
   "source": [
    "sns.barplot(data=df, x=\"hour\", y=\"fare_amount\", estimator=\"mean\", errorbar=None,palette=\"viridis\",hue=\"hour\",legend=False)\n",
    "\n",
    "plt.title(\"Average Fare Amount by Hour\")\n",
    "plt.xlabel(\"Hour of the Day\")\n",
    "plt.ylabel(\"Average Fare Amount\")\n",
    "plt.xticks(rotation=45)\n",
    "plt.show()"
   ]
  },
  {
   "cell_type": "code",
   "execution_count": null,
   "id": "a8ea5ca8",
   "metadata": {},
   "outputs": [],
   "source": [
    "sns.countplot(data=df, x=\"day\",palette=\"viridis\",hue=\"day\",legend=False)\n",
    "plt.title(\"Number of Registrations by day\")\n",
    "plt.xlabel(\"Days\")\n",
    "plt.ylabel(\"Count\")\n",
    "plt.xticks(rotation=45)\n",
    "plt.tight_layout()\n",
    "plt.show()\n"
   ]
  },
  {
   "cell_type": "code",
   "execution_count": null,
   "id": "476cc181",
   "metadata": {},
   "outputs": [],
   "source": [
    "sns.barplot(data=df, x=\"day\", y=\"fare_amount\", estimator=\"mean\", errorbar=None,palette=\"viridis\",hue=\"day\",legend=False)\n",
    "\n",
    "plt.title(\"Average Fare Amount by day\")\n",
    "plt.xlabel(\"Days\")\n",
    "plt.ylabel(\"Average Fare Amount\")\n",
    "plt.xticks(rotation=45)\n",
    "plt.show()"
   ]
  },
  {
   "cell_type": "code",
   "execution_count": null,
   "id": "063a8c8a",
   "metadata": {},
   "outputs": [],
   "source": [
    "sns.countplot(data=df, x=\"month\",palette=\"viridis\",hue=\"month\",legend=False)\n",
    "plt.title(\"Number of Registrations by month\")\n",
    "plt.xlabel(\"months\")\n",
    "plt.ylabel(\"Count\")\n",
    "plt.xticks(rotation=45)\n",
    "plt.tight_layout()\n",
    "plt.show()\n"
   ]
  },
  {
   "cell_type": "code",
   "execution_count": null,
   "id": "e9b5a4c0",
   "metadata": {},
   "outputs": [],
   "source": [
    "sns.barplot(data=df, x=\"month\", y=\"fare_amount\", estimator=\"mean\", errorbar=None,palette=\"viridis\",hue=\"month\",legend=False)\n",
    "\n",
    "plt.title(\"Average Fare Amount by month\")\n",
    "plt.xlabel(\"month\")\n",
    "plt.ylabel(\"Average Fare Amount\")\n",
    "plt.xticks(rotation=45)\n",
    "plt.show()"
   ]
  },
  {
   "cell_type": "code",
   "execution_count": null,
   "id": "1d1cf574",
   "metadata": {},
   "outputs": [],
   "source": [
    "sns.countplot(data=df, x=\"year\",palette=\"viridis\",hue=\"year\",legend=False)\n",
    "plt.title(\"Number of Registrations by year\")\n",
    "plt.xlabel(\"year \")\n",
    "plt.ylabel(\"Count\")\n",
    "plt.xticks(rotation=45)\n",
    "plt.tight_layout()\n",
    "plt.show()\n"
   ]
  },
  {
   "cell_type": "code",
   "execution_count": null,
   "id": "27ec5c27",
   "metadata": {},
   "outputs": [],
   "source": [
    "sns.barplot(data=df, x=\"year\", y=\"fare_amount\", estimator=\"mean\", errorbar=None,palette=\"viridis\",hue=\"year\",legend=False)\n",
    "\n",
    "plt.title(\"Average Fare Amount by year\")\n",
    "plt.xlabel(\"year\")\n",
    "plt.ylabel(\"Average Fare Amount\")\n",
    "plt.xticks(rotation=45)\n",
    "plt.show()"
   ]
  },
  {
   "cell_type": "code",
   "execution_count": null,
   "id": "393d06e7",
   "metadata": {},
   "outputs": [],
   "source": [
    "df.head()"
   ]
  },
  {
   "cell_type": "code",
   "execution_count": null,
   "id": "52f4d04e",
   "metadata": {},
   "outputs": [],
   "source": [
    "df[\"Car Condition\"].unique()"
   ]
  },
  {
   "cell_type": "code",
   "execution_count": null,
   "id": "38b7cb22",
   "metadata": {},
   "outputs": [],
   "source": [
    "carmap={\n",
    "    \"Bad\":0,\n",
    "    \"Good\":1,\n",
    "    \"Very Good\":2,\n",
    "    \"Excellent\":3\n",
    "}\n",
    "df[\"Car Condition\"]=df[\"Car Condition\"].map(carmap)"
   ]
  },
  {
   "cell_type": "code",
   "execution_count": null,
   "id": "49431f42",
   "metadata": {},
   "outputs": [],
   "source": [
    "df.columns=df.columns.str.strip().str.lower().str.replace(\" \",\"_\")"
   ]
  },
  {
   "cell_type": "code",
   "execution_count": null,
   "id": "943da683",
   "metadata": {},
   "outputs": [],
   "source": [
    "df.columns"
   ]
  },
  {
   "cell_type": "code",
   "execution_count": null,
   "id": "3cad9d03",
   "metadata": {},
   "outputs": [],
   "source": [
    "df = pd.get_dummies(df, columns=[\"weather\", \"traffic_condition\"], drop_first=True)"
   ]
  },
  {
   "cell_type": "code",
   "execution_count": null,
   "id": "28841111",
   "metadata": {},
   "outputs": [],
   "source": [
    "df.head()"
   ]
  },
  {
   "cell_type": "code",
   "execution_count": null,
   "id": "d0561efd",
   "metadata": {},
   "outputs": [],
   "source": [
    "x=df.drop(df[[\"fare_amount\",\"fare_per_km\"]],axis=1)\n",
    "y=df[\"fare_amount\"]"
   ]
  },
  {
   "cell_type": "code",
   "execution_count": null,
   "id": "4242b551",
   "metadata": {},
   "outputs": [],
   "source": [
    "X_train, X_test, y_train, y_test = train_test_split(x, y, test_size=0.2, random_state=42)\n"
   ]
  },
  {
   "cell_type": "code",
   "execution_count": null,
   "id": "b6959282",
   "metadata": {},
   "outputs": [],
   "source": [
    "scaler=RobustScaler()"
   ]
  },
  {
   "cell_type": "code",
   "execution_count": null,
   "id": "41889a9b",
   "metadata": {},
   "outputs": [],
   "source": [
    "X_train[[\"sol_dist\", \"distance\"]] = scaler.fit_transform(X_train[[\"sol_dist\", \"distance\"]])\n",
    "X_test[[\"sol_dist\", \"distance\"]] = scaler.transform(X_test[[\"sol_dist\", \"distance\"]])  "
   ]
  },
  {
   "cell_type": "code",
   "execution_count": null,
   "id": "102ef805",
   "metadata": {},
   "outputs": [],
   "source": [
    "models = {\n",
    "    \"Linear Regression\": LinearRegression(),\n",
    "    \"Random Forest\": RandomForestRegressor(),\n",
    "    \"Gradient Boosting\": GradientBoostingRegressor(),\n",
    "    \"AdaBoost\": AdaBoostRegressor(),\n",
    "    \"Bagging\": BaggingRegressor(),\n",
    "    \"XGBoost\": xgb.XGBRegressor(),\n",
    "    \"KNN\": KNeighborsRegressor(),\n",
    "    \"Decision Tree\": DecisionTreeRegressor()\n",
    "}\n",
    "\n",
    "for name, model in models.items():\n",
    "    model.fit(X_train, y_train)\n",
    "    y_train_pred = model.predict(X_train)\n",
    "    y_test_pred = model.predict(X_test)\n",
    "\n",
    "    train_r2 = r2_score(y_train, y_train_pred)\n",
    "    train_mse = mean_squared_error(y_train, y_train_pred)\n",
    "    train_rmse = np.sqrt(train_mse)\n",
    "    train_mae = mean_absolute_error(y_train, y_train_pred)\n",
    "\n",
    "    test_r2 = r2_score(y_test, y_test_pred)\n",
    "    test_mse = mean_squared_error(y_test, y_test_pred)\n",
    "    test_rmse = np.sqrt(test_mse)\n",
    "    test_mae = mean_absolute_error(y_test, y_test_pred)\n",
    "\n",
    "    print(f\"Model: {name}\")\n",
    "    print(f\"Train - R2: {train_r2:.4f} | RMSE: {train_rmse:.4f} | MSE: {train_mse:.4f} | MAE: {train_mae:.4f}\")\n",
    "    print(f\"Test  - R2: {test_r2:.4f} | RMSE: {test_rmse:.4f} | MSE: {test_mse:.4f} | MAE: {test_mae:.4f}\")\n",
    "    print(\"-\" * 50)"
   ]
  },
  {
   "cell_type": "code",
   "execution_count": null,
   "id": "5ad9b3ca",
   "metadata": {},
   "outputs": [],
   "source": [
    "from xgboost import XGBRegressor\n",
    "from sklearn.model_selection import RandomizedSearchCV\n",
    "\n",
    "param_grid = {\n",
    "    'n_estimators': [100, 200, 300],\n",
    "    'max_depth': [3, 5, 7],\n",
    "    'learning_rate': [0.01, 0.05, 0.1],\n",
    "    'subsample': [0.8, 1.0],\n",
    "    'colsample_bytree': [0.8, 1.0]\n",
    "}\n",
    "\n",
    "xgb_model = XGBRegressor()\n",
    "search = RandomizedSearchCV(\n",
    "    estimator=xgb_model,\n",
    "    param_distributions=param_grid,\n",
    "    n_iter=10,\n",
    "    scoring='r2',\n",
    "    cv=3,\n",
    "    verbose=1,\n",
    "    n_jobs=-1\n",
    ")\n",
    "\n",
    "search.fit(X_train, y_train)\n",
    "print(\"Best parameters:\", search.best_params_)\n",
    "print(\"Best CV score (R2):\", search.best_score_)\n"
   ]
  },
  {
   "cell_type": "code",
   "execution_count": null,
   "id": "5580f5d3",
   "metadata": {},
   "outputs": [],
   "source": [
    "best_model = search.best_estimator_\n",
    "best_model.fit(X_train, y_train)\n",
    "y_pred = search.best_estimator_.predict(X_test)\n",
    "mse = mean_squared_error(y_test, y_pred)\n",
    "rmse = np.sqrt(mse)\n",
    "mae = mean_absolute_error(y_test, y_pred)\n",
    "r2 = r2_score(y_test, y_pred)\n",
    "\n",
    "print(f\" Mean Squared Error (MSE): {mse:.4f}\")\n",
    "print(f\" Root Mean Squared Error (RMSE): {rmse:.4f}\")\n",
    "print(f\" Mean Absolute Error (MAE): {mae:.4f}\")\n",
    "print(f\" R² Score: {r2:.4f}\")\n"
   ]
  },
  {
   "cell_type": "code",
   "execution_count": null,
   "id": "678dc866",
   "metadata": {},
   "outputs": [],
   "source": [
    "pickle.dump(best_model, open(\"model.pkl\", \"wb\"))\n",
    "pickle.dump(scaler, open(\"scaler.pkl\", \"wb\"))\n"
   ]
  },
  {
   "cell_type": "code",
   "execution_count": null,
   "id": "d60e3698",
   "metadata": {},
   "outputs": [],
   "source": [
    "%%writefile app.py\n",
    "import streamlit as st\n",
    "import pandas as pd\n",
    "import pickle\n",
    "\n",
    "st.title(\"Taxi Fare Prediction\")\n",
    "st.write(\"This app predicts the taxi fare amount based on various trip and environment details.\")\n",
    "st.image(\"https://oceansidetaxi.ca/wp-content/uploads/uber-estimate.png\", width=700)\n",
    "\n",
    "# --- User Inputs ---\n",
    "car_condition = st.selectbox(\"Car Condition\", [\"Bad\", \"Good\", \"Very Good\", \"Excellent\"])\n",
    "car_map = {\"Bad\": 0, \"Good\": 1, \"Very Good\": 2, \"Excellent\": 3}\n",
    "car_condition_val = car_map[car_condition]\n",
    "\n",
    "passenger_count = st.number_input(\"Number of Passengers\", min_value=0, max_value=6, value=1)\n",
    "\n",
    "hour = st.slider(\"Hour of the Day\", 0, 23, 12)\n",
    "day = st.slider(\"Day of Month\", 1, 31, 15)\n",
    "month = st.selectbox(\"Month\", list(range(1, 13)))\n",
    "weekday_name = st.selectbox(\"Day of the Week\", [\n",
    "    \"Monday\", \"Tuesday\", \"Wednesday\", \"Thursday\", \"Friday\", \"Saturday\", \"Sunday\"\n",
    "])\n",
    "weekday_map = {\n",
    "    \"Monday\": 0,\n",
    "    \"Tuesday\": 1,\n",
    "    \"Wednesday\": 2,\n",
    "    \"Thursday\": 3,\n",
    "    \"Friday\": 4,\n",
    "    \"Saturday\": 5,\n",
    "    \"Sunday\": 6\n",
    "}\n",
    "weekday = weekday_map[weekday_name]\n",
    "year = st.selectbox(\"Year\", [2009,2010,2011,2012,2013,2014,2015])\n",
    "\n",
    "sol_dist = st.number_input(\"Distance from statue of liberty (km)\", min_value=0.0, max_value=50.0, step=0.1)\n",
    "distance = st.number_input(\"Trip Distance (km)\", min_value=0.0, max_value=50.0, step=0.1)\n",
    "\n",
    "# Weather (cloudy is dropped in one-hot, so not shown)\n",
    "weather = st.selectbox(\"Weather\", [\"Cloudy\", \"Rainy\", \"Stormy\", \"Sunny\", \"Windy\"])\n",
    "weather_features = ['weather_rainy', 'weather_stormy', 'weather_sunny', 'weather_windy']\n",
    "weather_encoding = [1 if weather.lower() in w else 0 for w in weather_features]\n",
    "\n",
    "# Traffic (Congested Traffic is dropped)\n",
    "traffic = st.selectbox(\"Traffic Condition\", [\"Congested Traffic\", \"Dense Traffic\", \"Flow Traffic\"])\n",
    "traffic_features = ['traffic_condition_Dense Traffic', 'traffic_condition_Flow Traffic']\n",
    "traffic_encoding = [1 if traffic in t else 0 for t in traffic_features]\n",
    "\n",
    "# --- Prepare Input ---\n",
    "input_data = [[\n",
    "    car_condition_val, passenger_count, hour, day, month, weekday,\n",
    "    year, sol_dist, distance\n",
    "] + weather_encoding + traffic_encoding]\n",
    "\n",
    "columns = [\n",
    "    'car_condition', 'passenger_count', 'hour', 'day', 'month', 'weekday',\n",
    "    'year', 'sol_dist', 'distance',\n",
    "    'weather_rainy', 'weather_stormy', 'weather_sunny', 'weather_windy',\n",
    "    'traffic_condition_Dense Traffic', 'traffic_condition_Flow Traffic'\n",
    "]\n",
    "\n",
    "input_df = pd.DataFrame(input_data, columns=columns)\n",
    "\n",
    "# --- Load Scaler and Model ---\n",
    "scaler = pickle.load(open(\"scaler.pkl\", \"rb\"))\n",
    "model = pickle.load(open(\"model.pkl\", \"rb\"))\n",
    "\n",
    "# --- Scale sol_dist and distance only ---\n",
    "input_df[[\"sol_dist\", \"distance\"]] = scaler.transform(input_df[[\"sol_dist\", \"distance\"]])\n",
    "\n",
    "# --- Predict ---\n",
    "if st.button(\"Predict Fare\"):\n",
    "    predicted_fare = model.predict(input_df)[0]\n",
    "    st.write(\"**Predicted Fare Amount:**\")\n",
    "    st.success(f\"${predicted_fare:.2f}\")\n",
    "    st.write(\"---\")\n",
    "    st.write(\"**Input Data Used for Prediction:**\")\n",
    "    st.dataframe(input_df)\n"
   ]
  },
  {
   "cell_type": "code",
   "execution_count": null,
   "id": "1b907dad",
   "metadata": {},
   "outputs": [],
   "source": [
    "!streamlit run app.py"
   ]
  },
  {
   "cell_type": "code",
   "execution_count": null,
   "id": "e0707aeb",
   "metadata": {},
   "outputs": [],
   "source": []
  }
 ],
 "metadata": {
  "kernelspec": {
   "display_name": "base",
   "language": "python",
   "name": "python3"
  },
  "language_info": {
   "codemirror_mode": {
    "name": "ipython",
    "version": 3
   },
   "file_extension": ".py",
   "mimetype": "text/x-python",
   "name": "python",
   "nbconvert_exporter": "python",
   "pygments_lexer": "ipython3",
   "version": "3.12.7"
  }
 },
 "nbformat": 4,
 "nbformat_minor": 5
}
