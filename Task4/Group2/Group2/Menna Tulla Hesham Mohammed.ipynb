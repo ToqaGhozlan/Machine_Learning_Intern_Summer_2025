{
 "cells": [
  {
   "cell_type": "code",
   "execution_count": 79,
   "id": "25970323-2b7a-4908-ac07-99a81b66e1c4",
   "metadata": {},
   "outputs": [],
   "source": [
    "import pandas as pd\n",
    "import numpy as np\n",
    "import matplotlib.pyplot as plt\n",
    "import seaborn as sns\n",
    "import warnings\n",
    "warnings.filterwarnings('ignore')"
   ]
  },
  {
   "cell_type": "code",
   "execution_count": 81,
   "id": "c56212bb-53e3-417f-b9b4-5b0a7c857291",
   "metadata": {},
   "outputs": [
    {
     "data": {
      "text/html": [
       "<div>\n",
       "<style scoped>\n",
       "    .dataframe tbody tr th:only-of-type {\n",
       "        vertical-align: middle;\n",
       "    }\n",
       "\n",
       "    .dataframe tbody tr th {\n",
       "        vertical-align: top;\n",
       "    }\n",
       "\n",
       "    .dataframe thead th {\n",
       "        text-align: right;\n",
       "    }\n",
       "</style>\n",
       "<table border=\"1\" class=\"dataframe\">\n",
       "  <thead>\n",
       "    <tr style=\"text-align: right;\">\n",
       "      <th></th>\n",
       "      <th>User ID</th>\n",
       "      <th>User Name</th>\n",
       "      <th>Driver Name</th>\n",
       "      <th>Car Condition</th>\n",
       "      <th>Weather</th>\n",
       "      <th>Traffic Condition</th>\n",
       "      <th>key</th>\n",
       "      <th>fare_amount</th>\n",
       "      <th>pickup_datetime</th>\n",
       "      <th>pickup_longitude</th>\n",
       "      <th>...</th>\n",
       "      <th>month</th>\n",
       "      <th>weekday</th>\n",
       "      <th>year</th>\n",
       "      <th>jfk_dist</th>\n",
       "      <th>ewr_dist</th>\n",
       "      <th>lga_dist</th>\n",
       "      <th>sol_dist</th>\n",
       "      <th>nyc_dist</th>\n",
       "      <th>distance</th>\n",
       "      <th>bearing</th>\n",
       "    </tr>\n",
       "  </thead>\n",
       "  <tbody>\n",
       "    <tr>\n",
       "      <th>0</th>\n",
       "      <td>KHVrEVlD</td>\n",
       "      <td>Kimberly Adams</td>\n",
       "      <td>Amy Butler</td>\n",
       "      <td>Very Good</td>\n",
       "      <td>windy</td>\n",
       "      <td>Congested Traffic</td>\n",
       "      <td>2009-06-15 17:26:21.0000001</td>\n",
       "      <td>4.5</td>\n",
       "      <td>2009-06-15 17:26:21</td>\n",
       "      <td>-1.288826</td>\n",
       "      <td>...</td>\n",
       "      <td>6</td>\n",
       "      <td>0</td>\n",
       "      <td>2009</td>\n",
       "      <td>20.265840</td>\n",
       "      <td>55.176046</td>\n",
       "      <td>14.342611</td>\n",
       "      <td>34.543548</td>\n",
       "      <td>27.572573</td>\n",
       "      <td>1.030764</td>\n",
       "      <td>-2.918897</td>\n",
       "    </tr>\n",
       "    <tr>\n",
       "      <th>1</th>\n",
       "      <td>lPxIuEri</td>\n",
       "      <td>Justin Tapia</td>\n",
       "      <td>Hannah Zimmerman</td>\n",
       "      <td>Excellent</td>\n",
       "      <td>cloudy</td>\n",
       "      <td>Flow Traffic</td>\n",
       "      <td>2010-01-05 16:52:16.0000002</td>\n",
       "      <td>16.9</td>\n",
       "      <td>2010-01-05 16:52:16</td>\n",
       "      <td>-1.291824</td>\n",
       "      <td>...</td>\n",
       "      <td>1</td>\n",
       "      <td>1</td>\n",
       "      <td>2010</td>\n",
       "      <td>44.667679</td>\n",
       "      <td>31.832358</td>\n",
       "      <td>23.130775</td>\n",
       "      <td>15.125872</td>\n",
       "      <td>8.755732</td>\n",
       "      <td>8.450134</td>\n",
       "      <td>-0.375217</td>\n",
       "    </tr>\n",
       "    <tr>\n",
       "      <th>2</th>\n",
       "      <td>gsVN8JLS</td>\n",
       "      <td>Elizabeth Lopez</td>\n",
       "      <td>Amanda Jackson</td>\n",
       "      <td>Bad</td>\n",
       "      <td>stormy</td>\n",
       "      <td>Congested Traffic</td>\n",
       "      <td>2011-08-18 00:35:00.00000049</td>\n",
       "      <td>5.7</td>\n",
       "      <td>2011-08-18 00:35:00</td>\n",
       "      <td>-1.291242</td>\n",
       "      <td>...</td>\n",
       "      <td>8</td>\n",
       "      <td>3</td>\n",
       "      <td>2011</td>\n",
       "      <td>43.597686</td>\n",
       "      <td>33.712082</td>\n",
       "      <td>19.865289</td>\n",
       "      <td>17.722624</td>\n",
       "      <td>9.847344</td>\n",
       "      <td>1.389525</td>\n",
       "      <td>2.599961</td>\n",
       "    </tr>\n",
       "    <tr>\n",
       "      <th>3</th>\n",
       "      <td>9I7kWFgd</td>\n",
       "      <td>Steven Wilson</td>\n",
       "      <td>Amy Horn</td>\n",
       "      <td>Very Good</td>\n",
       "      <td>stormy</td>\n",
       "      <td>Flow Traffic</td>\n",
       "      <td>2012-04-21 04:30:42.0000001</td>\n",
       "      <td>7.7</td>\n",
       "      <td>2012-04-21 04:30:42</td>\n",
       "      <td>-1.291319</td>\n",
       "      <td>...</td>\n",
       "      <td>4</td>\n",
       "      <td>5</td>\n",
       "      <td>2012</td>\n",
       "      <td>42.642965</td>\n",
       "      <td>32.556289</td>\n",
       "      <td>21.063132</td>\n",
       "      <td>15.738963</td>\n",
       "      <td>7.703421</td>\n",
       "      <td>2.799270</td>\n",
       "      <td>0.133905</td>\n",
       "    </tr>\n",
       "    <tr>\n",
       "      <th>4</th>\n",
       "      <td>8QN5ZaGN</td>\n",
       "      <td>Alexander Andrews</td>\n",
       "      <td>Cassandra Larson</td>\n",
       "      <td>Bad</td>\n",
       "      <td>stormy</td>\n",
       "      <td>Congested Traffic</td>\n",
       "      <td>2010-03-09 07:51:00.000000135</td>\n",
       "      <td>5.3</td>\n",
       "      <td>2010-03-09 07:51:00</td>\n",
       "      <td>-1.290987</td>\n",
       "      <td>...</td>\n",
       "      <td>3</td>\n",
       "      <td>1</td>\n",
       "      <td>2010</td>\n",
       "      <td>43.329953</td>\n",
       "      <td>39.406828</td>\n",
       "      <td>15.219339</td>\n",
       "      <td>23.732406</td>\n",
       "      <td>15.600745</td>\n",
       "      <td>1.999157</td>\n",
       "      <td>-0.502703</td>\n",
       "    </tr>\n",
       "  </tbody>\n",
       "</table>\n",
       "<p>5 rows × 26 columns</p>\n",
       "</div>"
      ],
      "text/plain": [
       "    User ID          User Name       Driver Name Car Condition Weather  \\\n",
       "0  KHVrEVlD     Kimberly Adams        Amy Butler     Very Good   windy   \n",
       "1  lPxIuEri       Justin Tapia  Hannah Zimmerman     Excellent  cloudy   \n",
       "2  gsVN8JLS    Elizabeth Lopez    Amanda Jackson           Bad  stormy   \n",
       "3  9I7kWFgd      Steven Wilson          Amy Horn     Very Good  stormy   \n",
       "4  8QN5ZaGN  Alexander Andrews  Cassandra Larson           Bad  stormy   \n",
       "\n",
       "   Traffic Condition                            key  fare_amount  \\\n",
       "0  Congested Traffic    2009-06-15 17:26:21.0000001          4.5   \n",
       "1       Flow Traffic    2010-01-05 16:52:16.0000002         16.9   \n",
       "2  Congested Traffic   2011-08-18 00:35:00.00000049          5.7   \n",
       "3       Flow Traffic    2012-04-21 04:30:42.0000001          7.7   \n",
       "4  Congested Traffic  2010-03-09 07:51:00.000000135          5.3   \n",
       "\n",
       "       pickup_datetime  pickup_longitude  ...  month  weekday  year  \\\n",
       "0  2009-06-15 17:26:21         -1.288826  ...      6        0  2009   \n",
       "1  2010-01-05 16:52:16         -1.291824  ...      1        1  2010   \n",
       "2  2011-08-18 00:35:00         -1.291242  ...      8        3  2011   \n",
       "3  2012-04-21 04:30:42         -1.291319  ...      4        5  2012   \n",
       "4  2010-03-09 07:51:00         -1.290987  ...      3        1  2010   \n",
       "\n",
       "    jfk_dist   ewr_dist   lga_dist   sol_dist   nyc_dist  distance   bearing  \n",
       "0  20.265840  55.176046  14.342611  34.543548  27.572573  1.030764 -2.918897  \n",
       "1  44.667679  31.832358  23.130775  15.125872   8.755732  8.450134 -0.375217  \n",
       "2  43.597686  33.712082  19.865289  17.722624   9.847344  1.389525  2.599961  \n",
       "3  42.642965  32.556289  21.063132  15.738963   7.703421  2.799270  0.133905  \n",
       "4  43.329953  39.406828  15.219339  23.732406  15.600745  1.999157 -0.502703  \n",
       "\n",
       "[5 rows x 26 columns]"
      ]
     },
     "execution_count": 81,
     "metadata": {},
     "output_type": "execute_result"
    }
   ],
   "source": [
    "df = pd.read_csv(\"final_internship_data.csv\")\n",
    "df.head()"
   ]
  },
  {
   "cell_type": "code",
   "execution_count": 83,
   "id": "ad6805b3-269a-44b6-9636-0ad15d24bea7",
   "metadata": {},
   "outputs": [
    {
     "data": {
      "text/plain": [
       "Index(['User ID', 'User Name', 'Driver Name', 'Car Condition', 'Weather',\n",
       "       'Traffic Condition', 'key', 'fare_amount', 'pickup_datetime',\n",
       "       'pickup_longitude', 'pickup_latitude', 'dropoff_longitude',\n",
       "       'dropoff_latitude', 'passenger_count', 'hour', 'day', 'month',\n",
       "       'weekday', 'year', 'jfk_dist', 'ewr_dist', 'lga_dist', 'sol_dist',\n",
       "       'nyc_dist', 'distance', 'bearing'],\n",
       "      dtype='object')"
      ]
     },
     "execution_count": 83,
     "metadata": {},
     "output_type": "execute_result"
    }
   ],
   "source": [
    "df.columns"
   ]
  },
  {
   "cell_type": "markdown",
   "id": "4c081030-659e-4542-b215-bcc43d59c6fb",
   "metadata": {},
   "source": [
    "<h1>Preprocessing</h1>"
   ]
  },
  {
   "cell_type": "code",
   "execution_count": 86,
   "id": "731e5111-dd50-43aa-a5ef-0e27898ff179",
   "metadata": {},
   "outputs": [
    {
     "data": {
      "text/plain": [
       "0"
      ]
     },
     "execution_count": 86,
     "metadata": {},
     "output_type": "execute_result"
    }
   ],
   "source": [
    "df.duplicated().sum()"
   ]
  },
  {
   "cell_type": "code",
   "execution_count": 88,
   "id": "7f647957-0ad6-428f-adbb-0d1d225418e4",
   "metadata": {},
   "outputs": [
    {
     "data": {
      "text/plain": [
       "User ID              0\n",
       "User Name            0\n",
       "Driver Name          0\n",
       "Car Condition        0\n",
       "Weather              0\n",
       "Traffic Condition    0\n",
       "key                  0\n",
       "fare_amount          0\n",
       "pickup_datetime      0\n",
       "pickup_longitude     0\n",
       "pickup_latitude      0\n",
       "dropoff_longitude    5\n",
       "dropoff_latitude     5\n",
       "passenger_count      0\n",
       "hour                 0\n",
       "day                  0\n",
       "month                0\n",
       "weekday              0\n",
       "year                 0\n",
       "jfk_dist             5\n",
       "ewr_dist             5\n",
       "lga_dist             5\n",
       "sol_dist             5\n",
       "nyc_dist             5\n",
       "distance             5\n",
       "bearing              5\n",
       "dtype: int64"
      ]
     },
     "execution_count": 88,
     "metadata": {},
     "output_type": "execute_result"
    }
   ],
   "source": [
    "df.isna().sum()"
   ]
  },
  {
   "cell_type": "code",
   "execution_count": 90,
   "id": "7179f24c-8d63-48fc-bb2b-6c6c2815b88d",
   "metadata": {},
   "outputs": [
    {
     "data": {
      "text/html": [
       "<div>\n",
       "<style scoped>\n",
       "    .dataframe tbody tr th:only-of-type {\n",
       "        vertical-align: middle;\n",
       "    }\n",
       "\n",
       "    .dataframe tbody tr th {\n",
       "        vertical-align: top;\n",
       "    }\n",
       "\n",
       "    .dataframe thead th {\n",
       "        text-align: right;\n",
       "    }\n",
       "</style>\n",
       "<table border=\"1\" class=\"dataframe\">\n",
       "  <thead>\n",
       "    <tr style=\"text-align: right;\">\n",
       "      <th></th>\n",
       "      <th>User ID</th>\n",
       "      <th>User Name</th>\n",
       "      <th>Driver Name</th>\n",
       "      <th>Car Condition</th>\n",
       "      <th>Weather</th>\n",
       "      <th>Traffic Condition</th>\n",
       "      <th>key</th>\n",
       "      <th>fare_amount</th>\n",
       "      <th>pickup_datetime</th>\n",
       "      <th>pickup_longitude</th>\n",
       "      <th>...</th>\n",
       "      <th>month</th>\n",
       "      <th>weekday</th>\n",
       "      <th>year</th>\n",
       "      <th>jfk_dist</th>\n",
       "      <th>ewr_dist</th>\n",
       "      <th>lga_dist</th>\n",
       "      <th>sol_dist</th>\n",
       "      <th>nyc_dist</th>\n",
       "      <th>distance</th>\n",
       "      <th>bearing</th>\n",
       "    </tr>\n",
       "  </thead>\n",
       "  <tbody>\n",
       "    <tr>\n",
       "      <th>120227</th>\n",
       "      <td>BOLML7gg</td>\n",
       "      <td>Carol Kim</td>\n",
       "      <td>John Scott</td>\n",
       "      <td>Very Good</td>\n",
       "      <td>rainy</td>\n",
       "      <td>Dense Traffic</td>\n",
       "      <td>2012-12-11 12:57:00.00000013</td>\n",
       "      <td>12.5</td>\n",
       "      <td>2012-12-11 12:57:00</td>\n",
       "      <td>-1.291417</td>\n",
       "      <td>...</td>\n",
       "      <td>12</td>\n",
       "      <td>1</td>\n",
       "      <td>2012</td>\n",
       "      <td>NaN</td>\n",
       "      <td>NaN</td>\n",
       "      <td>NaN</td>\n",
       "      <td>NaN</td>\n",
       "      <td>NaN</td>\n",
       "      <td>NaN</td>\n",
       "      <td>NaN</td>\n",
       "    </tr>\n",
       "    <tr>\n",
       "      <th>245696</th>\n",
       "      <td>AA838qgm</td>\n",
       "      <td>Mark Jones</td>\n",
       "      <td>Christy Taylor</td>\n",
       "      <td>Bad</td>\n",
       "      <td>windy</td>\n",
       "      <td>Dense Traffic</td>\n",
       "      <td>2013-03-21 18:07:07.0000001</td>\n",
       "      <td>86.5</td>\n",
       "      <td>2013-03-21 18:07:07</td>\n",
       "      <td>-1.291397</td>\n",
       "      <td>...</td>\n",
       "      <td>3</td>\n",
       "      <td>3</td>\n",
       "      <td>2013</td>\n",
       "      <td>NaN</td>\n",
       "      <td>NaN</td>\n",
       "      <td>NaN</td>\n",
       "      <td>NaN</td>\n",
       "      <td>NaN</td>\n",
       "      <td>NaN</td>\n",
       "      <td>NaN</td>\n",
       "    </tr>\n",
       "    <tr>\n",
       "      <th>340533</th>\n",
       "      <td>BqrlHUr2</td>\n",
       "      <td>Joshua Mullins</td>\n",
       "      <td>Sarah Khan</td>\n",
       "      <td>Excellent</td>\n",
       "      <td>cloudy</td>\n",
       "      <td>Dense Traffic</td>\n",
       "      <td>2012-12-11 12:50:52.00000010</td>\n",
       "      <td>27.5</td>\n",
       "      <td>2012-12-11 12:50:52</td>\n",
       "      <td>-1.291188</td>\n",
       "      <td>...</td>\n",
       "      <td>12</td>\n",
       "      <td>1</td>\n",
       "      <td>2012</td>\n",
       "      <td>NaN</td>\n",
       "      <td>NaN</td>\n",
       "      <td>NaN</td>\n",
       "      <td>NaN</td>\n",
       "      <td>NaN</td>\n",
       "      <td>NaN</td>\n",
       "      <td>NaN</td>\n",
       "    </tr>\n",
       "    <tr>\n",
       "      <th>428108</th>\n",
       "      <td>rL4WTHGq</td>\n",
       "      <td>Richard Brown</td>\n",
       "      <td>Rachel Miller</td>\n",
       "      <td>Very Good</td>\n",
       "      <td>cloudy</td>\n",
       "      <td>Flow Traffic</td>\n",
       "      <td>2011-09-08 09:12:52.0000001</td>\n",
       "      <td>11.8</td>\n",
       "      <td>2011-09-08 09:12:52</td>\n",
       "      <td>-1.291317</td>\n",
       "      <td>...</td>\n",
       "      <td>9</td>\n",
       "      <td>3</td>\n",
       "      <td>2011</td>\n",
       "      <td>NaN</td>\n",
       "      <td>NaN</td>\n",
       "      <td>NaN</td>\n",
       "      <td>NaN</td>\n",
       "      <td>NaN</td>\n",
       "      <td>NaN</td>\n",
       "      <td>NaN</td>\n",
       "    </tr>\n",
       "    <tr>\n",
       "      <th>471472</th>\n",
       "      <td>tKIOKS8Y</td>\n",
       "      <td>Larry Wade</td>\n",
       "      <td>Howard Jackson</td>\n",
       "      <td>Good</td>\n",
       "      <td>windy</td>\n",
       "      <td>Congested Traffic</td>\n",
       "      <td>2012-12-11 12:34:20.0000006</td>\n",
       "      <td>7.8</td>\n",
       "      <td>2012-12-11 12:34:20</td>\n",
       "      <td>0.000000</td>\n",
       "      <td>...</td>\n",
       "      <td>12</td>\n",
       "      <td>1</td>\n",
       "      <td>2012</td>\n",
       "      <td>NaN</td>\n",
       "      <td>NaN</td>\n",
       "      <td>NaN</td>\n",
       "      <td>NaN</td>\n",
       "      <td>NaN</td>\n",
       "      <td>NaN</td>\n",
       "      <td>NaN</td>\n",
       "    </tr>\n",
       "  </tbody>\n",
       "</table>\n",
       "<p>5 rows × 26 columns</p>\n",
       "</div>"
      ],
      "text/plain": [
       "         User ID       User Name     Driver Name Car Condition Weather  \\\n",
       "120227  BOLML7gg       Carol Kim      John Scott     Very Good   rainy   \n",
       "245696  AA838qgm      Mark Jones  Christy Taylor           Bad   windy   \n",
       "340533  BqrlHUr2  Joshua Mullins      Sarah Khan     Excellent  cloudy   \n",
       "428108  rL4WTHGq   Richard Brown   Rachel Miller     Very Good  cloudy   \n",
       "471472  tKIOKS8Y      Larry Wade  Howard Jackson          Good   windy   \n",
       "\n",
       "        Traffic Condition                           key  fare_amount  \\\n",
       "120227      Dense Traffic  2012-12-11 12:57:00.00000013         12.5   \n",
       "245696      Dense Traffic   2013-03-21 18:07:07.0000001         86.5   \n",
       "340533      Dense Traffic  2012-12-11 12:50:52.00000010         27.5   \n",
       "428108       Flow Traffic   2011-09-08 09:12:52.0000001         11.8   \n",
       "471472  Congested Traffic   2012-12-11 12:34:20.0000006          7.8   \n",
       "\n",
       "            pickup_datetime  pickup_longitude  ...  month  weekday  year  \\\n",
       "120227  2012-12-11 12:57:00         -1.291417  ...     12        1  2012   \n",
       "245696  2013-03-21 18:07:07         -1.291397  ...      3        3  2013   \n",
       "340533  2012-12-11 12:50:52         -1.291188  ...     12        1  2012   \n",
       "428108  2011-09-08 09:12:52         -1.291317  ...      9        3  2011   \n",
       "471472  2012-12-11 12:34:20          0.000000  ...     12        1  2012   \n",
       "\n",
       "        jfk_dist  ewr_dist  lga_dist  sol_dist  nyc_dist  distance  bearing  \n",
       "120227       NaN       NaN       NaN       NaN       NaN       NaN      NaN  \n",
       "245696       NaN       NaN       NaN       NaN       NaN       NaN      NaN  \n",
       "340533       NaN       NaN       NaN       NaN       NaN       NaN      NaN  \n",
       "428108       NaN       NaN       NaN       NaN       NaN       NaN      NaN  \n",
       "471472       NaN       NaN       NaN       NaN       NaN       NaN      NaN  \n",
       "\n",
       "[5 rows x 26 columns]"
      ]
     },
     "execution_count": 90,
     "metadata": {},
     "output_type": "execute_result"
    }
   ],
   "source": [
    "rows_with_nulls = df[df.isnull().any(axis=1)]\n",
    "rows_with_nulls"
   ]
  },
  {
   "cell_type": "code",
   "execution_count": 92,
   "id": "e45bdfc0-3b77-4517-96b9-ad2eb7027df7",
   "metadata": {},
   "outputs": [],
   "source": [
    "df.dropna(inplace=True)"
   ]
  },
  {
   "cell_type": "code",
   "execution_count": 94,
   "id": "e8190695-fbf6-4ab6-9624-d1b6527be8b2",
   "metadata": {},
   "outputs": [
    {
     "data": {
      "text/plain": [
       "User ID              0\n",
       "User Name            0\n",
       "Driver Name          0\n",
       "Car Condition        0\n",
       "Weather              0\n",
       "Traffic Condition    0\n",
       "key                  0\n",
       "fare_amount          0\n",
       "pickup_datetime      0\n",
       "pickup_longitude     0\n",
       "pickup_latitude      0\n",
       "dropoff_longitude    0\n",
       "dropoff_latitude     0\n",
       "passenger_count      0\n",
       "hour                 0\n",
       "day                  0\n",
       "month                0\n",
       "weekday              0\n",
       "year                 0\n",
       "jfk_dist             0\n",
       "ewr_dist             0\n",
       "lga_dist             0\n",
       "sol_dist             0\n",
       "nyc_dist             0\n",
       "distance             0\n",
       "bearing              0\n",
       "dtype: int64"
      ]
     },
     "execution_count": 94,
     "metadata": {},
     "output_type": "execute_result"
    }
   ],
   "source": [
    "df.isna().sum()"
   ]
  },
  {
   "cell_type": "code",
   "execution_count": 96,
   "id": "4a0a7f1e-79b8-4f36-b84e-31d7bdf6aa19",
   "metadata": {},
   "outputs": [
    {
     "name": "stdout",
     "output_type": "stream",
     "text": [
      "<class 'pandas.core.frame.DataFrame'>\n",
      "Index: 499995 entries, 0 to 499999\n",
      "Data columns (total 26 columns):\n",
      " #   Column             Non-Null Count   Dtype  \n",
      "---  ------             --------------   -----  \n",
      " 0   User ID            499995 non-null  object \n",
      " 1   User Name          499995 non-null  object \n",
      " 2   Driver Name        499995 non-null  object \n",
      " 3   Car Condition      499995 non-null  object \n",
      " 4   Weather            499995 non-null  object \n",
      " 5   Traffic Condition  499995 non-null  object \n",
      " 6   key                499995 non-null  object \n",
      " 7   fare_amount        499995 non-null  float64\n",
      " 8   pickup_datetime    499995 non-null  object \n",
      " 9   pickup_longitude   499995 non-null  float64\n",
      " 10  pickup_latitude    499995 non-null  float64\n",
      " 11  dropoff_longitude  499995 non-null  float64\n",
      " 12  dropoff_latitude   499995 non-null  float64\n",
      " 13  passenger_count    499995 non-null  int64  \n",
      " 14  hour               499995 non-null  int64  \n",
      " 15  day                499995 non-null  int64  \n",
      " 16  month              499995 non-null  int64  \n",
      " 17  weekday            499995 non-null  int64  \n",
      " 18  year               499995 non-null  int64  \n",
      " 19  jfk_dist           499995 non-null  float64\n",
      " 20  ewr_dist           499995 non-null  float64\n",
      " 21  lga_dist           499995 non-null  float64\n",
      " 22  sol_dist           499995 non-null  float64\n",
      " 23  nyc_dist           499995 non-null  float64\n",
      " 24  distance           499995 non-null  float64\n",
      " 25  bearing            499995 non-null  float64\n",
      "dtypes: float64(12), int64(6), object(8)\n",
      "memory usage: 103.0+ MB\n"
     ]
    }
   ],
   "source": [
    "df.info()"
   ]
  },
  {
   "cell_type": "markdown",
   "id": "35cee33e-b529-4073-b911-83be5e6e542b",
   "metadata": {},
   "source": [
    "<h1>EDA</h1>"
   ]
  },
  {
   "cell_type": "markdown",
   "id": "0259570a-687d-4c98-85c6-dbc28c210185",
   "metadata": {},
   "source": [
    "<p>Numerical Columns</p>"
   ]
  },
  {
   "cell_type": "code",
   "execution_count": 139,
   "id": "c8c7aaa5-2956-4e23-a884-2d98b9485946",
   "metadata": {},
   "outputs": [
    {
     "data": {
      "text/html": [
       "<div>\n",
       "<style scoped>\n",
       "    .dataframe tbody tr th:only-of-type {\n",
       "        vertical-align: middle;\n",
       "    }\n",
       "\n",
       "    .dataframe tbody tr th {\n",
       "        vertical-align: top;\n",
       "    }\n",
       "\n",
       "    .dataframe thead th {\n",
       "        text-align: right;\n",
       "    }\n",
       "</style>\n",
       "<table border=\"1\" class=\"dataframe\">\n",
       "  <thead>\n",
       "    <tr style=\"text-align: right;\">\n",
       "      <th></th>\n",
       "      <th>fare_amount</th>\n",
       "      <th>pickup_longitude</th>\n",
       "      <th>pickup_latitude</th>\n",
       "      <th>dropoff_longitude</th>\n",
       "      <th>dropoff_latitude</th>\n",
       "      <th>passenger_count</th>\n",
       "      <th>hour</th>\n",
       "      <th>day</th>\n",
       "      <th>month</th>\n",
       "      <th>year</th>\n",
       "      <th>jfk_dist</th>\n",
       "      <th>ewr_dist</th>\n",
       "      <th>lga_dist</th>\n",
       "      <th>sol_dist</th>\n",
       "      <th>nyc_dist</th>\n",
       "      <th>distance</th>\n",
       "      <th>bearing</th>\n",
       "    </tr>\n",
       "  </thead>\n",
       "  <tbody>\n",
       "    <tr>\n",
       "      <th>count</th>\n",
       "      <td>499995.000000</td>\n",
       "      <td>499995.000000</td>\n",
       "      <td>499995.000000</td>\n",
       "      <td>499995.000000</td>\n",
       "      <td>499995.000000</td>\n",
       "      <td>499995.000000</td>\n",
       "      <td>499995.000000</td>\n",
       "      <td>499995.000000</td>\n",
       "      <td>499995.000000</td>\n",
       "      <td>499995.000000</td>\n",
       "      <td>499995.000000</td>\n",
       "      <td>499995.000000</td>\n",
       "      <td>499995.000000</td>\n",
       "      <td>499995.000000</td>\n",
       "      <td>499995.000000</td>\n",
       "      <td>499995.000000</td>\n",
       "      <td>499995.000000</td>\n",
       "    </tr>\n",
       "    <tr>\n",
       "      <th>mean</th>\n",
       "      <td>11.358182</td>\n",
       "      <td>-1.265714</td>\n",
       "      <td>0.696742</td>\n",
       "      <td>-1.265755</td>\n",
       "      <td>0.696675</td>\n",
       "      <td>1.683445</td>\n",
       "      <td>13.510843</td>\n",
       "      <td>15.684239</td>\n",
       "      <td>6.268617</td>\n",
       "      <td>2011.739129</td>\n",
       "      <td>385.279367</td>\n",
       "      <td>380.503657</td>\n",
       "      <td>363.843772</td>\n",
       "      <td>363.674038</td>\n",
       "      <td>355.991423</td>\n",
       "      <td>19.468775</td>\n",
       "      <td>0.297145</td>\n",
       "    </tr>\n",
       "    <tr>\n",
       "      <th>std</th>\n",
       "      <td>9.916069</td>\n",
       "      <td>0.206934</td>\n",
       "      <td>0.140906</td>\n",
       "      <td>0.205903</td>\n",
       "      <td>0.128997</td>\n",
       "      <td>1.307391</td>\n",
       "      <td>6.511596</td>\n",
       "      <td>8.681092</td>\n",
       "      <td>3.437798</td>\n",
       "      <td>1.860897</td>\n",
       "      <td>2419.087483</td>\n",
       "      <td>2428.804740</td>\n",
       "      <td>2425.075903</td>\n",
       "      <td>2428.348683</td>\n",
       "      <td>2428.730839</td>\n",
       "      <td>367.299601</td>\n",
       "      <td>1.804548</td>\n",
       "    </tr>\n",
       "    <tr>\n",
       "      <th>min</th>\n",
       "      <td>-44.900000</td>\n",
       "      <td>-52.119764</td>\n",
       "      <td>-54.389440</td>\n",
       "      <td>-59.049665</td>\n",
       "      <td>-44.676047</td>\n",
       "      <td>0.000000</td>\n",
       "      <td>0.000000</td>\n",
       "      <td>1.000000</td>\n",
       "      <td>1.000000</td>\n",
       "      <td>2009.000000</td>\n",
       "      <td>1.017646</td>\n",
       "      <td>1.460945</td>\n",
       "      <td>0.382119</td>\n",
       "      <td>0.532545</td>\n",
       "      <td>0.080500</td>\n",
       "      <td>0.000000</td>\n",
       "      <td>-3.141593</td>\n",
       "    </tr>\n",
       "    <tr>\n",
       "      <th>25%</th>\n",
       "      <td>6.000000</td>\n",
       "      <td>-1.291405</td>\n",
       "      <td>0.710958</td>\n",
       "      <td>-1.291393</td>\n",
       "      <td>0.710943</td>\n",
       "      <td>1.000000</td>\n",
       "      <td>9.000000</td>\n",
       "      <td>8.000000</td>\n",
       "      <td>3.000000</td>\n",
       "      <td>2010.000000</td>\n",
       "      <td>41.341514</td>\n",
       "      <td>32.173712</td>\n",
       "      <td>17.100762</td>\n",
       "      <td>14.886989</td>\n",
       "      <td>7.147384</td>\n",
       "      <td>1.214550</td>\n",
       "      <td>-0.854721</td>\n",
       "    </tr>\n",
       "    <tr>\n",
       "      <th>50%</th>\n",
       "      <td>8.500000</td>\n",
       "      <td>-1.291226</td>\n",
       "      <td>0.711268</td>\n",
       "      <td>-1.291197</td>\n",
       "      <td>0.711277</td>\n",
       "      <td>1.000000</td>\n",
       "      <td>14.000000</td>\n",
       "      <td>16.000000</td>\n",
       "      <td>6.000000</td>\n",
       "      <td>2012.000000</td>\n",
       "      <td>42.523163</td>\n",
       "      <td>34.787507</td>\n",
       "      <td>19.591554</td>\n",
       "      <td>18.347580</td>\n",
       "      <td>10.458151</td>\n",
       "      <td>2.116970</td>\n",
       "      <td>-0.050442</td>\n",
       "    </tr>\n",
       "    <tr>\n",
       "      <th>75%</th>\n",
       "      <td>12.500000</td>\n",
       "      <td>-1.290970</td>\n",
       "      <td>0.711520</td>\n",
       "      <td>-1.290908</td>\n",
       "      <td>0.711538</td>\n",
       "      <td>2.000000</td>\n",
       "      <td>19.000000</td>\n",
       "      <td>23.000000</td>\n",
       "      <td>9.000000</td>\n",
       "      <td>2013.000000</td>\n",
       "      <td>43.785649</td>\n",
       "      <td>38.304502</td>\n",
       "      <td>22.214815</td>\n",
       "      <td>22.417812</td>\n",
       "      <td>14.448699</td>\n",
       "      <td>3.890070</td>\n",
       "      <td>2.206769</td>\n",
       "    </tr>\n",
       "    <tr>\n",
       "      <th>max</th>\n",
       "      <td>500.000000</td>\n",
       "      <td>37.360538</td>\n",
       "      <td>29.724576</td>\n",
       "      <td>0.712985</td>\n",
       "      <td>7.061893</td>\n",
       "      <td>6.000000</td>\n",
       "      <td>23.000000</td>\n",
       "      <td>31.000000</td>\n",
       "      <td>12.000000</td>\n",
       "      <td>2015.000000</td>\n",
       "      <td>30133.067880</td>\n",
       "      <td>30167.595967</td>\n",
       "      <td>30167.285794</td>\n",
       "      <td>30159.407296</td>\n",
       "      <td>30162.285356</td>\n",
       "      <td>12399.956433</td>\n",
       "      <td>3.141593</td>\n",
       "    </tr>\n",
       "  </tbody>\n",
       "</table>\n",
       "</div>"
      ],
      "text/plain": [
       "         fare_amount  pickup_longitude  pickup_latitude  dropoff_longitude  \\\n",
       "count  499995.000000     499995.000000    499995.000000      499995.000000   \n",
       "mean       11.358182         -1.265714         0.696742          -1.265755   \n",
       "std         9.916069          0.206934         0.140906           0.205903   \n",
       "min       -44.900000        -52.119764       -54.389440         -59.049665   \n",
       "25%         6.000000         -1.291405         0.710958          -1.291393   \n",
       "50%         8.500000         -1.291226         0.711268          -1.291197   \n",
       "75%        12.500000         -1.290970         0.711520          -1.290908   \n",
       "max       500.000000         37.360538        29.724576           0.712985   \n",
       "\n",
       "       dropoff_latitude  passenger_count           hour            day  \\\n",
       "count     499995.000000    499995.000000  499995.000000  499995.000000   \n",
       "mean           0.696675         1.683445      13.510843      15.684239   \n",
       "std            0.128997         1.307391       6.511596       8.681092   \n",
       "min          -44.676047         0.000000       0.000000       1.000000   \n",
       "25%            0.710943         1.000000       9.000000       8.000000   \n",
       "50%            0.711277         1.000000      14.000000      16.000000   \n",
       "75%            0.711538         2.000000      19.000000      23.000000   \n",
       "max            7.061893         6.000000      23.000000      31.000000   \n",
       "\n",
       "               month           year       jfk_dist       ewr_dist  \\\n",
       "count  499995.000000  499995.000000  499995.000000  499995.000000   \n",
       "mean        6.268617    2011.739129     385.279367     380.503657   \n",
       "std         3.437798       1.860897    2419.087483    2428.804740   \n",
       "min         1.000000    2009.000000       1.017646       1.460945   \n",
       "25%         3.000000    2010.000000      41.341514      32.173712   \n",
       "50%         6.000000    2012.000000      42.523163      34.787507   \n",
       "75%         9.000000    2013.000000      43.785649      38.304502   \n",
       "max        12.000000    2015.000000   30133.067880   30167.595967   \n",
       "\n",
       "            lga_dist       sol_dist       nyc_dist       distance  \\\n",
       "count  499995.000000  499995.000000  499995.000000  499995.000000   \n",
       "mean      363.843772     363.674038     355.991423      19.468775   \n",
       "std      2425.075903    2428.348683    2428.730839     367.299601   \n",
       "min         0.382119       0.532545       0.080500       0.000000   \n",
       "25%        17.100762      14.886989       7.147384       1.214550   \n",
       "50%        19.591554      18.347580      10.458151       2.116970   \n",
       "75%        22.214815      22.417812      14.448699       3.890070   \n",
       "max     30167.285794   30159.407296   30162.285356   12399.956433   \n",
       "\n",
       "             bearing  \n",
       "count  499995.000000  \n",
       "mean        0.297145  \n",
       "std         1.804548  \n",
       "min        -3.141593  \n",
       "25%        -0.854721  \n",
       "50%        -0.050442  \n",
       "75%         2.206769  \n",
       "max         3.141593  "
      ]
     },
     "execution_count": 139,
     "metadata": {},
     "output_type": "execute_result"
    }
   ],
   "source": [
    "df.describe()"
   ]
  },
  {
   "cell_type": "markdown",
   "id": "563ecf20-6f61-4161-b940-0d59c1182219",
   "metadata": {},
   "source": [
    "<p1>Catagorical Columns</p1>"
   ]
  },
  {
   "cell_type": "code",
   "execution_count": 100,
   "id": "26cc399e-050d-439a-984f-77403f0c8053",
   "metadata": {},
   "outputs": [
    {
     "data": {
      "text/plain": [
       "Index(['User ID', 'User Name', 'Driver Name', 'Car Condition', 'Weather',\n",
       "       'Traffic Condition', 'key', 'fare_amount', 'pickup_datetime',\n",
       "       'pickup_longitude', 'pickup_latitude', 'dropoff_longitude',\n",
       "       'dropoff_latitude', 'passenger_count', 'hour', 'day', 'month',\n",
       "       'weekday', 'year', 'jfk_dist', 'ewr_dist', 'lga_dist', 'sol_dist',\n",
       "       'nyc_dist', 'distance', 'bearing'],\n",
       "      dtype='object')"
      ]
     },
     "execution_count": 100,
     "metadata": {},
     "output_type": "execute_result"
    }
   ],
   "source": [
    "df.columns"
   ]
  },
  {
   "cell_type": "code",
   "execution_count": 102,
   "id": "c9bfeae1-0bc9-4879-b7b5-c0b505e2cdd1",
   "metadata": {},
   "outputs": [],
   "source": [
    "#Which driver has the most trips?\n",
    "driver = df['Driver Name'].value_counts()"
   ]
  },
  {
   "cell_type": "code",
   "execution_count": 104,
   "id": "5335e578-ac09-4566-bd04-34aacd9d3e10",
   "metadata": {},
   "outputs": [
    {
     "data": {
      "text/plain": [
       "Car Condition\n",
       "Very Good    125310\n",
       "Bad          124977\n",
       "Good         124967\n",
       "Excellent    124741\n",
       "Name: count, dtype: int64"
      ]
     },
     "execution_count": 104,
     "metadata": {},
     "output_type": "execute_result"
    }
   ],
   "source": [
    "#Are most cars in good condition?\n",
    "df['Car Condition'].value_counts()"
   ]
  },
  {
   "cell_type": "code",
   "execution_count": 106,
   "id": "fce5a8b6-ae47-4e15-a1a2-fe372a8b7a49",
   "metadata": {},
   "outputs": [
    {
     "data": {
      "text/plain": [
       "Weather\n",
       "sunny     100433\n",
       "cloudy    100060\n",
       "rainy      99971\n",
       "stormy     99955\n",
       "windy      99576\n",
       "Name: count, dtype: int64"
      ]
     },
     "execution_count": 106,
     "metadata": {},
     "output_type": "execute_result"
    }
   ],
   "source": [
    "#What is the most common weather condition during trips?\n",
    "df['Weather'].value_counts()"
   ]
  },
  {
   "cell_type": "code",
   "execution_count": 108,
   "id": "0a4c25e3-60ec-4457-ac3f-873f5160c16b",
   "metadata": {},
   "outputs": [
    {
     "data": {
      "text/plain": [
       "Traffic Condition\n",
       "Congested Traffic    166846\n",
       "Dense Traffic        166581\n",
       "Flow Traffic         166568\n",
       "Name: count, dtype: int64"
      ]
     },
     "execution_count": 108,
     "metadata": {},
     "output_type": "execute_result"
    }
   ],
   "source": [
    "#Which traffic condition occurs most frequently?\n",
    "df['Traffic Condition'].value_counts()"
   ]
  },
  {
   "cell_type": "code",
   "execution_count": 110,
   "id": "011bbff8-698e-4b69-adbf-92aa458d88dd",
   "metadata": {},
   "outputs": [
    {
     "data": {
      "text/plain": [
       "year\n",
       "2012    80222\n",
       "2011    79528\n",
       "2013    78033\n",
       "2009    77002\n",
       "2010    75791\n",
       "2014    74608\n",
       "2015    34811\n",
       "Name: count, dtype: int64"
      ]
     },
     "execution_count": 110,
     "metadata": {},
     "output_type": "execute_result"
    }
   ],
   "source": [
    "#Which year has the highest number of trips?\n",
    "df['year'].value_counts()"
   ]
  },
  {
   "cell_type": "code",
   "execution_count": 112,
   "id": "bb7fa6d1-7215-4542-b7e4-35886da469e3",
   "metadata": {},
   "outputs": [],
   "source": [
    "weekday_map = {\n",
    "    0: 'Monday',\n",
    "    1: 'Tuesday',\n",
    "    2: 'Wednesday',\n",
    "    3: 'Thursday',\n",
    "    4: 'Friday',\n",
    "    5: 'Saturday',\n",
    "    6: 'Sunday'\n",
    "}\n",
    "\n",
    "df['weekday'] = df['weekday'].map(weekday_map)"
   ]
  },
  {
   "cell_type": "code",
   "execution_count": 114,
   "id": "273f29f4-f74d-4b2f-97e2-577f2751f3c6",
   "metadata": {},
   "outputs": [
    {
     "data": {
      "text/plain": [
       "weekday\n",
       "Friday       77224\n",
       "Saturday     76212\n",
       "Thursday     74776\n",
       "Wednesday    72230\n",
       "Tuesday      69929\n",
       "Sunday       65387\n",
       "Monday       64237\n",
       "Name: count, dtype: int64"
      ]
     },
     "execution_count": 114,
     "metadata": {},
     "output_type": "execute_result"
    }
   ],
   "source": [
    "#What is the most popular day for trips?\n",
    "df['weekday'].value_counts()"
   ]
  },
  {
   "cell_type": "code",
   "execution_count": 116,
   "id": "fb531640-5b54-4fbb-8c59-203be8848cab",
   "metadata": {},
   "outputs": [
    {
     "data": {
      "text/plain": [
       "month\n",
       "5     46733\n",
       "3     46714\n",
       "4     45959\n",
       "6     44827\n",
       "1     44547\n",
       "2     42454\n",
       "10    40551\n",
       "12    38476\n",
       "7     38127\n",
       "9     37979\n",
       "11    37757\n",
       "8     35871\n",
       "Name: count, dtype: int64"
      ]
     },
     "execution_count": 116,
     "metadata": {},
     "output_type": "execute_result"
    }
   ],
   "source": [
    "#Which month has the highest number of trips?\n",
    "df['month'].value_counts()"
   ]
  },
  {
   "cell_type": "code",
   "execution_count": 118,
   "id": "7ca5db9f-693e-4b47-a09d-58d19b0e58b2",
   "metadata": {},
   "outputs": [
    {
     "data": {
      "text/plain": [
       "hour\n",
       "19    31382\n",
       "18    30063\n",
       "20    29193\n",
       "21    28639\n",
       "22    27817\n",
       "14    25385\n",
       "23    24864\n",
       "12    24649\n",
       "17    24646\n",
       "13    24404\n",
       "15    24025\n",
       "9     23565\n",
       "11    23338\n",
       "8     22599\n",
       "10    22428\n",
       "16    20569\n",
       "0     19650\n",
       "7     18231\n",
       "1     14556\n",
       "2     10884\n",
       "6     10326\n",
       "3      7936\n",
       "4      5864\n",
       "5      4982\n",
       "Name: count, dtype: int64"
      ]
     },
     "execution_count": 118,
     "metadata": {},
     "output_type": "execute_result"
    }
   ],
   "source": [
    "#What are the busiest hours for trips?\n",
    "df['hour'].value_counts()"
   ]
  },
  {
   "cell_type": "code",
   "execution_count": 120,
   "id": "d2536762-43ea-4f0e-b2fb-0720133de5a7",
   "metadata": {},
   "outputs": [
    {
     "data": {
      "text/plain": [
       "lga_dist    474724\n",
       "jfk_dist     20438\n",
       "ewr_dist      4833\n",
       "Name: count, dtype: int64"
      ]
     },
     "execution_count": 120,
     "metadata": {},
     "output_type": "execute_result"
    }
   ],
   "source": [
    "#Which airport do most trips go to?\n",
    "df[['jfk_dist', 'ewr_dist', 'lga_dist']].idxmin(axis=1).value_counts()"
   ]
  },
  {
   "cell_type": "code",
   "execution_count": 122,
   "id": "328e9982-3e0e-472f-a7d7-75128e3987a7",
   "metadata": {},
   "outputs": [
    {
     "data": {
      "image/png": "[encoded data removed]",
      "text/plain": [
       "<Figure size 600x600 with 1 Axes>"
      ]
     },
     "metadata": {},
     "output_type": "display_data"
    }
   ],
   "source": [
    "traffic_counts = df['Traffic Condition'].value_counts()\n",
    "\n",
    "plt.figure(figsize=(6,6))\n",
    "traffic_counts.plot(kind='pie', autopct='%1.1f%%', startangle=90, colors=['#66b3ff','#99ff99','#ffcc99'])\n",
    "plt.ylabel('')\n",
    "plt.title('Distribution of Traffic Condition')\n",
    "plt.show()"
   ]
  },
  {
   "cell_type": "code",
   "execution_count": 124,
   "id": "3a712832-8022-4c5f-8590-9f9845198979",
   "metadata": {},
   "outputs": [
    {
     "data": {
      "image/png": "[encoded data removed]",
      "text/plain": [
       "<Figure size 800x500 with 1 Axes>"
      ]
     },
     "metadata": {},
     "output_type": "display_data"
    }
   ],
   "source": [
    "weekday_counts = df['weekday'].value_counts().sort_index()\n",
    "\n",
    "plt.figure(figsize=(8,5))\n",
    "weekday_counts.plot(kind='bar', color='skyblue')\n",
    "plt.xlabel('Weekday')\n",
    "plt.ylabel('Number of Trips')\n",
    "plt.title('Number of Trips per Weekday')\n",
    "plt.xticks(rotation=45)\n",
    "plt.show()"
   ]
  },
  {
   "cell_type": "markdown",
   "id": "41b3c02f-9d6c-4698-8593-9fa8c4cd3bcf",
   "metadata": {},
   "source": [
    "<h1>Relation between features</h1>"
   ]
  },
  {
   "cell_type": "code",
   "execution_count": 127,
   "id": "01b23049-1ca0-48a9-90f5-395e1cc1ad6b",
   "metadata": {},
   "outputs": [
    {
     "name": "stdout",
     "output_type": "stream",
     "text": [
      "                        mean   count\n",
      "Traffic Condition                   \n",
      "Congested Traffic  11.390549  166846\n",
      "Dense Traffic      11.367565  166581\n",
      "Flow Traffic       11.316378  166568\n"
     ]
    },
    {
     "data": {
      "image/png": "[encoded data removed]",
      "text/plain": [
       "<Figure size 700x400 with 1 Axes>"
      ]
     },
     "metadata": {},
     "output_type": "display_data"
    },
    {
     "data": {
      "image/png": "[encoded data removed]",
      "text/plain": [
       "<Figure size 700x400 with 1 Axes>"
      ]
     },
     "metadata": {},
     "output_type": "display_data"
    }
   ],
   "source": [
    "#What is the average fare amount and number of trips for each traffic condition?\n",
    "agg_fare = df.groupby('Traffic Condition')['fare_amount'].agg(['mean', 'count'])\n",
    "\n",
    "print(agg_fare)\n",
    "# Plot for average fare amount\n",
    "agg_fare['mean'].plot(kind='bar', color='skyblue', figsize=(7,4))\n",
    "plt.ylabel('Average Fare Amount')\n",
    "plt.title('Average Fare Amount by Traffic Condition')\n",
    "plt.xticks(rotation=45)\n",
    "plt.show()\n",
    "\n",
    "# Plot for number of trips\n",
    "agg_fare['count'].plot(kind='bar', color='lightgreen', figsize=(7,4))\n",
    "plt.ylabel('Number of Trips')\n",
    "plt.title('Number of Trips by Traffic Condition')\n",
    "plt.xticks(rotation=45)\n",
    "plt.show()\n"
   ]
  },
  {
   "cell_type": "code",
   "execution_count": 129,
   "id": "254b163f-f761-468a-837b-5c6c8d86a1b1",
   "metadata": {},
   "outputs": [
    {
     "name": "stdout",
     "output_type": "stream",
     "text": [
      "Car Condition\n",
      "Bad          11.325572\n",
      "Excellent    11.355010\n",
      "Good         11.336281\n",
      "Very Good    11.415705\n",
      "Name: fare_amount, dtype: float64\n"
     ]
    },
    {
     "data": {
      "image/png": "[encoded data removed]",
      "text/plain": [
       "<Figure size 640x480 with 1 Axes>"
      ]
     },
     "metadata": {},
     "output_type": "display_data"
    }
   ],
   "source": [
    "#Does the car condition affect the average fare amount?\n",
    "fare_care = df.groupby('Car Condition')['fare_amount'].mean()\n",
    "\n",
    "print(fare_care)\n",
    "fare_care.plot(kind='bar', color='skyblue')\n",
    "plt.ylabel('Average Fare Amount')\n",
    "plt.title('Average Fare Amount by Car Condition')\n",
    "plt.xticks(rotation=45)\n",
    "plt.show()"
   ]
  },
  {
   "cell_type": "code",
   "execution_count": 131,
   "id": "59c221a4-cf47-4b02-88f0-1651e9618841",
   "metadata": {},
   "outputs": [
    {
     "name": "stdout",
     "output_type": "stream",
     "text": [
      "hour\n",
      "0     11.774804\n",
      "1     11.438250\n",
      "2     11.511949\n",
      "3     12.076379\n",
      "4     13.687069\n",
      "5     15.166068\n",
      "6     12.314031\n",
      "7     10.952701\n",
      "8     10.913638\n",
      "9     10.817963\n",
      "10    10.904111\n",
      "11    11.191079\n",
      "12    11.128079\n",
      "13    11.648150\n",
      "14    11.869480\n",
      "15    12.088543\n",
      "16    11.837232\n",
      "17    11.376808\n",
      "18    10.977634\n",
      "19    10.601758\n",
      "20    10.825642\n",
      "21    10.997743\n",
      "22    11.319215\n",
      "23    11.555971\n",
      "Name: fare_amount, dtype: float64\n"
     ]
    }
   ],
   "source": [
    "#Is the average fare amount higher during specific hours of the day?\n",
    "fare_hour = df.groupby('hour')['fare_amount'].mean()\n",
    "\n",
    "print(fare_hour)"
   ]
  },
  {
   "cell_type": "code",
   "execution_count": 133,
   "id": "b7a6f43a-d202-4545-b797-56f156de1822",
   "metadata": {},
   "outputs": [
    {
     "name": "stdout",
     "output_type": "stream",
     "text": [
      "year\n",
      "2009    10.018505\n",
      "2010    10.197785\n",
      "2011    10.481482\n",
      "2012    11.157532\n",
      "2013    12.625632\n",
      "2014    12.965165\n",
      "2015    13.027985\n",
      "Name: fare_amount, dtype: float64\n"
     ]
    },
    {
     "data": {
      "image/png": "[encoded data removed]",
      "text/plain": [
       "<Figure size 640x480 with 1 Axes>"
      ]
     },
     "metadata": {},
     "output_type": "display_data"
    }
   ],
   "source": [
    "#How does the average fare amount vary across different years?\n",
    "fare_year = df.groupby('year')['fare_amount'].mean()\n",
    "\n",
    "print(fare_year)\n",
    "fare_year.plot(kind='bar', color='skyblue')\n",
    "plt.ylabel('Average Fare Amount')\n",
    "plt.title('Average Fare Amount by Year')\n",
    "plt.xticks(rotation=45)\n",
    "plt.show()"
   ]
  },
  {
   "cell_type": "code",
   "execution_count": 135,
   "id": "7ba2aea2-6093-4c9c-b704-7d112c93e1ab",
   "metadata": {},
   "outputs": [
    {
     "name": "stdout",
     "output_type": "stream",
     "text": [
      "weekday\n",
      "Friday       11.396737\n",
      "Monday       11.391663\n",
      "Saturday     11.013806\n",
      "Sunday       11.677655\n",
      "Thursday     11.539883\n",
      "Tuesday      11.209425\n",
      "Wednesday    11.317253\n",
      "Name: fare_amount, dtype: float64\n"
     ]
    },
    {
     "data": {
      "image/png": "[encoded data removed]",
      "text/plain": [
       "<Figure size 640x480 with 1 Axes>"
      ]
     },
     "metadata": {},
     "output_type": "display_data"
    }
   ],
   "source": [
    "#Does the average fare amount vary by weekday?\n",
    "fare_day = df.groupby('weekday')['fare_amount'].mean()\n",
    "\n",
    "print(fare_day)\n",
    "fare_day.plot(kind='bar', color='skyblue')\n",
    "plt.ylabel('Average Fare Amount')\n",
    "plt.title('Average Fare Amount by WeekDay')\n",
    "plt.xticks(rotation=45)\n",
    "plt.show()"
   ]
  },
  {
   "cell_type": "code",
   "execution_count": null,
   "id": "75aebe36-3a2c-4003-a917-cb1a40016b23",
   "metadata": {},
   "outputs": [],
   "source": []
  },
  {
   "cell_type": "code",
   "execution_count": null,
   "id": "b399f851-fb8c-4c1e-8460-d90073d32af3",
   "metadata": {},
   "outputs": [],
   "source": []
  }
 ],
 "metadata": {
  "kernelspec": {
   "display_name": "Python 3 (ipykernel)",
   "language": "python",
   "name": "python3"
  },
  "language_info": {
   "codemirror_mode": {
    "name": "ipython",
    "version": 3
   },
   "file_extension": ".py",
   "mimetype": "text/x-python",
   "name": "python",
   "nbconvert_exporter": "python",
   "pygments_lexer": "ipython3",
   "version": "3.12.4"
  }
 },
 "nbformat": 4,
 "nbformat_minor": 5
}
