
import pandas as pd
import numpy as np
from sklearn.model_selection import train_test_split, RandomizedSearchCV
from sklearn.ensemble import RandomForestRegressor
from sklearn.preprocessing import LabelEncoder, StandardScaler
from sklearn.metrics import r2_score, mean_squared_error

df = pd.read_csv('data3.csv')

df = df.dropna()
df = df.sample(n=20000, random_state=42)


df.drop(columns=['User ID', 'User Name', 'Driver Name', 'key', 'pickup_datetime'], inplace=True)


for col in ['Car Condition', 'Weather', 'Traffic Condition']:
    df[col] = LabelEncoder().fit_transform(df[col])

X = df.drop('fare_amount', axis=1)
y = df['fare_amount']

scaler = StandardScaler()
X_scaled = scaler.fit_transform(X)

X_train, X_test, y_train, y_test = train_test_split(X_scaled, y, test_size=0.2, random_state=42)

X_tune, _, y_tune, _ = train_test_split(X_train, y_train, train_size=0.3, random_state=42)

param_dist = {
    'n_estimators': [30, 50, 70],
    'max_depth': [5, 10, 15],
    'min_samples_split': [2, 4, 6],
}

random_search = RandomizedSearchCV(
    RandomForestRegressor(random_state=42),
    param_distributions=param_dist,
    n_iter=5,
    cv=2,
    scoring='r2',
    n_jobs=-1,
    random_state=42
)

random_search.fit(X_tune, y_tune)


best_model = random_search.best_estimator_
y_pred = best_model.predict(X_test)

print(" Best Parameters:", random_search.best_params_)
print(" R² Score:", r2_score(y_test, y_pred))
print(" MSE:", mean_squared_error(y_test, y_pred))
