{
 "cells": [
  {
   "cell_type": "code",
   "execution_count": 1,
   "id": "d758f1fc",
   "metadata": {},
   "outputs": [],
   "source": [
    "import pandas as pd\n",
    "import numpy as np\n",
    "import matplotlib.pyplot as plt\n",
    "import seaborn as sns\n",
    "from sklearn.model_selection import train_test_split\n",
    "from sklearn.ensemble import RandomForestRegressor\n",
    "from sklearn.metrics import mean_squared_error, r2_score\n"
   ]
  },
  {
   "cell_type": "code",
   "execution_count": 2,
   "id": "a9a3d032",
   "metadata": {},
   "outputs": [],
   "source": [
    "df=pd.read_csv(\"Taskk_2.csv\")"
   ]
  },
  {
   "cell_type": "code",
   "execution_count": 3,
   "id": "c004c8e1",
   "metadata": {},
   "outputs": [],
   "source": [
    "X= df.drop('fare_amount', axis=1)\n",
    "y= df['fare_amount']\n"
   ]
  },
  {
   "cell_type": "code",
   "execution_count": 4,
   "id": "32cedf1d",
   "metadata": {},
   "outputs": [
    {
     "data": {
      "text/html": [
       "<div>\n",
       "<style scoped>\n",
       "    .dataframe tbody tr th:only-of-type {\n",
       "        vertical-align: middle;\n",
       "    }\n",
       "\n",
       "    .dataframe tbody tr th {\n",
       "        vertical-align: top;\n",
       "    }\n",
       "\n",
       "    .dataframe thead th {\n",
       "        text-align: right;\n",
       "    }\n",
       "</style>\n",
       "<table border=\"1\" class=\"dataframe\">\n",
       "  <thead>\n",
       "    <tr style=\"text-align: right;\">\n",
       "      <th></th>\n",
       "      <th>fare_amount</th>\n",
       "      <th>pickup_longitude</th>\n",
       "      <th>pickup_latitude</th>\n",
       "      <th>dropoff_longitude</th>\n",
       "      <th>dropoff_latitude</th>\n",
       "      <th>passenger_count</th>\n",
       "      <th>hour</th>\n",
       "      <th>day</th>\n",
       "      <th>month</th>\n",
       "      <th>weekday</th>\n",
       "      <th>...</th>\n",
       "      <th>is_rush_hour</th>\n",
       "      <th>Car Condition_Excellent</th>\n",
       "      <th>Car Condition_Good</th>\n",
       "      <th>Car Condition_Very Good</th>\n",
       "      <th>Weather_rainy</th>\n",
       "      <th>Weather_stormy</th>\n",
       "      <th>Weather_sunny</th>\n",
       "      <th>Weather_windy</th>\n",
       "      <th>Traffic Condition_Dense Traffic</th>\n",
       "      <th>Traffic Condition_Flow Traffic</th>\n",
       "    </tr>\n",
       "  </thead>\n",
       "  <tbody>\n",
       "    <tr>\n",
       "      <th>0</th>\n",
       "      <td>16.9</td>\n",
       "      <td>-1.291824</td>\n",
       "      <td>0.710546</td>\n",
       "      <td>-1.291182</td>\n",
       "      <td>0.711780</td>\n",
       "      <td>1</td>\n",
       "      <td>16</td>\n",
       "      <td>5</td>\n",
       "      <td>1</td>\n",
       "      <td>1</td>\n",
       "      <td>...</td>\n",
       "      <td>1</td>\n",
       "      <td>True</td>\n",
       "      <td>False</td>\n",
       "      <td>False</td>\n",
       "      <td>False</td>\n",
       "      <td>False</td>\n",
       "      <td>False</td>\n",
       "      <td>False</td>\n",
       "      <td>False</td>\n",
       "      <td>True</td>\n",
       "    </tr>\n",
       "    <tr>\n",
       "      <th>1</th>\n",
       "      <td>5.7</td>\n",
       "      <td>-1.291242</td>\n",
       "      <td>0.711418</td>\n",
       "      <td>-1.291391</td>\n",
       "      <td>0.711231</td>\n",
       "      <td>2</td>\n",
       "      <td>0</td>\n",
       "      <td>18</td>\n",
       "      <td>8</td>\n",
       "      <td>3</td>\n",
       "      <td>...</td>\n",
       "      <td>0</td>\n",
       "      <td>False</td>\n",
       "      <td>False</td>\n",
       "      <td>False</td>\n",
       "      <td>False</td>\n",
       "      <td>True</td>\n",
       "      <td>False</td>\n",
       "      <td>False</td>\n",
       "      <td>False</td>\n",
       "      <td>False</td>\n",
       "    </tr>\n",
       "    <tr>\n",
       "      <th>2</th>\n",
       "      <td>7.7</td>\n",
       "      <td>-1.291319</td>\n",
       "      <td>0.710927</td>\n",
       "      <td>-1.291396</td>\n",
       "      <td>0.711363</td>\n",
       "      <td>1</td>\n",
       "      <td>4</td>\n",
       "      <td>21</td>\n",
       "      <td>4</td>\n",
       "      <td>5</td>\n",
       "      <td>...</td>\n",
       "      <td>0</td>\n",
       "      <td>False</td>\n",
       "      <td>False</td>\n",
       "      <td>True</td>\n",
       "      <td>False</td>\n",
       "      <td>True</td>\n",
       "      <td>False</td>\n",
       "      <td>False</td>\n",
       "      <td>False</td>\n",
       "      <td>True</td>\n",
       "    </tr>\n",
       "    <tr>\n",
       "      <th>3</th>\n",
       "      <td>5.3</td>\n",
       "      <td>-1.290987</td>\n",
       "      <td>0.711536</td>\n",
       "      <td>-1.290787</td>\n",
       "      <td>0.711811</td>\n",
       "      <td>1</td>\n",
       "      <td>7</td>\n",
       "      <td>9</td>\n",
       "      <td>3</td>\n",
       "      <td>1</td>\n",
       "      <td>...</td>\n",
       "      <td>1</td>\n",
       "      <td>False</td>\n",
       "      <td>False</td>\n",
       "      <td>False</td>\n",
       "      <td>False</td>\n",
       "      <td>True</td>\n",
       "      <td>False</td>\n",
       "      <td>False</td>\n",
       "      <td>False</td>\n",
       "      <td>False</td>\n",
       "    </tr>\n",
       "    <tr>\n",
       "      <th>4</th>\n",
       "      <td>12.1</td>\n",
       "      <td>-1.291560</td>\n",
       "      <td>0.710901</td>\n",
       "      <td>-1.291071</td>\n",
       "      <td>0.711365</td>\n",
       "      <td>1</td>\n",
       "      <td>9</td>\n",
       "      <td>6</td>\n",
       "      <td>1</td>\n",
       "      <td>3</td>\n",
       "      <td>...</td>\n",
       "      <td>1</td>\n",
       "      <td>True</td>\n",
       "      <td>False</td>\n",
       "      <td>False</td>\n",
       "      <td>False</td>\n",
       "      <td>False</td>\n",
       "      <td>True</td>\n",
       "      <td>False</td>\n",
       "      <td>False</td>\n",
       "      <td>False</td>\n",
       "    </tr>\n",
       "  </tbody>\n",
       "</table>\n",
       "<p>5 rows × 34 columns</p>\n",
       "</div>"
      ],
      "text/plain": [
       "   fare_amount  pickup_longitude  pickup_latitude  dropoff_longitude  \\\n",
       "0         16.9         -1.291824         0.710546          -1.291182   \n",
       "1          5.7         -1.291242         0.711418          -1.291391   \n",
       "2          7.7         -1.291319         0.710927          -1.291396   \n",
       "3          5.3         -1.290987         0.711536          -1.290787   \n",
       "4         12.1         -1.291560         0.710901          -1.291071   \n",
       "\n",
       "   dropoff_latitude  passenger_count  hour  day  month  weekday  ...  \\\n",
       "0          0.711780                1    16    5      1        1  ...   \n",
       "1          0.711231                2     0   18      8        3  ...   \n",
       "2          0.711363                1     4   21      4        5  ...   \n",
       "3          0.711811                1     7    9      3        1  ...   \n",
       "4          0.711365                1     9    6      1        3  ...   \n",
       "\n",
       "   is_rush_hour  Car Condition_Excellent  Car Condition_Good  \\\n",
       "0             1                     True               False   \n",
       "1             0                    False               False   \n",
       "2             0                    False               False   \n",
       "3             1                    False               False   \n",
       "4             1                     True               False   \n",
       "\n",
       "   Car Condition_Very Good  Weather_rainy  Weather_stormy  Weather_sunny  \\\n",
       "0                    False          False           False          False   \n",
       "1                    False          False            True          False   \n",
       "2                     True          False            True          False   \n",
       "3                    False          False            True          False   \n",
       "4                    False          False           False           True   \n",
       "\n",
       "   Weather_windy  Traffic Condition_Dense Traffic  \\\n",
       "0          False                            False   \n",
       "1          False                            False   \n",
       "2          False                            False   \n",
       "3          False                            False   \n",
       "4          False                            False   \n",
       "\n",
       "   Traffic Condition_Flow Traffic  \n",
       "0                            True  \n",
       "1                           False  \n",
       "2                            True  \n",
       "3                           False  \n",
       "4                           False  \n",
       "\n",
       "[5 rows x 34 columns]"
      ]
     },
     "execution_count": 4,
     "metadata": {},
     "output_type": "execute_result"
    }
   ],
   "source": [
    "df.head()"
   ]
  },
  {
   "cell_type": "code",
   "execution_count": 5,
   "id": "e6ed0af6",
   "metadata": {},
   "outputs": [
    {
     "name": "stdout",
     "output_type": "stream",
     "text": [
      "<class 'pandas.core.frame.DataFrame'>\n",
      "RangeIndex: 397001 entries, 0 to 397000\n",
      "Data columns (total 34 columns):\n",
      " #   Column                           Non-Null Count   Dtype  \n",
      "---  ------                           --------------   -----  \n",
      " 0   fare_amount                      397001 non-null  float64\n",
      " 1   pickup_longitude                 397001 non-null  float64\n",
      " 2   pickup_latitude                  397001 non-null  float64\n",
      " 3   dropoff_longitude                397001 non-null  float64\n",
      " 4   dropoff_latitude                 397001 non-null  float64\n",
      " 5   passenger_count                  397001 non-null  int64  \n",
      " 6   hour                             397001 non-null  int64  \n",
      " 7   day                              397001 non-null  int64  \n",
      " 8   month                            397001 non-null  int64  \n",
      " 9   weekday                          397001 non-null  int64  \n",
      " 10  year                             397001 non-null  int64  \n",
      " 11  jfk_dist                         397001 non-null  float64\n",
      " 12  ewr_dist                         397001 non-null  float64\n",
      " 13  lga_dist                         397001 non-null  float64\n",
      " 14  sol_dist                         397001 non-null  float64\n",
      " 15  nyc_dist                         397001 non-null  float64\n",
      " 16  distance                         397001 non-null  float64\n",
      " 17  bearing                          397001 non-null  float64\n",
      " 18  pickup_hour                      397001 non-null  int64  \n",
      " 19  pickup_day                       397001 non-null  int64  \n",
      " 20  pickup_weekday                   397001 non-null  int64  \n",
      " 21  pickup_month                     397001 non-null  int64  \n",
      " 22  pickup_year                      397001 non-null  int64  \n",
      " 23  is_weekend                       397001 non-null  int64  \n",
      " 24  is_rush_hour                     397001 non-null  int64  \n",
      " 25  Car Condition_Excellent          397001 non-null  bool   \n",
      " 26  Car Condition_Good               397001 non-null  bool   \n",
      " 27  Car Condition_Very Good          397001 non-null  bool   \n",
      " 28  Weather_rainy                    397001 non-null  bool   \n",
      " 29  Weather_stormy                   397001 non-null  bool   \n",
      " 30  Weather_sunny                    397001 non-null  bool   \n",
      " 31  Weather_windy                    397001 non-null  bool   \n",
      " 32  Traffic Condition_Dense Traffic  397001 non-null  bool   \n",
      " 33  Traffic Condition_Flow Traffic   397001 non-null  bool   \n",
      "dtypes: bool(9), float64(12), int64(13)\n",
      "memory usage: 79.1 MB\n"
     ]
    },
    {
     "data": {
      "text/plain": [
       "fare_amount                        0\n",
       "pickup_longitude                   0\n",
       "pickup_latitude                    0\n",
       "dropoff_longitude                  0\n",
       "dropoff_latitude                   0\n",
       "passenger_count                    0\n",
       "hour                               0\n",
       "day                                0\n",
       "month                              0\n",
       "weekday                            0\n",
       "year                               0\n",
       "jfk_dist                           0\n",
       "ewr_dist                           0\n",
       "lga_dist                           0\n",
       "sol_dist                           0\n",
       "nyc_dist                           0\n",
       "distance                           0\n",
       "bearing                            0\n",
       "pickup_hour                        0\n",
       "pickup_day                         0\n",
       "pickup_weekday                     0\n",
       "pickup_month                       0\n",
       "pickup_year                        0\n",
       "is_weekend                         0\n",
       "is_rush_hour                       0\n",
       "Car Condition_Excellent            0\n",
       "Car Condition_Good                 0\n",
       "Car Condition_Very Good            0\n",
       "Weather_rainy                      0\n",
       "Weather_stormy                     0\n",
       "Weather_sunny                      0\n",
       "Weather_windy                      0\n",
       "Traffic Condition_Dense Traffic    0\n",
       "Traffic Condition_Flow Traffic     0\n",
       "dtype: int64"
      ]
     },
     "execution_count": 5,
     "metadata": {},
     "output_type": "execute_result"
    }
   ],
   "source": [
    "df.info()\n",
    "df.describe()\n",
    "df.isnull().sum()"
   ]
  },
  {
   "cell_type": "code",
   "execution_count": 6,
   "id": "d0b99b9d",
   "metadata": {},
   "outputs": [],
   "source": [
    "df=df.dropna()"
   ]
  },
  {
   "cell_type": "code",
   "execution_count": 7,
   "id": "8248f617",
   "metadata": {},
   "outputs": [],
   "source": [
    "df = df.drop(columns=[\"User ID\", \"User Name\", \"Driver Name\", \"key\", \"pickup_datetime\"], errors='ignore')\n"
   ]
  },
  {
   "cell_type": "code",
   "execution_count": 8,
   "id": "e554cfd9",
   "metadata": {},
   "outputs": [
    {
     "data": {
      "text/plain": [
       "fare_amount               0\n",
       "pickup_longitude     396749\n",
       "pickup_latitude         244\n",
       "dropoff_longitude    396747\n",
       "dropoff_latitude        247\n",
       "passenger_count           0\n",
       "hour                      0\n",
       "day                       0\n",
       "month                     0\n",
       "weekday                   0\n",
       "year                      0\n",
       "jfk_dist                  0\n",
       "ewr_dist                  0\n",
       "lga_dist                  0\n",
       "sol_dist                  0\n",
       "nyc_dist                  0\n",
       "distance                  0\n",
       "bearing              209352\n",
       "pickup_hour               0\n",
       "pickup_day                0\n",
       "pickup_weekday            0\n",
       "pickup_month              0\n",
       "pickup_year               0\n",
       "is_weekend                0\n",
       "is_rush_hour              0\n",
       "dtype: int64"
      ]
     },
     "execution_count": 8,
     "metadata": {},
     "output_type": "execute_result"
    }
   ],
   "source": [
    "numeric_df = df.select_dtypes(include=['number'])\n",
    "\n",
    "(numeric_df <0).sum()\n"
   ]
  },
  {
   "cell_type": "code",
   "execution_count": 9,
   "id": "fd2e9446",
   "metadata": {},
   "outputs": [],
   "source": [
    " df = df[df[\"fare_amount\"]>0]\n"
   ]
  },
  {
   "cell_type": "code",
   "execution_count": 10,
   "id": "8bdeb252",
   "metadata": {},
   "outputs": [],
   "source": [
    "X_train= df.drop('fare_amount', axis=1)\n",
    "y_train= df['fare_amount']\n"
   ]
  },
  {
   "cell_type": "code",
   "execution_count": 11,
   "id": "741c2f7b",
   "metadata": {},
   "outputs": [],
   "source": [
    "X_train, X_test, y_train, y_test = train_test_split(\n",
    "    X, y, test_size=0.2, random_state=42)\n",
    "\n"
   ]
  },
  {
   "cell_type": "code",
   "execution_count": 12,
   "id": "110de312",
   "metadata": {},
   "outputs": [],
   "source": [
    "X_train= df.drop('fare_amount', axis=1)\n",
    "y_train= df['fare_amount']\n"
   ]
  },
  {
   "cell_type": "code",
   "execution_count": null,
   "id": "414677c4",
   "metadata": {},
   "outputs": [
    {
     "data": {
      "text/plain": [
       "distance\n",
       "0.000000    14247\n",
       "0.000111        9\n",
       "0.000424        9\n",
       "0.000445        8\n",
       "0.000222        6\n",
       "            ...  \n",
       "1.404709        1\n",
       "0.994184        1\n",
       "7.859324        1\n",
       "0.994470        1\n",
       "1.040272        1\n",
       "Name: count, Length: 485654, dtype: int64"
      ]
     },
     "execution_count": 28,
     "metadata": {},
     "output_type": "execute_result"
    }
   ],
   "source": [
    "df[\"distance\"].value_counts()\n"
   ]
  },
  {
   "cell_type": "code",
   "execution_count": 15,
   "id": "0457322b",
   "metadata": {},
   "outputs": [
    {
     "name": "stdout",
     "output_type": "stream",
     "text": [
      "              feature  importance\n",
      "15           distance    0.785794\n",
      "10           jfk_dist    0.028335\n",
      "16            bearing    0.023486\n",
      "12           lga_dist    0.019810\n",
      "9                year    0.014656\n",
      "21        pickup_year    0.014057\n",
      "3    dropoff_latitude    0.011201\n",
      "2   dropoff_longitude    0.010506\n",
      "14           nyc_dist    0.010340\n",
      "0    pickup_longitude    0.010042\n"
     ]
    }
   ],
   "source": [
    "from sklearn.ensemble import RandomForestRegressor\n",
    "model = RandomForestRegressor(n_estimators=10, random_state=42)\n",
    "model.fit(X_train, y_train)\n",
    "\n",
    "importances = model.feature_importances_\n",
    "\n",
    "feature_importance_df = pd.DataFrame({\n",
    "    'feature': X.columns,\n",
    "    'importance': importances\n",
    "}).sort_values(by='importance', ascending=False)\n",
    "\n",
    "print(feature_importance_df.head(10))\n"
   ]
  },
  {
   "cell_type": "code",
   "execution_count": null,
   "id": "1af6cc4f",
   "metadata": {},
   "outputs": [],
   "source": [
    "from sklearn.feature_selection import SelectKBest, mutual_info_classif\n",
    "selector = SelectKBest(score_func=mutual_info_classif, k=5)\n",
    "X_new = selector.fit_transform(X_encoded, y_encoded)\n",
    "featureScores = pd.concat([dfcolumns, dfscores], axis=1)\n",
    "print(featureScores.sort_values(by='Score', ascending=False))"
   ]
  },
  {
   "cell_type": "code",
   "execution_count": null,
   "id": "f6d7b0d2",
   "metadata": {},
   "outputs": [],
   "source": []
  },
  {
   "cell_type": "code",
   "execution_count": 20,
   "id": "7005cfaf",
   "metadata": {},
   "outputs": [],
   "source": [
    "selected_features = [\n",
    "    'distance', 'jfk_dist', 'bearing', 'lga_dist', 'year',\n",
    "    'pickup_year', 'dropoff_latitude', 'dropoff_longitude', 'nyc_dist', 'pickup_longitude'\n",
    "]\n",
    "\n",
    "X_train = df[selected_features]\n",
    "y_train = df['fare_amount']\n",
    "\n",
    "X_test = df[selected_features]\n",
    "y_test = df['fare_amount']"
   ]
  },
  {
   "cell_type": "code",
   "execution_count": 22,
   "id": "a700b9fb",
   "metadata": {},
   "outputs": [
    {
     "name": "stdout",
     "output_type": "stream",
     "text": [
      " RMSE: 2.5421\n",
      "R²: 0.8526\n"
     ]
    }
   ],
   "source": [
    "import xgboost as xgb\n",
    "model = xgb.XGBRegressor(n_estimators=100, learning_rate=0.1, max_depth=5, n_jobs=-1)\n",
    "model.fit(X_train, y_train)\n",
    "\n",
    "y_pred = model.predict(X_test)\n",
    "\n",
    "from sklearn.metrics import mean_squared_error, r2_score\n",
    "import numpy as np\n",
    "\n",
    "rmse = np.sqrt(mean_squared_error(y_test, y_pred))\n",
    "r2 = r2_score(y_test, y_pred)\n",
    "\n",
    "print(f\" RMSE: {rmse:.4f}\")\n",
    "print(f\"R²: {r2:.4f}\")\n"
   ]
  },
  {
   "cell_type": "code",
   "execution_count": 25,
   "id": "9a9b0423",
   "metadata": {},
   "outputs": [
    {
     "name": "stdout",
     "output_type": "stream",
     "text": [
      " RMSE: 1.1401\n",
      "R²: 0.9704\n"
     ]
    }
   ],
   "source": [
    "\n",
    "model = RandomForestRegressor(n_estimators=10, random_state=42)\n",
    "model.fit(X_train, y_train)\n",
    "y_pred = model.predict(X_test)\n",
    "rmse = np.sqrt(mean_squared_error(y_test, y_pred))\n",
    "r2 = r2_score(y_test, y_pred)\n",
    "\n",
    "print(f\" RMSE: {rmse:.4f}\")\n",
    "print(f\"R²: {r2:.4f}\")\n"
   ]
  },
  {
   "cell_type": "code",
   "execution_count": null,
   "id": "dbda4f6c",
   "metadata": {},
   "outputs": [],
   "source": []
  }
 ],
 "metadata": {
  "kernelspec": {
   "display_name": "Python 3",
   "language": "python",
   "name": "python3"
  },
  "language_info": {
   "codemirror_mode": {
    "name": "ipython",
    "version": 3
   },
   "file_extension": ".py",
   "mimetype": "text/x-python",
   "name": "python",
   "nbconvert_exporter": "python",
   "pygments_lexer": "ipython3",
   "version": "3.13.1"
  }
 },
 "nbformat": 4,
 "nbformat_minor": 5
}
